{
 "cells": [
  {
   "cell_type": "markdown",
   "id": "cb38e16c",
   "metadata": {},
   "source": [
    "# Project execution example"
   ]
  },
  {
   "cell_type": "markdown",
   "id": "5457afdd",
   "metadata": {},
   "source": [
    "**This version of the walkthrough file is adjusted for running in a replication capsule.**\n",
    "The only differences to the main walkthrough file are the use of edited raw data and parallel executions of the classification method.\n",
    "\n",
    "The raw PatentsView and USPTO files are edited by removing rows that fall outside of the filing date/issue date ranges of 2010 to 2016, the columns and structure of the files remains unchanged otherwise.\n",
    "\n",
    "The parallel version of the classification methods are used here to save computing time on servers.\n",
    "\n",
    "**---**"
   ]
  },
  {
   "cell_type": "markdown",
   "id": "fe0d8800",
   "metadata": {},
   "source": [
    "The 2014 *Alice Corp. v. CLS Bank International* Supreme Court decision [573 U.S. 208 (2014)] (*Alice* decision) weakened the enforceability of existing software patents and limited the patentability of new software-related innovations.  I introduce a novel approach that directly uses the patent claim language of patent applications that were rejected due to the *Alice* decision to train a binary natural language processing (NLP) classification algorithm and identify claim language that is not eligible after *Alice* anymore.  The advantage of this method is that I can predict for a large set of patents whether they are invalid and identify treated firms by measuring the share of invalid patents in patent portfolios before the *Alice* shock.  "
   ]
  },
  {
   "cell_type": "markdown",
   "id": "5e9a54a8",
   "metadata": {},
   "source": [
    "This notebook is a walkthrough of the Alice patent classification project from the definition of the training data and fitting of the NLP models to the classification of patent claims of exisiting patents.  The methods for each step are in the patent_classification_project package.  The different modules of the package are also executable files and contain beside a main method also other useful comments and code variations. "
   ]
  },
  {
   "cell_type": "markdown",
   "id": "1b4994d6",
   "metadata": {},
   "source": [
    "The models and steps in this file below build up on each other.  The sequence of the execution is as follows:\n",
    "1) **claim_text_extractions_for_training.py**: load patent application texts from USPTO websites that are related to rejected applications due to Alice and control texts from patents in same class and cohort.\n",
    "2) **training_data_build.py**: uses the downloaded application and patent texts to prepare training data for the NLP model fitting.\n",
    "3) **NLP_model_building.py**: build, fit, and evaluate the NLP classification model to estimate whether a patent claim text is invalid after *Alice*.\n",
    "4) **patent_claim_classification.py**: classify claim texts of issued patent in PatentsViews whether they are invalid after *Alice*.\n",
    "\n",
    "The package also contains the method **application_pregrant_pub_claim_classification.py** which uses the trained NLP model to classify claim texts of application pre-grant publications in PatentsView.\n",
    "\n",
    "The module **classification_testing.py** is an optional program file that I run as the last step in this file to test that the classification method indeed performs better than using just CPC groups to identify patents that are likely invalid after *Alice*.  The module loads the classification outcomes and defines a patent as treated if the first claim is classified as invalid.  The first claim of a patent is ususally the broadest in the patent and thus deterimnes the overall scope of the patent.  I then plot the patent issuances for treated and untreated patents over time and run several difference-in-differences regression models that show how patents classified as invalid are indeed less likely to be issued after *Alice*."
   ]
  },
  {
   "cell_type": "markdown",
   "id": "0aab735b",
   "metadata": {},
   "source": [
    "The methods that load claim texts from USPTO sites and classify the text can be run parallel since PatentsView has separate files for respective pre-grant publication and issue years.  In the current modules of the package, I commented out the parallel version since I will run the files on my local desktop machine.  The parallel methods are most useful on servers when classifying many more patents than in this example.  "
   ]
  },
  {
   "cell_type": "markdown",
   "id": "48c0c60f",
   "metadata": {},
   "source": [
    "The package also contains the working directory for the project.  In the working directory, relevant downloaded patent data, as well as the classification outputs and the analysis outputs such as wordclouds and performance reports for NLP models are saved.  The storage space required can become quite big (for example, my local working directoy take up almost 40 GB).  Especially the 'PatentsView_raw_data' folder can take up a lot of space since large data files with patent information are downloaded from PatentsView (https://patentsview.org/download/data-download-tables) and stored here.  \n",
    "\n",
    "If storage limitation are a concern, limit the executions to only the variants of the patent classification that are truly needed.  You can also adjust the code to store only relevant information such as CPC-based classications instead of both USPC and CPC-based.  Finally, to really save storage space, pre-download the relevant patent information from PatentsView, edit the data file to only include the needed columns, and adjust the code to load only the pre-edited PatentsView data.   "
   ]
  },
  {
   "cell_type": "markdown",
   "id": "9b4e6ab5",
   "metadata": {},
   "source": [
    "For this project, all data are sourced from the United States Patent and Trademark Office (USPTO), www.uspto.gov, and PatentsView, https://patentsview.org/download/data-download-tables.  Especially the research datasets release by the Office of the Chief Economist of the USPTO, www.uspto.gov/ip-policy/economic-research/research-datasets, are valuable sourced for this project.  The Patent Examination Research Dataset (PatEx), www.uspto.gov/ip-policy/economic-research/research-datasets/patent-examination-research-dataset-public-pair, is the source for application data.  The Office Action Research Dataset for Patents, www.uspto.gov/ip-policy/economic-research/research-datasets/office-action-research-dataset-patents, is the source for office actions and rejection data.  The Office Action Research Dataset is based on the research in Lu, Qiang and Myers, Amanda F. and Beliveau, Scott, USPTO Patent Prosecution Research Data: Unlocking Office Action Traits (November 20, 2017). USPTO Economic Working Paper No. 2017-10.\n",
    "\n",
    "Research data from the USPTO website are in the public domain, and PatentsView data are licensed under a Creative Commons Attribution 4.0 License."
   ]
  },
  {
   "cell_type": "markdown",
   "id": "5b85e817",
   "metadata": {},
   "source": [
    "## 0) Setup"
   ]
  },
  {
   "cell_type": "markdown",
   "id": "7606e861",
   "metadata": {},
   "source": [
    "Before the actual execution of the project, we load some useful packages and define the home directory.  As noted above, the project is quite storage intensive and can use up more than 30GB.\n",
    "\n",
    "In the rest of the script, I removed for readability code segments that load PatentsView data and USPTO data from the website.  I assume those are already downloaded and in the right folders.  The relevant request and unzipping methods are in the underlying code modules. \n",
    "\n",
    "In case of an error, check the method files.  The URLs and the structure of the data on the USPTO websites sometimes changes which can cause issues."
   ]
  },
  {
   "cell_type": "code",
   "execution_count": 77,
   "id": "442a58c8",
   "metadata": {},
   "outputs": [
    {
     "name": "stdout",
     "output_type": "stream",
     "text": [
      "The autoreload extension is already loaded. To reload it, use:\n",
      "  %reload_ext autoreload\n"
     ]
    }
   ],
   "source": [
    "%load_ext autoreload\n",
    "%autoreload 2"
   ]
  },
  {
   "cell_type": "code",
   "execution_count": 1,
   "id": "b4235bc9",
   "metadata": {},
   "outputs": [],
   "source": [
    "import pandas as pd\n",
    "import numpy as np\n",
    "import re\n",
    "import os\n",
    "\n",
    "import zipfile\n",
    "import csv\n",
    "\n",
    "import pickle\n",
    "import joblib\n",
    "import json\n",
    "\n",
    "import seaborn as sns\n",
    "import matplotlib.pyplot as plt\n",
    "\n",
    "import multiprocessing as mp #-> for parallel execution on the capsule\n",
    "\n",
    "from IPython import display\n",
    "\n",
    "import statsmodels.formula.api as sm\n",
    "from statsmodels.formula.api import poisson\n",
    "from statsmodels.formula.api import negativebinomial\n",
    "from linearmodels import PanelOLS    \n",
    "\n",
    "# For readability, disable also warnings\n",
    "import warnings\n",
    "warnings.filterwarnings('ignore') \n",
    "\n",
    "# Expand field limit to iterate through all claims\n",
    "import ctypes\n",
    "csv.field_size_limit(int(ctypes.c_ulong(-1).value // 2))\n",
    "csv.field_size_limit()\n",
    "\n",
    "# Define the home directory.  For this walkthrough, relevant subfolders are already created\n",
    "#home_directory = os.getcwd()\n",
    "home_directory = '/root/capsule/data/working directory' #-> change this to the working directory you want to work in\n",
    "os.chdir(home_directory)\n",
    "\n",
    "# Define name of the directoy which stores raw data from PatentsView\n",
    "#PatentsView_directory = 'PatentsView_raw_data'\n",
    "# For the capsule, use edited files that remove rows outside of the range between 2010 and 2017.\n",
    "PatentsView_directory = 'edited_PatentsView_raw_data'\n",
    "\n",
    "# Define the directory for all USPTO data that are not from PatentsView\n",
    "# USPTO_data_directory = 'USPTO_raw_data'\n",
    "# Note: to save time, both of these subfolders were already created and populated with the relevant data\n",
    "USPTO_data_directory = 'edited_USPTO_raw_data'\n",
    "\n",
    "# For replicability in capsule, set as output directory\n",
    "result_directory = '/root/capsule/results'\n",
    "\n",
    "# Set seed\n",
    "RANDOM_SEED = 42"
   ]
  },
  {
   "cell_type": "markdown",
   "id": "e0e6fdaf",
   "metadata": {},
   "source": [
    "The 'home_directory' is the path where the data and model outputs are stored.  In this example, I set it to 'working directory', if the files are run individually, the default is the current working directory.  Note again that the size of the folder can become very large.\n",
    "\n",
    "As mentioned earlier, I assume the two folder with raw data, 'PatentsView_directory' and 'USPTO_data_directory', exist already as subfolders of the 'home_directory'.  I recommend downloading the relevant data from PatentsView and the USPTO research datasets before and unpacking them into these two folder before running the program.  The list of relevant data files is below:"
   ]
  },
  {
   "cell_type": "markdown",
   "id": "d820533e",
   "metadata": {},
   "source": [
    "- *USPTO_raw_data* - Folder with all relevant [USPTO research datasets](https://www.uspto.gov/ip-policy/economic-research/research-datasets):\n",
    "  - *application_data_2017.csv* - [2017 vintage PatEx application research data](https://bulkdata.uspto.gov/data/patent/pair/economics/2017/application_data.csv.zip).\n",
    "  - *application_data_2020.csv* - [2020 vintage PatEx application research data](https://bulkdata.uspto.gov/data/patent/pair/economics/2020/application_data.csv.zip), this dataset should be downloaded manually!\n",
    "  - *office_actions_uspto_research_2017.csv* - [office action research dataset](https://bulkdata.uspto.gov/data/patent/office/actions/bigdata/2017/office_actions.csv.zip).\n",
    "  - *rejections_uspto_research_2017.csv* - [rejections in office action research dataset](https://bulkdata.uspto.gov/data/patent/office/actions/bigdata/2017/rejections.csv.zip).\n",
    "- *PatentsView_raw_data* - Folder with relevant [data table from PatentsView](https://patentsview.org/download/data-download-tables).\n",
    "  - *application_pregrant_publication.tsv* - [published application data](https://s3.amazonaws.com/data.patentsview.org/pregrant_publications/pg_published_application.tsv.zip).\n",
    "  - *cpc_current_PatentsView.tsv* - [current CPC classifications of granted patents](https://s3.amazonaws.com/data.patentsview.org/download/g_cpc_current.tsv.zip).\n",
    "  - *cpc_current_pregrant_publication.tsv* - [current CPC classification data for all applications](https://s3.amazonaws.com/data.patentsview.org/pregrant_publications/pg_cpc_at_issue.tsv.zip).\n",
    "  - *patent.tsv* - [data on granted patents](https://s3.amazonaws.com/data.patentsview.org/download/g_patent.tsv.zip), this file is optional and only used for the classification testing.\n",
    "  - *uspc_current_PatentsView.tsv* - [current USPC classification for granted patents](https://s3.amazonaws.com/data.patentsview.org/download/uspc_current.tsv.zip), this is a legacy file and probably will not be available forever, replace it with [uspc_at_issue](https://s3.amazonaws.com/data.patentsview.org/download/g_uspc_at_issue.tsv.zip) if needed.\n",
    "  - *uspc_pregrant_publication.tsv* - [current USPC classification published applications](https://s3.amazonaws.com/data.patentsview.org/pregrant_publications/pg_uspc_at_issue.tsv.zip), similar as above this is a legacy file and my need to be replace by [uspc_at_issue](https://s3.amazonaws.com/data.patentsview.org/pregrant_publications/pg_uspc_at_issue.tsv.zip)."
   ]
  },
  {
   "cell_type": "markdown",
   "id": "47ad7f4e",
   "metadata": {},
   "source": [
    "Note that in the rest of the script the text loading and classification methods are executed linearly.  In the underlying modules, the methods have parallel versions in comments.  I recommend only executing these methods parallel on a Linux servers with fewer resource restriction in terms of memory and storage.  For debugging, linear version are useful, as well as for executions on desktop computers with more resource constraints. "
   ]
  },
  {
   "cell_type": "markdown",
   "id": "b723be37",
   "metadata": {},
   "source": [
    "## 1) Load claim texts for model training"
   ]
  },
  {
   "cell_type": "markdown",
   "id": "7eaef13a",
   "metadata": {},
   "source": [
    "The first step of the project load claim texts of applications that were rejected due to *Alice* and control text of issued patents from the same USPC and filing years as reject application.  "
   ]
  },
  {
   "cell_type": "code",
   "execution_count": 7,
   "id": "dd1a49c9",
   "metadata": {},
   "outputs": [],
   "source": [
    "from PyPatentAlice import claim_text_extractions_for_training\n",
    "\n",
    "# Set module shared parameters in local namespace\n",
    "claim_text_extractions_for_training.home_directory = home_directory\n",
    "claim_text_extractions_for_training.PatentsView_directory = PatentsView_directory\n",
    "claim_text_extractions_for_training.USPTO_data_directory = USPTO_data_directory\n",
    "claim_text_extractions_for_training.RANDOM_SEED = RANDOM_SEED"
   ]
  },
  {
   "cell_type": "markdown",
   "id": "9e250a07",
   "metadata": {},
   "source": [
    "I limit in this example to applications publications in the years 2013 and 2014, thus in the year of the *Alice* decision and the year prior.  This means that application texts, which are usually published within 18 months of the filing date, are very recent and not adjusted for by the application following the decision."
   ]
  },
  {
   "cell_type": "code",
   "execution_count": 4,
   "id": "a6d7a2aa",
   "metadata": {},
   "outputs": [],
   "source": [
    "min_year_training_data = 2013\n",
    "max_year_training_data = 2014\n",
    "\n",
    "# Define output path\n",
    "output_path = 'claim_extraction'\n",
    "\n",
    "if not os.path.exists(output_path):\n",
    "    os.makedirs(output_path)"
   ]
  },
  {
   "cell_type": "markdown",
   "id": "beabd047",
   "metadata": {},
   "source": [
    "I use Office Action Research Dataset for Patents data from the USPTO, based on Lu et al. (2017) to find applications that mention the *Alice* decision as reason for rejection.  This provides a list of pre-grant publication IDs of reject applications that are the basis for the the treated sample of texts.\n",
    "\n",
    "There are several other court decision prior to *Alice* that also changed the patentability of certain inventions.  The research dataset also identifies rejectsion related to the *Bilski*, *Mayo*, and *Myriad* decision.  My project can be used to also classify patents for each or all of these events, but I restrict here to rejections due to *Alice*."
   ]
  },
  {
   "cell_type": "code",
   "execution_count": 5,
   "id": "ebcea661",
   "metadata": {},
   "outputs": [],
   "source": [
    "# Use office action research dataset from Chief Economist of USPTO to indentify treated applications\n",
    "# source: https://www.uspto.gov/learning-and-resources/electronic-data-products/office-action-research-dataset-patents\n",
    "rejections = pd.read_csv(USPTO_data_directory \n",
    "                         + '/rejections_uspto_research_2017.csv', low_memory=False)\n",
    "\n",
    "#----------------------------------------\n",
    "# Data on application in Patent View\n",
    "application = pd.read_csv(\n",
    "    PatentsView_directory + '/application_pregrant_publication.tsv', \n",
    "    delimiter=\"\\t\", quoting=csv.QUOTE_NONNUMERIC, low_memory=False)\n",
    "\n",
    "application['document_number'] = application.pgpub_id\n",
    "application['app_id'] = pd.to_numeric(application.application_id,\n",
    "                                        downcast = 'integer', errors = 'coerce')\n",
    "application['filing_date_dt'] = pd.to_datetime(application['filing_date'], \n",
    "                                               errors='coerce')\n",
    "application['filing_year'] = application.filing_date_dt.dt.year\n",
    "\n",
    "#===================================\n",
    "# Define rejections due to Alice\n",
    "alice_condition = (rejections.alice_in == 1)\n",
    "alice_rejections = rejections[alice_condition].copy()"
   ]
  },
  {
   "cell_type": "markdown",
   "id": "e8d2c23b",
   "metadata": {},
   "source": [
    "Control texts are from published patents in PatentsView from the same filing years and USPC classes as the rejected applications.  The method also downloads pre-grant publications of applications from the same filing-USPC class cohort wihtout office actions that were eventually granted.  These pre-grant publications are arguably even more comparable to the treated pre-grant claims and we can vary the classification method to use those text instead of the text of the issued control patents.  "
   ]
  },
  {
   "cell_type": "code",
   "execution_count": 9,
   "id": "be2bdce6",
   "metadata": {
    "scrolled": true
   },
   "outputs": [
    {
     "name": "stdout",
     "output_type": "stream",
     "text": [
      "Start control Claim Full Text extraction for Alice only\n",
      "\t Load relevant data\n",
      "\t Control patent contruction\n",
      "\tUSPC main classes in rejections:\n",
      "uspc_class_str\n",
      "705    30295\n",
      "463     3630\n",
      "702     2450\n",
      "709     2200\n",
      "707     1226\n",
      "701     1184\n",
      "726     1118\n",
      "435      922\n",
      "434      857\n",
      "704      834\n",
      "Name: count, dtype: int64\n",
      "\t Number of extractable control applications from PatentsView Pre-grant applications: 182574\n",
      "\t Start control claim extraction from PatentsView Pre-grant application for Alice and year 2013\n",
      "\n",
      "\t Search application claims for year 2013\n",
      "\t Lenght of output DF of independent application claims for type PatentsView_PregrantApp_ControlPatents_Alice, year 2013: 43715\n",
      "\t Start control claim extraction from PatentsView Pre-grant application for Alice and year 2014\n",
      "\n",
      "\t Search application claims for year 2014\n",
      "\t Lenght of output DF of independent application claims for type PatentsView_PregrantApp_ControlPatents_Alice, year 2014: 49069\n",
      "\t Number of extractable control patent from PatentsView: 429048\n",
      "\t\t Number of Cores: 16\n",
      "\t Start control claim extraction from PatentsView for Alice and year 2014\n",
      "\n",
      "\t Search patent claims for type PatentsView_ControlPatents_Alice, year 2014\n",
      "\t Lenght of output DF of independent claims for type PatentsView_ControlPatents_Alice, year 2014: 139711\n",
      "\t Start control claim extraction from PatentsView for Alice and year 2015\n",
      "\n",
      "\t Search patent claims for type PatentsView_ControlPatents_Alice, year 2015\n",
      "\t Lenght of output DF of independent claims for type PatentsView_ControlPatents_Alice, year 2015: 264737\n",
      "\t Start control claim extraction from PatentsView for Alice and year 2016\n",
      "\n",
      "\t Search patent claims for type PatentsView_ControlPatents_Alice, year 2016\n",
      "\t Lenght of output DF of independent claims for type PatentsView_ControlPatents_Alice, year 2016: 278586\n",
      "\t Start control claim extraction from PatentsView for Alice and year 2017\n",
      "\n",
      "\t Search patent claims for type PatentsView_ControlPatents_Alice, year 2017\n",
      "\t Lenght of output DF of independent claims for type PatentsView_ControlPatents_Alice, year 2017: 294710\n",
      "\t Start control claim extraction from PatentsView for Alice and year 2018\n",
      "\n",
      "\t Search patent claims for type PatentsView_ControlPatents_Alice, year 2018\n",
      "\t Lenght of output DF of independent claims for type PatentsView_ControlPatents_Alice, year 2018: 155974\n"
     ]
    }
   ],
   "source": [
    "print('Start control Claim Full Text extraction for Alice only')\n",
    "\n",
    "claim_text_extractions_for_training.control_patent_claim_fulltext_extraction(\n",
    "    rejections_data=alice_rejections,\n",
    "    application=application,\n",
    "    nclasses=50,\n",
    "    output_path=output_path,\n",
    "    min_year=min_year_training_data,\n",
    "    max_year=max_year_training_data,\n",
    "    output_name='Alice')"
   ]
  },
  {
   "cell_type": "code",
   "execution_count": 10,
   "id": "2d61346f",
   "metadata": {},
   "outputs": [
    {
     "name": "stdout",
     "output_type": "stream",
     "text": [
      "Start rejected Claim Full Text extraction for Alice only\n",
      "\t Number of extractable application with rejections by Alice only: 32361\n",
      "\t Start rejected claim extraction for Alice only for year 2013\n",
      "\n",
      "\t Search application claims for year 2013\n",
      "\t Lenght of output DF of independent application claims for type Alice, year 2013: 21354\n",
      "\t Start rejected claim extraction for Alice only for year 2014\n",
      "\n",
      "\t Search application claims for year 2014\n",
      "\t Lenght of output DF of independent application claims for type Alice, year 2014: 33919\n"
     ]
    }
   ],
   "source": [
    "print('Start rejected Claim Full Text extraction for Alice only')\n",
    "\n",
    "# Coerce to app_id to integer => all relevant app_ids are digits\n",
    "alice_rejections['app_id_int'] = pd.to_numeric(alice_rejections.app_id, \n",
    "                                               downcast = 'integer', errors = 'coerce')\n",
    "\n",
    "\n",
    "# Find document numbers from PatentsView Pre-grant application data\n",
    "alice_rejections_application_with_doc_num = application[\n",
    "    application.app_id.isin(list(alice_rejections.app_id_int))][\n",
    "        ['app_id', 'document_number', 'filing_date_dt', 'filing_year']].drop_duplicates()\n",
    "\n",
    "print('\\t Number of extractable application with rejections by Alice only: '\\\n",
    "      + str(len(alice_rejections_application_with_doc_num)), flush=True)\n",
    "\n",
    "#^^^^^^^^^^^^^^^^^^^^^^^^^^^^^^^^^^^^^^^^^^^^^\n",
    "# Linear Execution\n",
    "for year in range(min_year_training_data, max_year_training_data+1):\n",
    "    print('\\t Start rejected claim extraction for Alice only for year '\\\n",
    "          + str(year) + '\\n')\n",
    "    claim_text_extractions_for_training.application_claim_PatentView(\n",
    "        year=year,\n",
    "        app_df=alice_rejections_application_with_doc_num,\n",
    "        output_path=output_path,\n",
    "        output_name='Alice')                        "
   ]
  },
  {
   "cell_type": "markdown",
   "id": "99eb66ca",
   "metadata": {},
   "source": [
    "## 2) Build training data for model fitting"
   ]
  },
  {
   "cell_type": "markdown",
   "id": "cdf78284",
   "metadata": {},
   "source": [
    "Next, we structure the downloaded treated and control claim text data to a data frame that can be used for model fitting.  The method also provides the main USPC classes of treated applaction, that is the four primary USPC classes that are most frequent among applications rejected due to *Alice*."
   ]
  },
  {
   "cell_type": "code",
   "execution_count": 13,
   "id": "0318c4f2",
   "metadata": {},
   "outputs": [],
   "source": [
    "from PyPatentAlice import training_data_build\n",
    "\n",
    "# Set module shared parameters in local namespace\n",
    "training_data_build.home_directory = home_directory\n",
    "training_data_build.PatentsView_directory = PatentsView_directory\n",
    "training_data_build.USPTO_data_directory = USPTO_data_directory\n",
    "training_data_build.RANDOM_SEED = RANDOM_SEED"
   ]
  },
  {
   "cell_type": "markdown",
   "id": "12bab9c7",
   "metadata": {},
   "source": [
    "The method cleans the data by, for example, ensuring the treated applications are really rejections due to *Alice*, removing cancelled claims from the data, and that control claim texts are from patents published after the *Alice* decision.  The training data then are restricted to the top four USPC classes in rejection data.  These four USPC classes account for ca, 91% of all rejected applications due to *Alice*.  \n",
    "\n",
    "\n",
    "To balance the training data, control texts are drawn proportionally to the USPC class and filing year distribution as in the treated claim data.  If there are too few control claim texts in the data, which can happen when using pre-grant publications as control texts, the method can also resample the control claims with replacement."
   ]
  },
  {
   "cell_type": "code",
   "execution_count": 14,
   "id": "b1e4fce6",
   "metadata": {},
   "outputs": [
    {
     "name": "stdout",
     "output_type": "stream",
     "text": [
      "\t\t Number of Alice Rejections Raw 52277\n",
      "\t\t Number of Alice Rejections with no other injections 7134\n",
      "\t\t Number of unique application ids with Alice Rejections with no other injections 5147\n",
      "\t\t Number of Alice Treated independent claims 8302\n",
      "\t\t Number of unique application ids with Alice Treated independent claims 2395\n",
      "\t\t Number of treated claims from the right pre-grant publication document 8300\n",
      "\t\t Number of treated claims from abandoned application status 3322\n",
      "\t\t Number of treated claims purged for illogical dates 3320\n",
      "\t\t Number of uncancelled treated claims 3276\n",
      "\t Use for control claim construction the PatentsView claim texts\n",
      "\t\t Number of control claims from PatentsView 1133726\n",
      " \t Alice unique treated claims before class selections: \n",
      "2196\n",
      " \t Unique control claims before class selections: \n",
      "1132844\n",
      "\t\t Count of Alice classes\n",
      "uspc_class_str\n",
      "705    1640\n",
      "463     235\n",
      "702     104\n",
      "434      45\n",
      "703      15\n",
      "704      15\n",
      "709      14\n",
      "707      13\n",
      "273      11\n",
      "708      11\n",
      "Name: count, dtype: int64\n",
      "\t\t Cumsum of Alice classes\n",
      "uspc_class_str\n",
      "705    0.746812\n",
      "463    0.853825\n",
      "702    0.901184\n",
      "434    0.921676\n",
      "703    0.928506\n",
      "704    0.935337\n",
      "709    0.941712\n",
      "707    0.947632\n",
      "273    0.952641\n",
      "708    0.957650\n",
      "Name: proportion, dtype: float64\n",
      "\t USPC main classes for patent: \n",
      "['434', '463', '705', '702']\n",
      "\t\t Number of treated claims in main class 2024 and control claims 30133\n",
      "\t\t Number of control claims issued after the Alice decision 30133\n",
      " \t Control USPC Classes count: \n",
      "uspc_class_str\n",
      "463    9896\n",
      "705    9089\n",
      "702    8882\n",
      "434    2266\n",
      "Name: count, dtype: int64\n",
      " \t Control Filing years count: \n",
      "filing_date_dt\n",
      "2013    6341\n",
      "2014    5934\n",
      "2012    4793\n",
      "2015    4657\n",
      "2011    3559\n",
      "2016    2594\n",
      "2010    2255\n",
      "Name: count, dtype: int64\n",
      " \t Alice USPC Classes count: \n",
      "uspc_class_str\n",
      "705    0.810277\n",
      "463    0.116107\n",
      "702    0.051383\n",
      "434    0.022233\n",
      "Name: proportion, dtype: float64\n",
      " \t Alice Filing years count: \n",
      "filing_date_dt\n",
      "2013    0.434289\n",
      "2012    0.321146\n",
      "2014    0.148715\n",
      "2011    0.095850\n",
      "Name: proportion, dtype: float64\n",
      " \t Alice year and type counts: \n",
      "   uspc_class_str  filing_data_year  count\n",
      "0             434              2011      2\n",
      "1             434              2012     20\n",
      "2             434              2013     14\n",
      "3             434              2014      9\n",
      "4             463              2011     17\n",
      "5             463              2012     39\n",
      "6             463              2013    124\n",
      "7             463              2014     55\n",
      "8             702              2011     13\n",
      "9             702              2012     35\n",
      "10            702              2013     48\n",
      "11            702              2014      8\n",
      "12            705              2011    162\n",
      "13            705              2012    556\n",
      "14            705              2013    693\n",
      "15            705              2014    229\n",
      " \t Unique App_id + Claim Number repetitions in balanced controls: \n",
      "unique_claim_id\n",
      "14220799.0_1.0     1\n",
      "13831103.0_9.0     1\n",
      "13152641.0_17.0    1\n",
      "14202993.0_14.0    1\n",
      "14071247.0_1.0     1\n",
      "13545196.0_1.0     1\n",
      "13495392.0_1.0     1\n",
      "14053422.0_17.0    1\n",
      "13886786.0_13.0    1\n",
      "13924085.0_1.0     1\n",
      "Name: count, dtype: int64\n",
      " \t Alice USPC Classes control group: \n",
      "uspc_class_str\n",
      "705               0.787055\n",
      "463               0.156621\n",
      "702               0.051383\n",
      "434               0.004941\n",
      "Name: proportion, dtype: float64\n",
      " \t Alice USPC Classes treated group: \n",
      "uspc_class_str\n",
      "705               0.810277\n",
      "463               0.116107\n",
      "702               0.051383\n",
      "434               0.022233\n",
      "Name: proportion, dtype: float64\n",
      " \t Alice Filing years control group: \n",
      "filing_data_year\n",
      "2013                0.494565\n",
      "2012                0.263340\n",
      "2014                0.174407\n",
      "2011                0.067688\n",
      "Name: proportion, dtype: float64\n",
      " \t Alice Filing years treated group: \n",
      "filing_data_year\n",
      "2013                0.434289\n",
      "2012                0.321146\n",
      "2014                0.148715\n",
      "2011                0.095850\n",
      "Name: proportion, dtype: float64\n",
      " \t Count Alice USPC Classes control group: \n",
      "uspc_class_str\n",
      "705               1593\n",
      "463                317\n",
      "702                104\n",
      "434                 10\n",
      "Name: count, dtype: int64\n",
      " \t Count Alice USPC Classes treated group: \n",
      "uspc_class_str\n",
      "705               1640\n",
      "463                235\n",
      "702                104\n",
      "434                 45\n",
      "Name: count, dtype: int64\n",
      " \t Count Alice Filing years control group: \n",
      "filing_data_year\n",
      "2013                1001\n",
      "2012                 533\n",
      "2014                 353\n",
      "2011                 137\n",
      "Name: count, dtype: int64\n",
      " \t Count Alice Filing years treated group: \n",
      "filing_data_year\n",
      "2013                879\n",
      "2012                650\n",
      "2014                301\n",
      "2011                194\n",
      "Name: count, dtype: int64\n",
      " \t Alice year and type counts for balanced control group: \n",
      "   uspc_class_str  filing_data_year  count\n",
      "0             434              2012      4\n",
      "1             434              2013      4\n",
      "2             434              2014      2\n",
      "3             463              2011     10\n",
      "4             463              2012     34\n",
      "5             463              2013    187\n",
      "6             463              2014     86\n",
      "7             702              2011     11\n",
      "8             702              2012     35\n",
      "9             702              2013     49\n",
      "10            702              2014      9\n",
      "11            705              2011    116\n",
      "12            705              2012    460\n",
      "13            705              2013    761\n",
      "14            705              2014    256\n",
      " \t Alice treated data length: 2024\n",
      " \t Unbalanced Control data length: 20627\n",
      " \t Training data length: 4048\n"
     ]
    }
   ],
   "source": [
    "model_data, uspc_main_category = training_data_build.training_data_import(\n",
    "    nclasses=4,\n",
    "    home_directory=os.getcwd(),\n",
    "    specified_uspc_class=['xxx'],\n",
    "    use_specified_uspc_class=False,\n",
    "    text_source='claim_extraction',\n",
    "    replacement=False,\n",
    "    Issued_patent_control=True)\n",
    "\n",
    "\n",
    "# Save the model data and the main categories as .pkl files\n",
    "model_data.to_pickle('model_data_issued_patents_control.pkl')\n",
    "\n",
    "with open('main_classes_issued_patents_control.pkl', 'wb') as fp:\n",
    "    pickle.dump(uspc_main_category, fp)"
   ]
  },
  {
   "cell_type": "markdown",
   "id": "85cd4bdb",
   "metadata": {},
   "source": [
    "As the statistics show, the most affected USPC class is '705'.  This is consistent with the literature and sometimes used as identification for *Alice* affected patents.  However, it is not the only affected class, and CPC groups do not translate easily into USPC classes.  Using this class alone thus would not be enough to identify longrun effects."
   ]
  },
  {
   "cell_type": "markdown",
   "id": "09d58a75",
   "metadata": {},
   "source": [
    "Note that file-paths include 'issue_patent_control' in the name from here on out to signal that issued patent claims from PatentsView are used as control claims."
   ]
  },
  {
   "cell_type": "code",
   "execution_count": 15,
   "id": "9fbf7bb9",
   "metadata": {},
   "outputs": [],
   "source": [
    "# Clean up some memory before continuing\n",
    "del application, alice_rejections_application_with_doc_num, alice_rejections, rejections"
   ]
  },
  {
   "cell_type": "markdown",
   "id": "10273836",
   "metadata": {},
   "source": [
    "## 3) NLP model build"
   ]
  },
  {
   "cell_type": "markdown",
   "id": "c6474207",
   "metadata": {},
   "source": [
    "We use the balanced training sample from above to build the NLP classification model.  The method also evaluate and compares the performance of the model.  "
   ]
  },
  {
   "cell_type": "code",
   "execution_count": 19,
   "id": "99da38ab",
   "metadata": {},
   "outputs": [
    {
     "name": "stderr",
     "output_type": "stream",
     "text": [
      "[nltk_data] Downloading package stopwords to /root/nltk_data...\n",
      "[nltk_data]   Package stopwords is already up-to-date!\n",
      "[nltk_data] Downloading package punkt to /root/nltk_data...\n",
      "[nltk_data]   Unzipping tokenizers/punkt.zip.\n"
     ]
    },
    {
     "data": {
      "text/plain": [
       "True"
      ]
     },
     "execution_count": 19,
     "metadata": {},
     "output_type": "execute_result"
    }
   ],
   "source": [
    "import nltk\n",
    "nltk.download('stopwords')\n",
    "nltk.download('punkt')"
   ]
  },
  {
   "cell_type": "code",
   "execution_count": 20,
   "id": "1c249f5e",
   "metadata": {},
   "outputs": [],
   "source": [
    "from PyPatentAlice import NLP_model_building\n",
    "\n",
    "# Set module shared parameters in local namespace\n",
    "NLP_model_building.home_directory = home_directory\n",
    "NLP_model_building.PatentsView_directory = PatentsView_directory\n",
    "NLP_model_building.USPTO_data_directory = USPTO_data_directory\n",
    "NLP_model_building.RANDOM_SEED = RANDOM_SEED"
   ]
  },
  {
   "cell_type": "markdown",
   "id": "d8f808d8",
   "metadata": {},
   "source": [
    "First, we can visualize for the most frequent words in the training and control texts using word clouds.  This method also created word clouds for the relative differences, that is how more frequent a certain word is in one group compared to the other."
   ]
  },
  {
   "cell_type": "code",
   "execution_count": 21,
   "id": "ab878bc4",
   "metadata": {},
   "outputs": [],
   "source": [
    "# If the model data and main classes are not already in memory from the training data building, relead them here\n",
    "# model_data = pd.read_pickle('model_data_issued_patents_control.pkl')\n",
    "\n",
    "# with open('main_classes_issued_patents_control.pkl', 'rb') as fp:\n",
    "#    main_classes = pickle.load(fp)"
   ]
  },
  {
   "cell_type": "code",
   "execution_count": 22,
   "id": "2fc2f679",
   "metadata": {},
   "outputs": [
    {
     "name": "stdout",
     "output_type": "stream",
     "text": [
      "Data visualiziation with word cloud\n"
     ]
    }
   ],
   "source": [
    "# Word cloud visualization of raw data\n",
    "print('Data visualiziation with word cloud', flush=True)\n",
    "\n",
    "# Output director for word cloud\n",
    "wc_output_directory = 'Wordcloud_issued_patents_control'\n",
    "\n",
    "# Create WC Output Path if not already exist\n",
    "if not os.path.exists(wc_output_directory):\n",
    "    os.makedirs(wc_output_directory)\n",
    "\n",
    "NLP_model_building.wordcloud_creation(model_data,\n",
    "                                      output_version='issued_patents_control',\n",
    "                                      output_directory=wc_output_directory)"
   ]
  },
  {
   "cell_type": "markdown",
   "id": "7b0d29a0",
   "metadata": {},
   "source": [
    "Next, we split the already balanced training data and keep 15% of the data for testing."
   ]
  },
  {
   "cell_type": "code",
   "execution_count": 23,
   "id": "5b916046",
   "metadata": {},
   "outputs": [],
   "source": [
    "# Split sample\n",
    "X_train, X_test, y_train, y_test = NLP_model_building.train_test_split(\n",
    "    model_data['claim_text'],\n",
    "    model_data['treated'],\n",
    "    test_size=0.15,\n",
    "    random_state=RANDOM_SEED,\n",
    "    stratify=model_data['treated'])"
   ]
  },
  {
   "cell_type": "markdown",
   "id": "d643d843",
   "metadata": {},
   "source": [
    "To decide which NLP model to use, we can compare the performance of different models using the same TF-IDF vector representation of the training data as basis.\n",
    "\n",
    "The performance measure outputs are saved directly to latex and csv files.  I turns out, support-vector classification (SVC) performs the best.  "
   ]
  },
  {
   "cell_type": "code",
   "execution_count": 26,
   "id": "21e58337",
   "metadata": {},
   "outputs": [],
   "source": [
    "%%capture\n",
    "# Model Validation with different types of models\n",
    "print('Train and Evaluate Different Types of Models with TF-IDF base', flush=True)\n",
    "\n",
    "#--------------------------------------------\n",
    "# Create Output Directory for various model tests\n",
    "output_different_models_directory = r'TFIDF_several_models_output_issued_patents_control'\n",
    "\n",
    "# Create Output Path if not already exist\n",
    "if not os.path.exists(output_different_models_directory):\n",
    "    os.makedirs(output_different_models_directory)\n",
    "\n",
    "#------------------------------------------\n",
    "# Create DF for score dictionaries\n",
    "performance_df = pd.DataFrame()\n",
    "\n",
    "#-------------------------------------------\n",
    "# Model build and execution\n",
    "print('\\tLogistic Regression', flush=True)\n",
    "_, score_dict = NLP_model_building.tfidf_various_build(\n",
    "    X_train, X_test, y_train, y_test,\n",
    "    output_version='issued_patents_control',\n",
    "    output_directory=output_different_models_directory,\n",
    "    classification_model=NLP_model_building.LogisticRegression(\n",
    "        random_state=RANDOM_SEED),\n",
    "    cls_name='logistic_regression')\n",
    "score_dict.update({'Model Name': 'Logistic Regression'})\n",
    "score = pd.DataFrame([score_dict])\n",
    "performance_df = pd.concat([performance_df, score], ignore_index=True)\n",
    "\n",
    "#^^^^^^^^^^^^^^^^^^^^^^^^^^^^^^^^^^^^^^^^^^^^^^\n",
    "print('\\tNaive Bayesian', flush=True)\n",
    "_, score_dict = NLP_model_building.tfidf_various_build(\n",
    "    X_train, X_test, y_train, y_test,\n",
    "    output_version='issued_patents_control',\n",
    "    output_directory=output_different_models_directory,\n",
    "    classification_model=NLP_model_building.MultinomialNB(),\n",
    "    cls_name='multinomial_NB')\n",
    "score_dict.update({'Model Name': 'Naive Bayes'})\n",
    "score = pd.DataFrame([score_dict])\n",
    "performance_df = pd.concat([performance_df, score], ignore_index=True)\n",
    "\n",
    "#^^^^^^^^^^^^^^^^^^^^^^^^^^^^^^^^^^^^^^^^^^^^^^\n",
    "print('\\tSVC', flush=True)\n",
    "_, score_dict = NLP_model_building.tfidf_various_build(\n",
    "    X_train, X_test, y_train, y_test,\n",
    "    output_version='issued_patents_control',\n",
    "    output_directory=output_different_models_directory,\n",
    "    classification_model=NLP_model_building.SVC(\n",
    "        random_state=RANDOM_SEED,\n",
    "        probability=True),\n",
    "    cls_name='svc_classifier')\n",
    "score_dict.update({'Model Name': 'Support Vector Machine'})\n",
    "score = pd.DataFrame([score_dict])\n",
    "performance_df = pd.concat([performance_df, score], ignore_index=True)\n",
    "\n",
    "#^^^^^^^^^^^^^^^^^^^^^^^^^^^^^^^^^^^^^^^^^^^^^^\n",
    "print('\\tDecision Tree', flush=True)\n",
    "_, score_dict = NLP_model_building.tfidf_various_build(\n",
    "    X_train, X_test, y_train, y_test,\n",
    "    output_version='issued_patents_control',\n",
    "    output_directory=output_different_models_directory,\n",
    "    classification_model=NLP_model_building.DecisionTreeClassifier(\n",
    "        random_state=RANDOM_SEED),\n",
    "    cls_name='decision_tree_classifier')\n",
    "score_dict.update({'Model Name': 'Decision Tree'})\n",
    "score = pd.DataFrame([score_dict])\n",
    "performance_df = pd.concat([performance_df, score], ignore_index=True)\n",
    "\n",
    "#^^^^^^^^^^^^^^^^^^^^^^^^^^^^^^^^^^^^^^^^^^^^^^\n",
    "print('\\tRandom Forest', flush=True)\n",
    "_, score_dict = NLP_model_building.tfidf_various_build(\n",
    "    X_train, X_test, y_train, y_test,\n",
    "    output_version='issued_patents_control',\n",
    "    output_directory=output_different_models_directory,\n",
    "    classification_model=NLP_model_building.RandomForestClassifier(\n",
    "        random_state=RANDOM_SEED),\n",
    "    cls_name='random_forest_classifier')\n",
    "score_dict.update({'Model Name': 'Random Forest'})\n",
    "score = pd.DataFrame([score_dict])\n",
    "performance_df = pd.concat([performance_df, score], ignore_index=True)\n",
    "\n",
    "#^^^^^^^^^^^^^^^^^^^^^^^^^^^^^^^^^^^^^^^^^^^^^^\n",
    "print('\\tK Neighbors', flush=True)\n",
    "_, score_dict = NLP_model_building.tfidf_various_build(\n",
    "    X_train, X_test, y_train, y_test,\n",
    "    output_version='issued_patents_control',\n",
    "    output_directory=output_different_models_directory,\n",
    "    classification_model=NLP_model_building.KNeighborsClassifier(),\n",
    "    cls_name='k_neighbors')\n",
    "score_dict.update({'Model Name': 'K-nearest Neighbors'})\n",
    "score = pd.DataFrame([score_dict])\n",
    "performance_df = pd.concat([performance_df, score], ignore_index=True)\n",
    "\n",
    "#^^^^^^^^^^^^^^^^^^^^^^^^^^^^^^^^^^^^^^^^^^^^^^\n",
    "print('\\tStochastic Gradient Descent', flush=True)\n",
    "# Note: no predict_proba, only with modified huber\n",
    "_, score_dict = NLP_model_building.tfidf_various_build(\n",
    "    X_train, X_test, y_train, y_test,\n",
    "    output_version='issued_patents_control',\n",
    "    output_directory=output_different_models_directory,\n",
    "    classification_model=NLP_model_building.SGDClassifier(\n",
    "        random_state=RANDOM_SEED),\n",
    "    cls_name='sgd')\n",
    "score_dict.update({'Model Name': 'Stochastic Gradient Descent'})\n",
    "score = pd.DataFrame([score_dict])\n",
    "performance_df = pd.concat([performance_df, score], ignore_index=True)\n",
    "\n",
    "#^^^^^^^^^^^^^^^^^^^^^^^^^^^^^^^^^^^^^^^^^^^^^^\n",
    "print('\\tStochastic Gradient Descent with modified huber loss', flush=True)\n",
    "# Source: https://scikit-learn.org/stable/modules/generated/sklearn.linear_model.SGDClassifier.html\n",
    "_, score_dict = NLP_model_building.tfidf_various_build(\n",
    "    X_train, X_test, y_train, y_test,\n",
    "    output_version='issued_patents_control',\n",
    "    output_directory=output_different_models_directory,\n",
    "    classification_model=NLP_model_building.SGDClassifier(\n",
    "        random_state=RANDOM_SEED,\n",
    "        loss='modified_huber'),\n",
    "    cls_name='sgd_modHuber')\n",
    "score_dict.update({'Model Name': 'Stochastic Gradient Descent - Modified Huber'})\n",
    "score = pd.DataFrame([score_dict])\n",
    "performance_df = pd.concat([performance_df, score], ignore_index=True)\n",
    "\n",
    "#^^^^^^^^^^^^^^^^^^^^^^^^^^^^^^^^^^^^^^^^^^^^^^\n",
    "print('\\tAdaBoost', flush=True)\n",
    "_, score_dict = NLP_model_building.tfidf_various_build(\n",
    "    X_train, X_test, y_train, y_test,\n",
    "    output_version='issued_patents_control',\n",
    "    output_directory=output_different_models_directory,\n",
    "    classification_model=NLP_model_building.AdaBoostClassifier(\n",
    "        random_state=RANDOM_SEED),\n",
    "    cls_name='adaboost')\n",
    "score_dict.update({'Model Name': 'AdaBoost'})\n",
    "score = pd.DataFrame([score_dict])\n",
    "performance_df = pd.concat([performance_df, score], ignore_index=True)\n",
    "\n",
    "#^^^^^^^^^^^^^^^^^^^^^^^^^^^^^^^^^^^^^^^^^^^^^^\n",
    "print('\\tGradient Boosting', flush=True)\n",
    "_, score_dict = NLP_model_building.tfidf_various_build(\n",
    "    X_train, X_test, y_train, y_test,\n",
    "    output_version='issued_patents_control',\n",
    "    output_directory=output_different_models_directory,\n",
    "    classification_model=NLP_model_building.GradientBoostingClassifier(\n",
    "        random_state=RANDOM_SEED),\n",
    "    cls_name='gradientboosting')\n",
    "score_dict.update({'Model Name': 'Gradient Boosting'})\n",
    "score = pd.DataFrame([score_dict])\n",
    "performance_df = pd.concat([performance_df, score], ignore_index=True)\n",
    "\n",
    "#-----------------------------------------\n",
    "# Save performance results\n",
    "performance_df = performance_df[['Model Name', 'Precision Score', \n",
    "                                 'Recall Score', 'F1 Score', \n",
    "                                 'Accuracy Score', 'MCC']]\n",
    "performance_df.to_csv(output_different_models_directory\n",
    "                      + '//performance_summary_various_models_issued_patents_control.csv',\n",
    "                      float_format='%.3f', encoding='utf-8', index=True)\n",
    "performance_df.to_latex(output_different_models_directory\n",
    "                      + '//performance_summary_various_models_issued_patents_control.tex',\n",
    "                        float_format='%.3f', encoding='utf-8', index=False)"
   ]
  },
  {
   "cell_type": "markdown",
   "id": "a4dd4419",
   "metadata": {},
   "source": [
    "Comparing the model performance, we see that the SVC model performs best."
   ]
  },
  {
   "cell_type": "code",
   "execution_count": 27,
   "id": "99b7d499",
   "metadata": {},
   "outputs": [
    {
     "name": "stdout",
     "output_type": "stream",
     "text": [
      "                                     Model Name  Precision Score  \\\n",
      "2                        Support Vector Machine            0.868   \n",
      "4                                 Random Forest            0.862   \n",
      "7  Stochastic Gradient Descent - Modified Huber            0.850   \n",
      "6                   Stochastic Gradient Descent            0.849   \n",
      "1                                   Naive Bayes            0.804   \n",
      "0                           Logistic Regression            0.799   \n",
      "9                             Gradient Boosting            0.768   \n",
      "3                                 Decision Tree            0.745   \n",
      "8                                      AdaBoost            0.737   \n",
      "5                           K-nearest Neighbors            0.725   \n",
      "\n",
      "   Recall Score  F1 Score  Accuracy Score    MCC  \n",
      "2         0.868     0.868           0.868  0.737  \n",
      "4         0.862     0.862           0.862  0.724  \n",
      "7         0.850     0.850           0.850  0.701  \n",
      "6         0.849     0.849           0.849  0.697  \n",
      "1         0.804     0.804           0.804  0.610  \n",
      "0         0.799     0.799           0.799  0.599  \n",
      "9         0.768     0.768           0.768  0.537  \n",
      "3         0.745     0.745           0.745  0.491  \n",
      "8         0.737     0.737           0.737  0.475  \n",
      "5         0.725     0.725           0.725  0.451  \n"
     ]
    }
   ],
   "source": [
    "print(performance_df.round(3).sort_values('F1 Score', ascending=False))"
   ]
  },
  {
   "cell_type": "markdown",
   "id": "91554b10",
   "metadata": {},
   "source": [
    "We can now train the classification model using different variations of the SVC model.  The methods below build pipelines with SVC classifiers and also create performance reports for each model variation (linear, polynomial, or rbf kernel).  The methods also have internal Random Search optimization methods for hyperparameter tuning, which slows down the estimation quite substantially, though.\n",
    "\n",
    "The only difference between the two methods below is the vector representation of the claim test: either using a TF-IDF vector matrix for uni- and bigrams, or a Doc2Vec vector model estimated on the training data."
   ]
  },
  {
   "cell_type": "code",
   "execution_count": 28,
   "id": "da741c56",
   "metadata": {},
   "outputs": [],
   "source": [
    "%%capture\n",
    "# SVC Model Training\n",
    "print('\\tTrain TF-IDF SVC Model', flush=True)\n",
    "NLP_model_building.tfidf_svc_build(\n",
    "    X_train, X_test, y_train, y_test, \n",
    "    output_version='issued_patents_control', \n",
    "    optimize=False)\n",
    "\n",
    "print('\\tTrain Doc2Vec SVC Model', flush=True)\n",
    "NLP_model_building.doc2vec_svc_build(\n",
    "    X_train, X_test, y_train, y_test, \n",
    "    output_version='issued_patents_control', \n",
    "    optimize=False)"
   ]
  },
  {
   "cell_type": "markdown",
   "id": "d9b57e7a",
   "metadata": {},
   "source": [
    "Comparing the different variants, we see that the TF-IDF based model with polynomial kernel performs best.  When we look at the performance, this version of the model performs quite well."
   ]
  },
  {
   "cell_type": "code",
   "execution_count": 37,
   "id": "b8b17dba",
   "metadata": {},
   "outputs": [
    {
     "name": "stdout",
     "output_type": "stream",
     "text": [
      "             valid  invalid\n",
      "precision    0.887    0.879\n",
      "recall       0.878    0.888\n",
      "f1-score     0.883    0.884\n",
      "support    304.000  304.000\n",
      "\n",
      "Overall model performance:\n",
      "Precision: 0.883\n",
      "Recall: 0.883\n",
      "F1 Score: 0.883\n",
      "Accuracy: 0.883\n"
     ]
    }
   ],
   "source": [
    "# Load the performance output for the chosen model\n",
    "with open('TFIDF_SVC_issued_patents_control'\n",
    "          +'/tfidf_svc_poly2_performance_report_issued_patents_control.json', 'r') as fp:\n",
    "        report = json.load(fp)\n",
    "\n",
    "print(pd.DataFrame().from_dict(report).iloc[:,:2].round(3).rename(columns={'0':'valid', '1':'invalid'}))\n",
    "\n",
    "print('\\nOverall model performance:')\n",
    "print('Precision: {0:.3f}\\nRecall: {1:.3f}'.format(report['Precision Score'], report['Recall Score']))\n",
    "print('F1 Score: {0:.3f}\\nAccuracy: {1:.3f}'.format(report['F1 Score'], report['Accuracy Score']))"
   ]
  },
  {
   "cell_type": "code",
   "execution_count": 38,
   "id": "944007a7",
   "metadata": {},
   "outputs": [
    {
     "data": {
      "image/jpeg": "[encoded data removed]",
      "text/plain": [
       "<IPython.core.display.Image object>"
      ]
     },
     "execution_count": 38,
     "metadata": {},
     "output_type": "execute_result"
    }
   ],
   "source": [
    "display.Image('TFIDF_SVC_issued_patents_control'\n",
    "              +'/tfidf_svc_poly2_confusion_matrix_issued_patents_control.jpg')"
   ]
  },
  {
   "cell_type": "code",
   "execution_count": 39,
   "id": "3368f000",
   "metadata": {},
   "outputs": [
    {
     "data": {
      "image/jpeg": "[encoded data removed]",
      "text/plain": [
       "<IPython.core.display.Image object>"
      ]
     },
     "execution_count": 39,
     "metadata": {},
     "output_type": "execute_result"
    }
   ],
   "source": [
    "display.Image('TFIDF_SVC_issued_patents_control'\n",
    "              +'/tfidf_svc_poly2_precision_recall_curve_issued_patents_control.jpg')"
   ]
  },
  {
   "cell_type": "code",
   "execution_count": 40,
   "id": "6c0519e4",
   "metadata": {},
   "outputs": [
    {
     "data": {
      "image/jpeg": "[encoded data removed]",
      "text/plain": [
       "<IPython.core.display.Image object>"
      ]
     },
     "execution_count": 40,
     "metadata": {},
     "output_type": "execute_result"
    }
   ],
   "source": [
    "display.Image('TFIDF_SVC_issued_patents_control'\n",
    "              +'/tfidf_svc_poly2_ROC_curve_issued_patents_control.jpg')"
   ]
  },
  {
   "cell_type": "markdown",
   "id": "1b272dcf",
   "metadata": {},
   "source": [
    "Also the graphical analysis is very favorable of the model."
   ]
  },
  {
   "cell_type": "markdown",
   "id": "88285fb0",
   "metadata": {},
   "source": [
    "## 4) Classify patent claim texts of affected CPC groups"
   ]
  },
  {
   "cell_type": "markdown",
   "id": "aeed825e",
   "metadata": {},
   "source": [
    "With the classification model now estimated, we can predict for exisiting patents whether they are affected based on their claim texts.  We can do this also for pre-grant application publications, which is implemented in a similar way in the module **application_pregrant_pub_claim_classification.py**."
   ]
  },
  {
   "cell_type": "code",
   "execution_count": 41,
   "id": "055783ca",
   "metadata": {},
   "outputs": [],
   "source": [
    "from PyPatentAlice import patent_claim_classification\n",
    "\n",
    "# Set module shared parameters in local namespace\n",
    "patent_claim_classification.home_directory = home_directory\n",
    "patent_claim_classification.PatentsView_directory = PatentsView_directory\n",
    "patent_claim_classification.USPTO_data_directory = USPTO_data_directory\n",
    "patent_claim_classification.RANDOM_SEED = RANDOM_SEED"
   ]
  },
  {
   "cell_type": "markdown",
   "id": "26c6eb1c",
   "metadata": {},
   "source": [
    "I create a separete folder for the classification outcomes.  \n",
    "\n",
    "For this example, I restrict to the classification of patents issued between two years before and two years after *Alice*."
   ]
  },
  {
   "cell_type": "code",
   "execution_count": 42,
   "id": "df505b63",
   "metadata": {},
   "outputs": [],
   "source": [
    "# Define execution environment\n",
    "output_directory = r'patent_classification'\n",
    "\n",
    "# Create Output Path if not already exist\n",
    "if not os.path.exists(output_directory):\n",
    "    os.makedirs(output_directory)\n",
    "    \n",
    "# Output director for LIME data frames and word clouds\n",
    "lime_output_directory = 'LIME_issued_patents_control'\n",
    "\n",
    "# Create WC Output Path if not already exist\n",
    "if not os.path.exists(lime_output_directory):\n",
    "    os.makedirs(lime_output_directory)\n",
    "    \n",
    "    \n",
    "# Load model\n",
    "text_poly2_svc = joblib.load('TFIDF_SVC_issued_patents_control' \n",
    "                             + '//tfidf_svc_poly2_issued_patents_control.joblib')\n",
    "\n",
    "# Patent issue year for which to classify patent texts\n",
    "min_year_classification = 2012\n",
    "max_year_classification = 2016"
   ]
  },
  {
   "cell_type": "markdown",
   "id": "429287a2",
   "metadata": {},
   "source": [
    "Since the training data already identify the most affected USPC classes, we can use application data from the USPTO to find the patent IDs of successful applications from these classes.  Specifically, we use the current USPC class data from PatentsView to identify affected patent IDs in the treated classes.  Since the USPTO stopped issuing USPC classes in 2013 but still used them for application, we can further expand the list of affected patents by loading a relatively recent vintage of Patent Examination Research Dataset (PatEx) application data that contains both USPC classes and patent IDs of succesful applications."
   ]
  },
  {
   "cell_type": "code",
   "execution_count": 43,
   "id": "3339e622",
   "metadata": {},
   "outputs": [
    {
     "name": "stdout",
     "output_type": "stream",
     "text": [
      "Find patents that fit the desired classes\n",
      "\t USPC Main Classes for classification: ['434', '463', '705', '702']\n",
      "\t Number of identified patents to be classified from USPC classes: 60072\n",
      "\t Expand with patent ids from application data\n",
      "\t Number of identified patents to be classified from USPC classes including application ids: 182809\n"
     ]
    }
   ],
   "source": [
    "print('Find patents that fit the desired classes', flush=True)\n",
    "\n",
    "#-------------------------------\n",
    "# uspc_current classifications\n",
    "#-------------------------------\n",
    "uspc_current = pd.read_csv(PatentsView_directory + '/uspc_current_PatentsView.tsv', \n",
    "                           delimiter=\"\\t\", quoting=csv.QUOTE_NONNUMERIC, low_memory=False)\n",
    "\n",
    "print('\\t USPC Main Classes for classification: ' + str(uspc_main_category), flush=True)\n",
    "\n",
    "#==============================================\n",
    "# Find patents to investigate in affected USPC classes\n",
    "\n",
    "# => Note that the loaded categories are in int\n",
    "uspc_main_category_str = [str(c) for c in uspc_main_category]\n",
    "\n",
    "uspc_current['mainclass_id'] = uspc_current['mainclass_id'].astype(str).\\\n",
    "    apply(lambda s: re.sub(r'^0*', '', str(s).split('.')[0]))\n",
    "\n",
    "uspc_affected_patent = uspc_current[uspc_current.mainclass_id.isin(uspc_main_category_str)]\n",
    "uspc_affected_patent = uspc_affected_patent[['patent_id', 'mainclass_id']].drop_duplicates()\n",
    "uspc_affected_patent['patent_id'] = pd.to_numeric(uspc_affected_patent.patent_id,\n",
    "                                                  downcast='integer', errors='coerce')\n",
    "\n",
    "uspc_affected_patent_list = list(set(uspc_affected_patent.patent_id))\n",
    "\n",
    "print('\\t Number of identified patents to be classified from USPC classes: '\n",
    "      + str(len(uspc_affected_patent_list)), flush=True)\n",
    "\n",
    "#---------------------------------------------------------\n",
    "print('\\t Expand with patent ids from application data', flush=True)\n",
    "# Append here the application data which contain a lot of uspc class information \n",
    "# to identify relevant applications for classifcation\n",
    "#----------------------------------\n",
    "# Application Data\n",
    "#----------------------------------\n",
    "application_data = pd.read_csv(USPTO_data_directory\n",
    "                               + '/application_data_2020.csv', low_memory=False)\n",
    "\n",
    "# Select the application with the fitting patent classes\n",
    "application_data['uspc_class'] = application_data['uspc_class'].astype(str).\\\n",
    "    apply(lambda s: re.sub(r'^0*', '', str(s).split('.')[0]))\n",
    "\n",
    "affected_applications = application_data[application_data.uspc_class.isin(uspc_main_category_str)]\n",
    "\n",
    "# Coerce to integer, since focusing on utility patents\n",
    "affected_applications['patent_id'] = pd.to_numeric(affected_applications.patent_number,\n",
    "                                                   downcast='integer', errors='coerce')\n",
    "uspc_affected_application_publication_list = list(set(affected_applications.patent_id))\n",
    "\n",
    "# Expand patent list by patent ids from application data\n",
    "uspc_affected_patent_list.extend(uspc_affected_application_publication_list)\n",
    "\n",
    "print('\\t Number of identified patents to be classified from USPC classes including application ids: '\n",
    "      + str(len(uspc_affected_patent_list)), flush=True)"
   ]
  },
  {
   "cell_type": "markdown",
   "id": "65a1e4a8",
   "metadata": {},
   "source": [
    "Since most patents have now a CPC classification and there is not concordance table to translate USPC classification into CPC, we can use CPC data from PatentsView and the affected patents identified with the USPC classes to find the five most frequent CPC groups of affected patents.  These affected CPC groups cover around 50% of the affected patents based on USPC classes, but also are much broader and are available for more years.  Thus, there are around nine times as many patents in the affected CPC groups than in the USPC classes. "
   ]
  },
  {
   "cell_type": "code",
   "execution_count": 45,
   "id": "aea9bbf2",
   "metadata": {},
   "outputs": [
    {
     "name": "stdout",
     "output_type": "stream",
     "text": [
      "\t Most frequent CPC classes\n",
      "group_id\n",
      "G06Q    0.297209\n",
      "G06F    0.392829\n",
      "G07F    0.473161\n",
      "H04L    0.524684\n",
      "A63F    0.572249\n",
      "G16H    0.605497\n",
      "G01N    0.627120\n",
      "G01R    0.647865\n",
      "G09B    0.668387\n",
      "H04N    0.686690\n",
      "Name: proportion, dtype: float64\n",
      "\t Selected main CPC classes\n",
      "['G06F', 'H04L', 'G06Q', 'A63F', 'G07F']\n",
      "\t Number of affected cpc based patents: 491341\n"
     ]
    }
   ],
   "source": [
    "# Note: most patents are now classified via CPC, as in Dugan (2018)\n",
    "# Translate affected patents into CPC classes\n",
    "# See: https://www.uspto.gov/patents-application-process/patent-search/classification-standards-and-development\n",
    "#-------------------------------\n",
    "# cpc classifications\n",
    "#-------------------------------\n",
    "cpc_current = pd.read_csv(PatentsView_directory + '/cpc_current_PatentsView.tsv', \n",
    "                            delimiter=\"\\t\", quoting=csv.QUOTE_NONNUMERIC, low_memory=False)\n",
    "#-------------------------------------\n",
    "# Focus on primary categories\n",
    "cpc_current = cpc_current[cpc_current.cpc_type=='inventional']\n",
    "\n",
    "# Drop unneeded columns and make cpc groups unique\n",
    "cpc_current = cpc_current.drop(['cpc_section',\n",
    "                                'cpc_type',\n",
    "                                'cpc_class', \n",
    "                                'cpc_group',\n",
    "                                'cpc_sequence'], axis=1).drop_duplicates().\\\n",
    "    rename(columns={'cpc_subclass':'group_id'})\n",
    "\n",
    "# Cast id to int\n",
    "cpc_current['patent_id'] = pd.to_numeric(cpc_current.patent_id,\n",
    "                                         downcast='integer', errors='coerce')\n",
    "\n",
    "#-------------------------------------\n",
    "# Find patent_ids in the CPC data for the affected USPC classes\n",
    "cpc_uspc_patents = cpc_current[cpc_current.patent_id.isin(\n",
    "    [s for s in uspc_affected_patent_list if not(np.isnan(s))])]\n",
    "\n",
    "# select the five most common cpc classes\n",
    "main_cpc_classes = list(set(cpc_uspc_patents.group_id.value_counts(). \\\n",
    "                            nlargest(5).reset_index().iloc[:,0]))\n",
    "\n",
    "print('\\t Most frequent CPC classes\\n' \n",
    "      + str(cpc_uspc_patents.group_id.value_counts(normalize=True).head(10).cumsum()), flush=True)\n",
    "\n",
    "print('\\t Selected main CPC classes\\n' + str(main_cpc_classes), flush=True)\n",
    "\n",
    "# Define as patent ids those patents within the respective main CPC classes\n",
    "cpc_affected_patent_list = list(cpc_current[cpc_current.group_id.isin(main_cpc_classes)]['patent_id'])\n",
    "print('\\t Number of affected cpc based patents: ' + str(len(cpc_affected_patent_list)), flush=True)\n",
    "\n",
    "del cpc_current, uspc_current"
   ]
  },
  {
   "cell_type": "markdown",
   "id": "700fec21",
   "metadata": {},
   "source": [
    "Using the lost of patents in affected USPC classes, we can now iterate through the claim text by publication year in PatentsView and use the trained model to predict for each independent claim text whether it is affected or not. The classification method could also be run parallel for larger samples.  Either way, the annual results are aggregated to one dataframe with claim-level treatment predictions.  \n",
    "\n",
    "Here, the SVC classification based on the TF-IDF text vector representation with polynomial kernel of degree two performs best.  The model also give a predicted probability for treatment.  "
   ]
  },
  {
   "cell_type": "code",
   "execution_count": 46,
   "id": "e383fc1b",
   "metadata": {},
   "outputs": [
    {
     "name": "stdout",
     "output_type": "stream",
     "text": [
      "Classification for patents that are in relevant USPC classes\n",
      "\t\t Number of Cores: 16\n",
      "\t\tAffected patents in uspc classes for issue year: 2012\n",
      "\n",
      "\t\tAffected patents in uspc classes for issue year: 2013\n",
      "\n",
      "\t\tAffected patents in uspc classes for issue year: 2014\n",
      "\n",
      "\t\tAffected patents in uspc classes for issue year: 2015\n",
      "\n",
      "\t\tAffected patents in uspc classes for issue year: 2016\n",
      "\n",
      "\t Search treated patent claims for year 2013\t Search treated patent claims for year 2012\n",
      "\n",
      "\t Search treated patent claims for year 2014\n",
      "\t Search treated patent claims for year 2015\n",
      "\t Search treated patent claims for year 2016\n",
      "\t Lenght of output DF of classified independent claims for year 2016: 12489\n",
      "\t Lenght of output DF of classified independent claims for year 2015: 16823\n",
      "\t Lenght of output DF of classified independent claims for year 2012: 35619\n",
      "\t Lenght of output DF of classified independent claims for year 2014: 37094\n",
      "\t Lenght of output DF of classified independent claims for year 2013: 39443\n"
     ]
    }
   ],
   "source": [
    "print('Classification for patents that are in relevant USPC classes', flush=True)\n",
    "\n",
    "# Define result storage df\n",
    "text_poly2_svc_classification_uspc = pd.DataFrame()\n",
    "\n",
    "#-----------------------------------\n",
    "# Create sub-director for extracted texts to be classified\n",
    "suboutput_dir = output_directory+'//uspcAffected__TFIDF_poly2_issued_patents_control'\n",
    "if not os.path.exists(suboutput_dir):\n",
    "    os.makedirs(suboutput_dir)\n",
    "\n",
    "r'''\n",
    "#^^^^^^^^^^^^^^^^^^^^^^^^^^^^^^^^^^^^^^\n",
    "# Linear Execution\n",
    "for year in range(min_year_classification, max_year_classification+1):\n",
    "    print('\\tAffected patents in uspc classes for issue year: ' + str(year) + '\\n')\n",
    "    patent_claim_classification.patent_claim_classification_PatentView(\n",
    "        year=year,\n",
    "        affected_patent_list=uspc_affected_patent_list,\n",
    "        nlp_model=text_poly2_svc,\n",
    "        output_path=suboutput_dir)\n",
    "r'''\n",
    "\n",
    "#^^^^^^^^^^^^^^^^^^^^^^^^^^^^^^^^^^^^\n",
    "# Parallel Execution -> capsules are powerful enough to run parallel\n",
    "cores = mp.cpu_count()\n",
    "print('\\t\\t Number of Cores: ' + str(cores), flush=True)\n",
    "\n",
    "pool = mp.Pool(cores)\n",
    "# Run the scraping method for the contents required\n",
    "for year in range(min_year_classification, max_year_classification+1):\n",
    "    print('\\t\\tAffected patents in uspc classes for issue year: ' + str(year) + '\\n')\n",
    "    pool.apply_async(\n",
    "                    patent_claim_classification.patent_claim_classification_PatentView,\n",
    "                    args=(\n",
    "                          year,\n",
    "                          uspc_affected_patent_list,\n",
    "                          text_poly2_svc,\n",
    "                          suboutput_dir\n",
    "                          )\n",
    "                    )\n",
    "pool.close()\n",
    "pool.join()   "
   ]
  },
  {
   "cell_type": "code",
   "execution_count": 47,
   "id": "08c8c86e",
   "metadata": {},
   "outputs": [],
   "source": [
    "# Load from Target\n",
    "patent_classification_files = os.listdir(suboutput_dir)\n",
    "patent_classification_path = [suboutput_dir+'//'+f for f in patent_classification_files if \\\n",
    "                              bool(re.search('.csv', f)) & bool(re.search('FullText', f)) & \\\n",
    "                                  bool(re.search('patentClaim', f))  & \\\n",
    "                                      bool(re.search(r'\\d{4,4}', f))]\n",
    "\n",
    "for load_file in patent_classification_path:\n",
    "    append_df = pd.read_csv(load_file, encoding='utf-8', low_memory=False)\n",
    "    append_df['year'] = re.search(r'\\d{4,4}', load_file).group(0)\n",
    "\n",
    "    text_poly2_svc_classification_uspc = pd.concat(\n",
    "        [text_poly2_svc_classification_uspc,\n",
    "         append_df],\n",
    "        axis=0)"
   ]
  },
  {
   "cell_type": "code",
   "execution_count": 48,
   "id": "bf81a605",
   "metadata": {},
   "outputs": [
    {
     "name": "stdout",
     "output_type": "stream",
     "text": [
      "\t\t Total length of classified patent claims - affected USPC based; TFIDF + SVC Poly 2: 141468\n",
      "\t\t Unique classified patents - affeced USPC based; SVC Poly 2: 48658\n"
     ]
    }
   ],
   "source": [
    "# Save Fulltext output\n",
    "text_poly2_svc_classification_uspc.to_csv(\n",
    "    path_or_buf = output_directory +\n",
    "    '/FullText_patents_uspcAffected__predicted__TFIDF_poly2_issued_patents_control.csv', \n",
    "    index=False, encoding = 'utf-8')\n",
    "\n",
    "print('\\t\\t Total length of classified patent claims - affected USPC based; TFIDF + SVC Poly 2: ' +\n",
    "      str(len(text_poly2_svc_classification_uspc)), flush=True)\n",
    "print('\\t\\t Unique classified patents - affeced USPC based; SVC Poly 2: ' +\n",
    "      str(len(text_poly2_svc_classification_uspc.patent_id.unique())), flush=True)"
   ]
  },
  {
   "cell_type": "markdown",
   "id": "d3c26f97",
   "metadata": {},
   "source": [
    "Similarly to above, we can classify claim texts of patents in affected CPC groups.  "
   ]
  },
  {
   "cell_type": "code",
   "execution_count": 49,
   "id": "658041db",
   "metadata": {},
   "outputs": [
    {
     "name": "stdout",
     "output_type": "stream",
     "text": [
      "Classification for patents that are in relevant CPC groups\n",
      "\t\t Number of Cores: 16\n",
      "\t\tAffected patents in cpc group for issue year: 2012\n",
      "\n",
      "\t\tAffected patents in cpc group for issue year: 2013\n",
      "\n",
      "\t\tAffected patents in cpc group for issue year: 2014\n",
      "\n",
      "\t\tAffected patents in cpc group for issue year: 2015\n",
      "\n",
      "\t\tAffected patents in cpc group for issue year: 2016\n",
      "\n",
      "\t Search treated patent claims for year 2012\n",
      "\t Search treated patent claims for year 2013\n",
      "\t Search treated patent claims for year 2014\n",
      "\t Search treated patent claims for year 2015\n",
      "\t Search treated patent claims for year 2016\n",
      "\t Lenght of output DF of classified independent claims for year 2012: 172503\n",
      "\t Lenght of output DF of classified independent claims for year 2013: 193996\n",
      "\t Lenght of output DF of classified independent claims for year 2015: 207249\n",
      "\t Lenght of output DF of classified independent claims for year 2016: 210895\n",
      "\t Lenght of output DF of classified independent claims for year 2014: 216500\n"
     ]
    }
   ],
   "source": [
    "# Repeat process for patent identified using CPC groups\n",
    "print('Classification for patents that are in relevant CPC groups', flush=True)\n",
    "\n",
    "# Define result storage df\n",
    "text_poly2_svc_classification_cpc = pd.DataFrame()\n",
    "\n",
    "#-----------------------------------\n",
    "# Create sub-director for extracted texts to be classified\n",
    "suboutput_dir = output_directory+'//cpcAffected__TFIDF_poly2_issued_patents_control'\n",
    "if not os.path.exists(suboutput_dir):\n",
    "    os.makedirs(suboutput_dir)\n",
    "\n",
    "r'''\n",
    "#^^^^^^^^^^^^^^^^^^^^^^^^^^^^^^^^^^^^^^\n",
    "# Linear Execution\n",
    "for year in range(min_year_classification, max_year_classification+1):\n",
    "    print('\\tAffected patents in cpc group for issue year: ' + str(year) + '\\n')\n",
    "    patent_claim_classification.patent_claim_classification_PatentView(\n",
    "        year,\n",
    "        cpc_affected_patent_list,\n",
    "        text_poly2_svc,\n",
    "        suboutput_dir)\n",
    "r'''    \n",
    "    \n",
    "#^^^^^^^^^^^^^^^^^^^^^^^^^^^^^^^^^^^^^^\n",
    "# Parallel Execution -> not recommended for desktop \n",
    "cores = mp.cpu_count()\n",
    "print('\\t\\t Number of Cores: ' + str(cores), flush=True)\n",
    "\n",
    "pool = mp.Pool(cores)\n",
    "# Run the scraping method for the contents required\n",
    "for year in range(min_year_classification, max_year_classification+1):\n",
    "    print('\\t\\tAffected patents in cpc group for issue year: ' + str(year) + '\\n')\n",
    "    pool.apply_async(\n",
    "                    patent_claim_classification.patent_claim_classification_PatentView,\n",
    "                    args=(\n",
    "                          year,\n",
    "                          cpc_affected_patent_list,\n",
    "                          text_poly2_svc,\n",
    "                          suboutput_dir\n",
    "                          )\n",
    "                    )\n",
    "pool.close()\n",
    "pool.join()"
   ]
  },
  {
   "cell_type": "code",
   "execution_count": 50,
   "id": "fe81efbf",
   "metadata": {},
   "outputs": [],
   "source": [
    "# Load from Target\n",
    "patent_classification_files = os.listdir(suboutput_dir)\n",
    "patent_classification_path = [suboutput_dir+'//'+f for f in patent_classification_files if \\\n",
    "                              bool(re.search('.csv', f)) & bool(re.search('FullText', f)) & \\\n",
    "                                bool(re.search('patentClaim', f)) & \\\n",
    "                                      bool(re.search(r'\\d{4,4}', f))]\n",
    "\n",
    "for load_file in patent_classification_path:\n",
    "    append_df = pd.read_csv(load_file, encoding='utf-8', low_memory=False)\n",
    "    append_df['year'] = re.search(r'\\d{4,4}', load_file).group(0)\n",
    "\n",
    "    text_poly2_svc_classification_cpc = pd.concat(\n",
    "        [text_poly2_svc_classification_cpc,\n",
    "         append_df],\n",
    "        axis=0)"
   ]
  },
  {
   "cell_type": "code",
   "execution_count": 51,
   "id": "5186da89",
   "metadata": {},
   "outputs": [
    {
     "name": "stdout",
     "output_type": "stream",
     "text": [
      "\t\t Total length of classified patent claims - affected CPC based; TFIDF + SVC Poly 2: 1001143\n",
      "\t\t Unique classified patents - affected CPC based; SVC Poly 2: 327230\n"
     ]
    }
   ],
   "source": [
    "# Save Fulltext output\n",
    "text_poly2_svc_classification_cpc.to_csv(\n",
    "    path_or_buf = output_directory +\n",
    "    '/FullText__patents_cpcAffected__predicted__TFIDF_poly2_issued_patents_control.csv', \n",
    "    index=False, encoding = 'utf-8')\n",
    "\n",
    "print('\\t\\t Total length of classified patent claims - affected CPC based; TFIDF + SVC Poly 2: ' +\n",
    "      str(len(text_poly2_svc_classification_cpc)), flush=True)\n",
    "print('\\t\\t Unique classified patents - affected CPC based; SVC Poly 2: ' +\n",
    "      str(len(text_poly2_svc_classification_cpc.patent_id.unique())), flush=True)"
   ]
  },
  {
   "cell_type": "markdown",
   "id": "6ad72195",
   "metadata": {},
   "source": [
    "For the classified patents, we can now create also word clouds comparing predicted treated and predicted valid claim texts.  Since we have so many patent in affected CPC groups, we can just restrict to a sample of one million claims."
   ]
  },
  {
   "cell_type": "code",
   "execution_count": 52,
   "id": "1c0d1c9f",
   "metadata": {},
   "outputs": [
    {
     "name": "stdout",
     "output_type": "stream",
     "text": [
      "Create Word Clouds for predicted patent classes\n"
     ]
    }
   ],
   "source": [
    "print('Create Word Clouds for predicted patent classes', flush=True)\n",
    "\n",
    "model_data_text_poly2_svc_uspc = text_poly2_svc_classification_uspc[\n",
    "    ['claim_text', '1', 'predicted_label']\n",
    "    ].drop_duplicates()\n",
    "\n",
    "# Create model text for word cloud and predict classification\n",
    "model_data_text_poly2_svc_uspc = model_data_text_poly2_svc_uspc.rename(\n",
    "    columns={'1':'pred_treated'})\n",
    "\n",
    "model_data_text_poly2_svc_uspc['treated'] = (model_data_text_poly2_svc_uspc.\\\n",
    "                                             predicted_label == 1).astype(int)\n",
    "\n",
    "patent_claim_classification.wordcloud_creation(\n",
    "    model_data=model_data_text_poly2_svc_uspc,\n",
    "    output_directory=output_directory,\n",
    "    version_string='patents_uspcAffected__TFIDF_poly2_issued_patents_control')\n",
    "\n",
    "#^^^^^^^^^^^^^^^^^^^^^^^^^^^^^^^^^^^^^^^^^^^^^^^^\n",
    "model_data_text_poly2_svc_cpc = text_poly2_svc_classification_cpc[\n",
    "    ['claim_text', '1', 'predicted_label']\n",
    "    ].drop_duplicates()\n",
    "\n",
    "# Create model text for word cloud and predict classification\n",
    "model_data_text_poly2_svc_cpc = model_data_text_poly2_svc_cpc.rename(columns={'1':'pred_treated'})\n",
    "\n",
    "model_data_text_poly2_svc_cpc['treated'] = (model_data_text_poly2_svc_cpc.predicted_label == 1).\\\n",
    "    astype(int)\n",
    "\n",
    "# There are vastly more cpc classifications than uspc classification => randomly draw! if size over 1M\n",
    "if len(model_data_text_poly2_svc_cpc) > 1000000:\n",
    "    model_data_text_poly2_svc_cpc = model_data_text_poly2_svc_cpc.sample(\n",
    "        n=1000000,\n",
    "        random_state = RANDOM_SEED,\n",
    "        replace=False)\n",
    "\n",
    "patent_claim_classification.wordcloud_creation(\n",
    "    model_data=model_data_text_poly2_svc_cpc,\n",
    "    output_directory=output_directory,\n",
    "    version_string='patents_cpcAffected__TFIDF_poly2_issued_patents_control')"
   ]
  },
  {
   "cell_type": "markdown",
   "id": "d618c031",
   "metadata": {},
   "source": [
    "Comparing the terms that are relatively more frequent in treated versus valid claims, we see that valid claims contain more diverse words including specifications of physical implementations while invalid claims feature abstract descriptions about business processes such as computer-based methods.  This is in line with the Supreme Court ruling that abstract claims are not patent eligible."
   ]
  },
  {
   "cell_type": "code",
   "execution_count": 54,
   "id": "2438ba6a",
   "metadata": {},
   "outputs": [
    {
     "name": "stdout",
     "output_type": "stream",
     "text": [
      "More frequent terms in invalid claims after Alice\n"
     ]
    },
    {
     "data": {
      "image/jpeg": "[encoded data removed]",
      "text/plain": [
       "<IPython.core.display.Image object>"
      ]
     },
     "execution_count": 54,
     "metadata": {},
     "output_type": "execute_result"
    }
   ],
   "source": [
    "print('More frequent terms in invalid claims after Alice')\n",
    "display.Image('Wordcloud_issued_patents_control'\n",
    "              +'/wc_differential_frequency_weighting_treated_trainingData_issued_patents_control.jpg')"
   ]
  },
  {
   "cell_type": "code",
   "execution_count": 55,
   "id": "411d9890",
   "metadata": {},
   "outputs": [
    {
     "name": "stdout",
     "output_type": "stream",
     "text": [
      "More frequent terms in valid claims\n"
     ]
    },
    {
     "data": {
      "image/jpeg": "[encoded data removed]",
      "text/plain": [
       "<IPython.core.display.Image object>"
      ]
     },
     "execution_count": 55,
     "metadata": {},
     "output_type": "execute_result"
    }
   ],
   "source": [
    "print('More frequent terms in valid claims')\n",
    "display.Image('Wordcloud_issued_patents_control'\n",
    "              +'/wc_differential_frequency_weighting_untreated_trainingData_issued_patents_control.jpg')"
   ]
  },
  {
   "cell_type": "markdown",
   "id": "be6501c2",
   "metadata": {},
   "source": [
    "To better understand what words more most relevant for the classification as valid or invalid, we can apply the local interpretable model-agnostic explanations (LIME) method to the trained model and the two classification outcomes for USPC classes and CPC groups.  Also here, the methods will create word clouds that visualize the most relevant word for the classification as treated or valid."
   ]
  },
  {
   "cell_type": "code",
   "execution_count": 56,
   "id": "12310f3d",
   "metadata": {},
   "outputs": [
    {
     "name": "stdout",
     "output_type": "stream",
     "text": [
      "Lime classification sample analysis\n"
     ]
    }
   ],
   "source": [
    "print('Lime classification sample analysis', flush=True)\n",
    "\n",
    "_, top_label_df_grouped_poly2_svc_uspc =  patent_claim_classification.lime_text_explainer(\n",
    "    patent_classification=text_poly2_svc_classification_uspc[\n",
    "        ['claim_text', '1', 'predicted_label']\n",
    "        ].drop_duplicates(),\n",
    "    model=text_poly2_svc,\n",
    "    output_path=lime_output_directory,\n",
    "    version_string='patents_uspcAffected__TFIDF_poly2_issued_patents_control',\n",
    "    size=100)\n",
    "\n",
    "patent_claim_classification.wordcloud_top_label_df(\n",
    "    top_label_df_grouped=top_label_df_grouped_poly2_svc_uspc,\n",
    "    output_directory=lime_output_directory,\n",
    "    version_string='patents_uspcAffected__TFIDF_poly2_issued_patents_control')"
   ]
  },
  {
   "cell_type": "code",
   "execution_count": 57,
   "id": "6fd7f866",
   "metadata": {},
   "outputs": [],
   "source": [
    "_, top_label_df_grouped_poly2_svc_cpc =  patent_claim_classification.lime_text_explainer(\n",
    "    patent_classification=text_poly2_svc_classification_cpc[\n",
    "        ['claim_text', '1', 'predicted_label']\n",
    "        ].drop_duplicates(),\n",
    "    model=text_poly2_svc,\n",
    "    output_path=lime_output_directory,\n",
    "    version_string='patents_cpcAffected__TFIDF_poly2_issued_patents_control',\n",
    "    size=100)\n",
    "\n",
    "patent_claim_classification.wordcloud_top_label_df(\n",
    "    top_label_df_grouped=top_label_df_grouped_poly2_svc_cpc,\n",
    "    output_directory=lime_output_directory,\n",
    "    version_string='patents_cpcAffected__TFIDF_poly2_issued_patents_control')"
   ]
  },
  {
   "cell_type": "markdown",
   "id": "40427ff2",
   "metadata": {},
   "source": [
    "When we visualzie the results of the LIME method, we can confirm that the model is more likely to predict that a claim is invalid if it contains more abstract and general terms like 'method', while claims that include more concrete language on the implementation of software innovations, like 'device' or 'control', are more likely to be classified as valid."
   ]
  },
  {
   "cell_type": "code",
   "execution_count": 59,
   "id": "a7b76266",
   "metadata": {},
   "outputs": [
    {
     "name": "stdout",
     "output_type": "stream",
     "text": [
      "Terms most relevant for classifying claim as invalid\n"
     ]
    },
    {
     "data": {
      "image/jpeg": "[encoded data removed]",
      "text/plain": [
       "<IPython.core.display.Image object>"
      ]
     },
     "execution_count": 59,
     "metadata": {},
     "output_type": "execute_result"
    }
   ],
   "source": [
    "print('Terms most relevant for classifying claim as invalid')\n",
    "display.Image('LIME_issued_patents_control'\n",
    "              + '//wc_lime_top_words_treated_claims_patents_cpcAffected__TFIDF_poly2_issued_patents_control.jpg')"
   ]
  },
  {
   "cell_type": "code",
   "execution_count": 60,
   "id": "e4fa7010",
   "metadata": {},
   "outputs": [
    {
     "name": "stdout",
     "output_type": "stream",
     "text": [
      "Terms most relevant for classifying claim as valid\n"
     ]
    },
    {
     "data": {
      "image/jpeg": "[encoded data removed]",
      "text/plain": [
       "<IPython.core.display.Image object>"
      ]
     },
     "execution_count": 60,
     "metadata": {},
     "output_type": "execute_result"
    }
   ],
   "source": [
    "print('Terms most relevant for classifying claim as valid')\n",
    "display.Image('LIME_issued_patents_control'\n",
    "              + '//wc_lime_top_words_untreated_claims_patents_cpcAffected__TFIDF_poly2_issued_patents_control.jpg')"
   ]
  },
  {
   "cell_type": "code",
   "execution_count": 61,
   "id": "4a806942",
   "metadata": {},
   "outputs": [],
   "source": [
    "# Clean up some memory before executing next step\n",
    "del text_poly2_svc_classification_cpc, text_poly2_svc_classification_uspc"
   ]
  },
  {
   "cell_type": "markdown",
   "id": "e437ff26",
   "metadata": {},
   "source": [
    "## 5) Test of the classification outcome"
   ]
  },
  {
   "cell_type": "markdown",
   "id": "57e94c1a",
   "metadata": {},
   "source": [
    "By now, we finally have claim-level predictions for whether a text is valid or invalid under *Alice*.  To verify that this classification is meaningful, I compare the counts of patents that are predicted to valid or invalid on quarterly basis for each affected CPC group.  If my model performs better than using CPC groups alone, I would expect to see a significantly larger decline in issued patents that are predicted to be invalid compared to patents that are predicted to be valid."
   ]
  },
  {
   "cell_type": "code",
   "execution_count": 2,
   "id": "4bdd5551",
   "metadata": {},
   "outputs": [],
   "source": [
    "from PyPatentAlice import classification_testing\n",
    "\n",
    "# Set module shared parameters in local namespace\n",
    "classification_testing.home_directory = home_directory\n",
    "classification_testing.PatentsView_directory = PatentsView_directory\n",
    "classification_testing.USPTO_data_directory = USPTO_data_directory\n",
    "classification_testing.RANDOM_SEED = RANDOM_SEED"
   ]
  },
  {
   "cell_type": "markdown",
   "id": "0634ae4a",
   "metadata": {},
   "source": [
    "The method in build a basic data frame that load issue dates and CPC groups from PatentsView and defines a patent as treated if it's first claim is classified as invalid.  The first claim of a patent is usually the most important and broadest claim of a patent and thus defines the scope of the patent.\n",
    "\n",
    "I then count the number of predicted valid and invalid patents by CPC group and issue quarter.  The post period after the intervention start after the *Alice* decision.\n",
    "\n",
    "Since we have somewhat large differences in the number of quarterly patent issuances, I normalize each quarterly count by the its first value in Q1 2012.  Thus, every count starts at one and we can more easily compare how the relative number of issuance change over time."
   ]
  },
  {
   "cell_type": "code",
   "execution_count": 3,
   "id": "cbd7bdce",
   "metadata": {},
   "outputs": [
    {
     "name": "stdout",
     "output_type": "stream",
     "text": [
      "Load PatentsView patent and current CPC data\n",
      "Load Alice classification outcomes and define treated patents\n",
      "Merge and output patent and classification data\n"
     ]
    }
   ],
   "source": [
    "# Load patent-level classification outcomes\n",
    "df = classification_testing.analysis_df_build()\n",
    "\n",
    "# Aggregate to CPC group - quarter - treatment counts\n",
    "agg_counts = df.groupby(\n",
    "    ['group_id', 'quarter_issue_date_dt', 'Treated'])['patent_id'].\\\n",
    "    count().reset_index().rename(columns={'patent_id':'Count'})\n",
    "\n",
    "alice_decision_date = np.datetime64('2014-06-19')\n",
    "agg_counts['Post'] = (agg_counts['quarter_issue_date_dt'] > alice_decision_date).astype(int)\n",
    "\n",
    "\n",
    "# Normalize the count 1 at the beginning of 2012\n",
    "norm_counts = agg_counts[\n",
    "    ['group_id', 'quarter_issue_date_dt', 'Treated', 'Count']].\\\n",
    "    sort_values('quarter_issue_date_dt')\n",
    "\n",
    "first = (norm_counts.drop('quarter_issue_date_dt', axis=1).\\\n",
    "         groupby(['group_id', 'Treated']).transform('first'))\n",
    "norm_counts['normalized_Count'] = norm_counts['Count'] / first['Count']"
   ]
  },
  {
   "cell_type": "markdown",
   "id": "30ce8faa",
   "metadata": {},
   "source": [
    "Plotting the two time series for the quartlery issuances by CPC group, we can clearly see that after the *Alice* decision treated patent issuances fell much more than issuances of patents that are predicted to be valid.  Indeed, even within CPC groups, my model can identify valid from invalid patents under *Alice*."
   ]
  },
  {
   "cell_type": "code",
   "execution_count": 20,
   "id": "dd12ea93",
   "metadata": {},
   "outputs": [
    {
     "data": {
      "image/png": "[encoded data removed]",
      "text/plain": [
       "<Figure size 800x500 with 1 Axes>"
      ]
     },
     "metadata": {},
     "output_type": "display_data"
    }
   ],
   "source": [
    "%matplotlib inline\n",
    "sns.set_style(\"whitegrid\")\n",
    "sns.set_palette(\"dark\")\n",
    "\n",
    "plt.figure(figsize=(8, 5))\n",
    "ax = sns.lineplot(data=norm_counts,\n",
    "                    y='normalized_Count',\n",
    "                    x='quarter_issue_date_dt',\n",
    "                    hue='Treated',\n",
    "                    markers=True,\n",
    "                    err_style='bars',\n",
    "                    errorbar='ci')\n",
    "\n",
    "ax.axvline(x = alice_decision_date.__hash__(),\n",
    "           color='r', linestyle='--') \n",
    "ax.set(xlabel='Issue Date', \n",
    "       ylabel='Normalized Count',\n",
    "       title='Count Issued Patents in Affected CPC Groups')\n",
    "\n",
    "plt.legend(title = 'Predicted Status', loc='upper left', labels=['Control', 'Treated'])\n",
    "plt.savefig(result_directory + '/time_series_treated_control_issuances.png', dpi=300)\n",
    "\n",
    "plt.show()"
   ]
  },
  {
   "cell_type": "markdown",
   "id": "57e8e662",
   "metadata": {},
   "source": [
    "The graphic includes confidence interval around each point estimate.  Consistent with what we would expect, patent issuances of treated and control patents follow the same trend before *Alice*, with no significant pre-trend difference for treated patents.  After *Alice*, the number of issued treated patents significantly decreases relative to the control patents, which show broadly a continuation of the pre-*Alice* trend.  "
   ]
  },
  {
   "cell_type": "markdown",
   "id": "f2b83c83",
   "metadata": {},
   "source": [
    "Next, we can quanity the drop in invalid patent issuances compared to valid issuances by running variations of difference-in-differences modes with treatment defined by being classified as invalid and the post-period starting after the *Alice* decision.  \n",
    "\n",
    "For the first model, we can just run a simple OLS regression.  I take the log of the issuance counts so that the coefficients can be interpreted as percentage changes and to limit the effect of outliers with large quarterly patent issuances.  Standard error are clustered on the CPC group level."
   ]
  },
  {
   "cell_type": "code",
   "execution_count": 6,
   "id": "3b359d60",
   "metadata": {},
   "outputs": [
    {
     "name": "stdout",
     "output_type": "stream",
     "text": [
      "                            OLS Regression Results                            \n",
      "==============================================================================\n",
      "Dep. Variable:              log_Count   R-squared:                       0.007\n",
      "Model:                            OLS   Adj. R-squared:                  0.006\n",
      "Method:                 Least Squares   F-statistic:                     5.089\n",
      "Date:                Tue, 31 Oct 2023   Prob (F-statistic):            0.00181\n",
      "Time:                        07:14:32   Log-Likelihood:                -9743.5\n",
      "No. Observations:                5029   AIC:                         1.949e+04\n",
      "Df Residuals:                    5025   BIC:                         1.952e+04\n",
      "Df Model:                           3                                         \n",
      "Covariance Type:              cluster                                         \n",
      "================================================================================\n",
      "                   coef    std err          z      P>|z|      [0.025      0.975]\n",
      "--------------------------------------------------------------------------------\n",
      "Intercept        1.4040      0.123     11.399      0.000       1.163       1.645\n",
      "Treated         -0.2000      0.102     -1.967      0.049      -0.399      -0.001\n",
      "Post             0.1201      0.041      2.929      0.003       0.040       0.200\n",
      "Treated:Post    -0.1249      0.059     -2.109      0.035      -0.241      -0.009\n",
      "==============================================================================\n",
      "Omnibus:                     1447.607   Durbin-Watson:                   0.476\n",
      "Prob(Omnibus):                  0.000   Jarque-Bera (JB):             3599.784\n",
      "Skew:                           1.585   Prob(JB):                         0.00\n",
      "Kurtosis:                       5.670   Cond. No.                         6.96\n",
      "==============================================================================\n",
      "\n",
      "Notes:\n",
      "[1] Standard Errors are robust to cluster correlation (cluster)\n"
     ]
    }
   ],
   "source": [
    "# Regression models\n",
    "\n",
    "# Log is useful to estimate percentage changes\n",
    "agg_counts['log_Count'] = np.log(agg_counts['Count'])\n",
    "\n",
    "reg_did = sm.ols(formula='log_Count ~ Treated * Post',\n",
    "                 data=agg_counts).fit(\n",
    "                     cov_type='cluster',\n",
    "                     cov_kwds={'groups': agg_counts['group_id']})\n",
    "print(reg_did.summary())    "
   ]
  },
  {
   "cell_type": "markdown",
   "id": "5797c160",
   "metadata": {},
   "source": [
    "The coefficient of the difference-in-differences model shows that patent issuances for patents that are predicted to be invalid by the model decrease by ca. 12.5% after the *Alice* decision, even compared to patents in the same CPC group.  Thus, my classification model is significanly better at identifying invalid patents than the technology classification by the USPTO alone.\n",
    "\n",
    "\n",
    "While this appears like a rather small shock, it should be noted that this decrease happens across a very large set of patents (in this example alone we classified more than one million patents), thus a shortfall of 12.5% translates into thousands of innovations that are not patent eligible anymore.  "
   ]
  },
  {
   "cell_type": "markdown",
   "id": "88472c35",
   "metadata": {},
   "source": [
    "We can expand on the simple OLS setting and control for CPC group and quarter fixed effects in a panel model."
   ]
  },
  {
   "cell_type": "code",
   "execution_count": 7,
   "id": "ed1a9730",
   "metadata": {},
   "outputs": [
    {
     "name": "stdout",
     "output_type": "stream",
     "text": [
      "                          PanelOLS Estimation Summary                           \n",
      "================================================================================\n",
      "Dep. Variable:              log_Count   R-squared:                        0.4544\n",
      "Estimator:                   PanelOLS   R-squared (Between):             -0.4337\n",
      "No. Observations:                5029   R-squared (Within):               0.4223\n",
      "Date:                Tue, Oct 31 2023   R-squared (Overall):             -0.2687\n",
      "Time:                        07:14:35   Log-likelihood                   -3995.3\n",
      "Cov. Estimator:             Clustered                                           \n",
      "                                        F-statistic:                      1917.7\n",
      "Entities:                         403   P-value                           0.0000\n",
      "Avg Obs:                       12.479   Distribution:                  F(2,4605)\n",
      "Min Obs:                       1.0000                                           \n",
      "Max Obs:                       40.000   F-statistic (robust):             146.79\n",
      "                                        P-value                           0.0000\n",
      "Time periods:                      20   Distribution:                  F(2,4605)\n",
      "Avg Obs:                       251.45                                           \n",
      "Min Obs:                       216.00                                           \n",
      "Max Obs:                       307.00                                           \n",
      "                                                                                \n",
      "                              Parameter Estimates                               \n",
      "================================================================================\n",
      "              Parameter  Std. Err.     T-stat    P-value    Lower CI    Upper CI\n",
      "--------------------------------------------------------------------------------\n",
      "Treated         -1.0642     0.0731    -14.553     0.0000     -1.2076     -0.9209\n",
      "Treated:Post    -0.1426     0.0457    -3.1185     0.0018     -0.2323     -0.0530\n",
      "================================================================================\n",
      "\n",
      "F-test for Poolability: 96.737\n",
      "P-value: 0.0000\n",
      "Distribution: F(421,4605)\n",
      "\n",
      "Included effects: Entity, Time\n"
     ]
    }
   ],
   "source": [
    "panel_df = agg_counts.copy()\n",
    "panel_df = panel_df.set_index(['group_id', 'quarter_issue_date_dt'])\n",
    "reg_fe = PanelOLS.from_formula(\n",
    "    formula='log_Count ~ Treated * Post + EntityEffects + TimeEffects',\n",
    "    data=panel_df, drop_absorbed=True).fit(\n",
    "            cov_type='clustered', cluster_entity=True, cluster_time=False)\n",
    "print(reg_fe)    "
   ]
  },
  {
   "cell_type": "markdown",
   "id": "09b7e1b6",
   "metadata": {},
   "source": [
    "Including fixed effects improves the fit substantially and shows an even larger and more significant decline of 14.2% for patent issuances predicted to be invalid by my model."
   ]
  },
  {
   "cell_type": "markdown",
   "id": "fee980dd",
   "metadata": {},
   "source": [
    "Since patent counts are discrete (and log transformations are problematic for discrete variables), I also implement two count models for the difference-in-differences estimation: a Poisson regression and a Negative Binomial model."
   ]
  },
  {
   "cell_type": "code",
   "execution_count": 8,
   "id": "ea2c506c",
   "metadata": {},
   "outputs": [
    {
     "name": "stdout",
     "output_type": "stream",
     "text": [
      "Optimization terminated successfully.\n",
      "         Current function value: 193.853419\n",
      "         Iterations 5\n",
      "Optimization terminated successfully.\n",
      "         Current function value: 4.006342\n",
      "         Iterations: 4\n",
      "         Function evaluations: 22\n",
      "         Gradient evaluations: 19\n",
      "                          Poisson Regression Results                          \n",
      "==============================================================================\n",
      "Dep. Variable:                  Count   No. Observations:                 5029\n",
      "Model:                        Poisson   Df Residuals:                     5025\n",
      "Method:                           MLE   Df Model:                            3\n",
      "Date:                Tue, 31 Oct 2023   Pseudo R-squ.:                 0.01710\n",
      "Time:                        07:14:36   Log-Likelihood:            -9.7489e+05\n",
      "converged:                       True   LL-Null:                   -9.9185e+05\n",
      "Covariance Type:            nonrobust   LLR p-value:                     0.000\n",
      "================================================================================\n",
      "                   coef    std err          z      P>|z|      [0.025      0.975]\n",
      "--------------------------------------------------------------------------------\n",
      "Intercept        4.3055      0.003   1390.725      0.000       4.299       4.312\n",
      "Treated         -0.6146      0.007    -89.120      0.000      -0.628      -0.601\n",
      "Post             0.0915      0.004     23.152      0.000       0.084       0.099\n",
      "Treated:Post    -0.2740      0.009    -29.539      0.000      -0.292      -0.256\n",
      "================================================================================\n"
     ]
    }
   ],
   "source": [
    "reg_poisson = poisson(formula='Count ~ Treated * Post',\n",
    "                      data=agg_counts).fit()\n",
    "reg_negbin = negativebinomial(formula='Count ~ Treated * Post',\n",
    "                              data=agg_counts).fit()\n",
    "\n",
    "print(reg_poisson.summary())"
   ]
  },
  {
   "cell_type": "code",
   "execution_count": 9,
   "id": "37fb92b1",
   "metadata": {},
   "outputs": [
    {
     "name": "stdout",
     "output_type": "stream",
     "text": [
      "                     NegativeBinomial Regression Results                      \n",
      "==============================================================================\n",
      "Dep. Variable:                  Count   No. Observations:                 5029\n",
      "Model:               NegativeBinomial   Df Residuals:                     5025\n",
      "Method:                           MLE   Df Model:                            3\n",
      "Date:                Tue, 31 Oct 2023   Pseudo R-squ.:                0.003634\n",
      "Time:                        07:14:37   Log-Likelihood:                -20148.\n",
      "converged:                       True   LL-Null:                       -20221.\n",
      "Covariance Type:            nonrobust   LLR p-value:                 1.196e-31\n",
      "================================================================================\n",
      "                   coef    std err          z      P>|z|      [0.025      0.975]\n",
      "--------------------------------------------------------------------------------\n",
      "Intercept        4.3055      0.053     80.518      0.000       4.201       4.410\n",
      "Treated         -0.6146      0.095     -6.477      0.000      -0.801      -0.429\n",
      "Post             0.0915      0.070      1.316      0.188      -0.045       0.228\n",
      "Treated:Post    -0.2740      0.124     -2.211      0.027      -0.517      -0.031\n",
      "alpha            4.0123      0.064     62.984      0.000       3.887       4.137\n",
      "================================================================================\n"
     ]
    }
   ],
   "source": [
    "print(reg_negbin.summary())"
   ]
  },
  {
   "cell_type": "markdown",
   "id": "8e0d3ac5",
   "metadata": {},
   "source": [
    "Looking at the outcome for the count model, we see that the coefficient for the difference-in-differences interaction terms shows that count of invalid patents decreases by ca. 1-exp(-0.27)=23.7% after *Alice* relativ to valid patents.  Thus, the effect of *Alice* and the performance of the model are even more pronounced when taking into account the discrete distribution of the outcome variable.  "
   ]
  },
  {
   "cell_type": "markdown",
   "id": "64d445fe",
   "metadata": {},
   "source": [
    "Consistent across all estimations, we find that the count of treated patents decreased following the *Alice* decision relative to the count of patents that are predicted to be valid.  Even within CPC groups that are most affected by *Alice*, the classification method identifies invalid patents consistently."
   ]
  },
  {
   "cell_type": "markdown",
   "id": "acf15d35",
   "metadata": {},
   "source": [
    "For reproduceability, save the regression outputs into the results folder."
   ]
  },
  {
   "cell_type": "code",
   "execution_count": 21,
   "id": "e40d5a23",
   "metadata": {},
   "outputs": [
    {
     "name": "stdout",
     "output_type": "stream",
     "text": [
      "                            OLS Regression Results                            \n",
      "==============================================================================\n",
      "Dep. Variable:              log_Count   R-squared:                       0.899\n",
      "Model:                            OLS   Adj. R-squared:                  0.890\n",
      "Method:                 Least Squares   F-statistic:                     203.6\n",
      "Date:                Tue, 31 Oct 2023   Prob (F-statistic):          2.10e-199\n",
      "Time:                        07:20:59   Log-Likelihood:                -3995.3\n",
      "No. Observations:                5029   AIC:                             8839.\n",
      "Df Residuals:                    4605   BIC:                         1.160e+04\n",
      "Df Model:                         423                                         \n",
      "Covariance Type:              cluster                                         \n",
      "================================================================================================================================\n",
      "                                                                   coef    std err          z      P>|z|      [0.025      0.975]\n",
      "--------------------------------------------------------------------------------------------------------------------------------\n",
      "Intercept                                                        0.2382      0.047      5.016      0.000       0.145       0.331\n",
      "C(group_id)[T.A01C]                                             -0.1762      0.020     -8.930      0.000      -0.215      -0.138\n",
      "C(group_id)[T.A01D]                                             -0.1653      0.012    -13.847      0.000      -0.189      -0.142\n",
      "C(group_id)[T.A01F]                                              0.1161      0.026      4.398      0.000       0.064       0.168\n",
      "C(group_id)[T.A01G]                                             -0.0914      0.010     -9.598      0.000      -0.110      -0.073\n",
      "C(group_id)[T.A01H]                                             -0.0392      0.025     -1.546      0.122      -0.089       0.010\n",
      "C(group_id)[T.A01J]                                              0.1206      0.034      3.575      0.000       0.054       0.187\n",
      "C(group_id)[T.A01K]                                              0.0078      0.010      0.758      0.448      -0.012       0.028\n",
      "C(group_id)[T.A01M]                                             -0.4083      0.017    -23.339      0.000      -0.443      -0.374\n",
      "C(group_id)[T.A01N]                                              0.5500      0.033     16.623      0.000       0.485       0.615\n",
      "C(group_id)[T.A21B]                                             -0.5913      0.035    -16.794      0.000      -0.660      -0.522\n",
      "C(group_id)[T.A21C]                                             -0.4392      0.033    -13.205      0.000      -0.504      -0.374\n",
      "C(group_id)[T.A22B]                                              0.3499      0.043      8.123      0.000       0.265       0.434\n",
      "C(group_id)[T.A23D]                                             -0.3713      0.037     -9.945      0.000      -0.444      -0.298\n",
      "C(group_id)[T.A23F]                                             -0.7011      0.032    -21.851      0.000      -0.764      -0.638\n",
      "C(group_id)[T.A23G]                                             -0.4951      0.031    -16.070      0.000      -0.555      -0.435\n",
      "C(group_id)[T.A23K]                                              0.4308      0.057      7.558      0.000       0.319       0.543\n",
      "C(group_id)[T.A23L]                                             -0.2606      0.012    -22.600      0.000      -0.283      -0.238\n",
      "C(group_id)[T.A23P]                                             -0.4055      0.020    -20.594      0.000      -0.444      -0.367\n",
      "C(group_id)[T.A24D]                                             -0.1219      0.022     -5.551      0.000      -0.165      -0.079\n",
      "C(group_id)[T.A24F]                                             -0.6104      0.034    -17.867      0.000      -0.677      -0.543\n",
      "C(group_id)[T.A41B]                                             -0.7109      0.035    -20.313      0.000      -0.780      -0.642\n",
      "C(group_id)[T.A41D]                                             -0.2803      0.008    -34.635      0.000      -0.296      -0.264\n",
      "C(group_id)[T.A41F]                                             -0.5913      0.035    -16.794      0.000      -0.660      -0.522\n",
      "C(group_id)[T.A41H]                                             -0.3170      0.017    -18.396      0.000      -0.351      -0.283\n",
      "C(group_id)[T.A42B]                                             -0.7760      0.040    -19.615      0.000      -0.854      -0.698\n",
      "C(group_id)[T.A43B]                                             -0.2459      0.020    -12.213      0.000      -0.285      -0.206\n",
      "C(group_id)[T.A43D]                                             -0.1087      0.018     -6.001      0.000      -0.144      -0.073\n",
      "C(group_id)[T.A44B]                                             -0.7207      0.040    -18.027      0.000      -0.799      -0.642\n",
      "C(group_id)[T.A44C]                                             -0.4261      0.023    -18.445      0.000      -0.471      -0.381\n",
      "C(group_id)[T.A45C]                                              0.6381      0.013     48.811      0.000       0.612       0.664\n",
      "C(group_id)[T.A45D]                                             -0.2385      0.012    -19.659      0.000      -0.262      -0.215\n",
      "C(group_id)[T.A45F]                                             -0.1939      0.016    -12.025      0.000      -0.226      -0.162\n",
      "C(group_id)[T.A46B]                                             -0.4289      0.024    -18.194      0.000      -0.475      -0.383\n",
      "C(group_id)[T.A47B]                                              0.1151      0.016      7.276      0.000       0.084       0.146\n",
      "C(group_id)[T.A47C]                                              0.1560      0.009     18.052      0.000       0.139       0.173\n",
      "C(group_id)[T.A47D]                                             -0.6452      0.034    -18.914      0.000      -0.712      -0.578\n",
      "C(group_id)[T.A47F]                                              0.2528      0.013     18.953      0.000       0.227       0.279\n",
      "C(group_id)[T.A47G]                                             -0.2580      0.019    -13.657      0.000      -0.295      -0.221\n",
      "C(group_id)[T.A47J]                                             -0.2601      0.015    -17.223      0.000      -0.290      -0.230\n",
      "C(group_id)[T.A47K]                                             -0.5860      0.026    -22.423      0.000      -0.637      -0.535\n",
      "C(group_id)[T.A47L]                                              0.0156      0.012      1.255      0.209      -0.009       0.040\n",
      "C(group_id)[T.A61B]                                              2.5019      0.019    134.771      0.000       2.466       2.538\n",
      "C(group_id)[T.A61C]                                              0.0402      0.008      4.991      0.000       0.024       0.056\n",
      "C(group_id)[T.A61F]                                              0.6171      0.010     60.576      0.000       0.597       0.637\n",
      "C(group_id)[T.A61G]                                             -0.2147      0.020    -10.854      0.000      -0.253      -0.176\n",
      "C(group_id)[T.A61H]                                             -0.2941      0.020    -14.571      0.000      -0.334      -0.255\n",
      "C(group_id)[T.A61J]                                              0.4061      0.010     42.218      0.000       0.387       0.425\n",
      "C(group_id)[T.A61K]                                              0.2380      0.017     14.341      0.000       0.205       0.270\n",
      "C(group_id)[T.A61L]                                             -0.0055      0.011     -0.498      0.619      -0.027       0.016\n",
      "C(group_id)[T.A61M]                                              0.6277      0.011     59.068      0.000       0.607       0.648\n",
      "C(group_id)[T.A61N]                                              0.9306      0.008    110.009      0.000       0.914       0.947\n",
      "C(group_id)[T.A61P]                                              0.6986      0.058     12.046      0.000       0.585       0.812\n",
      "C(group_id)[T.A61Q]                                             -0.5913      0.035    -16.794      0.000      -0.660      -0.522\n",
      "C(group_id)[T.A62B]                                             -0.4694      0.036    -12.975      0.000      -0.540      -0.398\n",
      "C(group_id)[T.A62C]                                             -0.3779      0.017    -22.763      0.000      -0.410      -0.345\n",
      "C(group_id)[T.A63B]                                              1.4370      0.014    104.993      0.000       1.410       1.464\n",
      "C(group_id)[T.A63C]                                             -0.7270      0.032    -22.461      0.000      -0.790      -0.664\n",
      "C(group_id)[T.A63D]                                             -0.1841      0.029     -6.274      0.000      -0.242      -0.127\n",
      "C(group_id)[T.A63F]                                              4.4639      0.019    240.458      0.000       4.428       4.500\n",
      "C(group_id)[T.A63G]                                             -0.3061      0.013    -24.041      0.000      -0.331      -0.281\n",
      "C(group_id)[T.A63H]                                              0.3419      0.013     25.997      0.000       0.316       0.368\n",
      "C(group_id)[T.A63J]                                             -0.6719      0.025    -26.601      0.000      -0.721      -0.622\n",
      "C(group_id)[T.B01D]                                             -0.1308      0.017     -7.782      0.000      -0.164      -0.098\n",
      "C(group_id)[T.B01F]                                             -0.1993      0.015    -13.196      0.000      -0.229      -0.170\n",
      "C(group_id)[T.B01J]                                              0.1629      0.027      5.976      0.000       0.110       0.216\n",
      "C(group_id)[T.B01L]                                             -0.0853      0.019     -4.437      0.000      -0.123      -0.048\n",
      "C(group_id)[T.B02C]                                             -0.3857      0.028    -13.584      0.000      -0.441      -0.330\n",
      "C(group_id)[T.B04B]                                             -0.2635      0.040     -6.538      0.000      -0.343      -0.185\n",
      "C(group_id)[T.B04C]                                             -0.4694      0.036    -12.975      0.000      -0.540      -0.398\n",
      "C(group_id)[T.B05B]                                             -0.1486      0.021     -7.165      0.000      -0.189      -0.108\n",
      "C(group_id)[T.B05C]                                             -0.4694      0.036    -12.975      0.000      -0.540      -0.398\n",
      "C(group_id)[T.B05D]                                             -0.5001      0.025    -20.288      0.000      -0.548      -0.452\n",
      "C(group_id)[T.B06B]                                             -0.3545      0.024    -14.698      0.000      -0.402      -0.307\n",
      "C(group_id)[T.B07C]                                              0.2200      0.009     24.670      0.000       0.202       0.237\n",
      "C(group_id)[T.B08B]                                             -0.0387      0.016     -2.489      0.013      -0.069      -0.008\n",
      "C(group_id)[T.B21C]                                             -0.3419      0.045     -7.665      0.000      -0.429      -0.254\n",
      "C(group_id)[T.B21D]                                             -0.4390      0.027    -16.210      0.000      -0.492      -0.386\n",
      "C(group_id)[T.B21F]                                             -0.4086      0.037    -10.922      0.000      -0.482      -0.335\n",
      "C(group_id)[T.B21K]                                             -0.2382      0.047     -5.016      0.000      -0.331      -0.145\n",
      "C(group_id)[T.B22D]                                             -0.6882      0.032    -21.736      0.000      -0.750      -0.626\n",
      "C(group_id)[T.B22F]                                             -0.7362      0.039    -19.100      0.000      -0.812      -0.661\n",
      "C(group_id)[T.B23C]                                              0.6185      0.052     11.955      0.000       0.517       0.720\n",
      "C(group_id)[T.B23K]                                             -0.2598      0.020    -12.733      0.000      -0.300      -0.220\n",
      "C(group_id)[T.B23P]                                              0.0375      0.012      3.128      0.002       0.014       0.061\n",
      "C(group_id)[T.B23Q]                                             -0.2164      0.014    -15.618      0.000      -0.244      -0.189\n",
      "C(group_id)[T.B24B]                                             -0.5847      0.025    -23.843      0.000      -0.633      -0.537\n",
      "C(group_id)[T.B24C]                                             -0.6733      0.031    -21.540      0.000      -0.735      -0.612\n",
      "C(group_id)[T.B25B]                                             -0.6638      0.029    -22.943      0.000      -0.720      -0.607\n",
      "C(group_id)[T.B25C]                                             -0.3713      0.037     -9.945      0.000      -0.444      -0.298\n",
      "C(group_id)[T.B25F]                                             -0.3538      0.032    -10.925      0.000      -0.417      -0.290\n",
      "C(group_id)[T.B25G]                                             -0.7116      0.029    -24.554      0.000      -0.768      -0.655\n",
      "C(group_id)[T.B25H]                                             -0.6401      0.039    -16.516      0.000      -0.716      -0.564\n",
      "C(group_id)[T.B25J]                                              0.8256      0.008    108.826      0.000       0.811       0.840\n",
      "C(group_id)[T.B26B]                                             -0.6104      0.034    -17.867      0.000      -0.677      -0.543\n",
      "C(group_id)[T.B26D]                                             -0.2260      0.011    -20.727      0.000      -0.247      -0.205\n",
      "C(group_id)[T.B26F]                                             -0.4880      0.024    -19.986      0.000      -0.536      -0.440\n",
      "C(group_id)[T.B27M]                                             -0.6452      0.034    -18.914      0.000      -0.712      -0.578\n",
      "C(group_id)[T.B28B]                                             -0.6452      0.034    -18.914      0.000      -0.712      -0.578\n",
      "C(group_id)[T.B28C]                                             -0.6913      0.040    -17.242      0.000      -0.770      -0.613\n",
      "C(group_id)[T.B29B]                                              0.5760      0.053     10.918      0.000       0.473       0.679\n",
      "C(group_id)[T.B29C]                                              0.7547      0.007    101.103      0.000       0.740       0.769\n",
      "C(group_id)[T.B29D]                                             -0.5055      0.024    -21.018      0.000      -0.553      -0.458\n",
      "C(group_id)[T.B30B]                                             -0.4683      0.025    -18.855      0.000      -0.517      -0.420\n",
      "C(group_id)[T.B32B]                                              0.3725      0.013     29.185      0.000       0.348       0.398\n",
      "C(group_id)[T.B41F]                                             -0.2571      0.015    -17.214      0.000      -0.286      -0.228\n",
      "C(group_id)[T.B41J]                                              1.3446      0.008    167.950      0.000       1.329       1.360\n",
      "C(group_id)[T.B41K]                                             -0.3419      0.045     -7.665      0.000      -0.429      -0.254\n",
      "C(group_id)[T.B41L]                                             -0.5509      0.041    -13.314      0.000      -0.632      -0.470\n",
      "C(group_id)[T.B41M]                                             -0.4098      0.015    -27.032      0.000      -0.440      -0.380\n",
      "C(group_id)[T.B42C]                                             -0.1736      0.015    -11.567      0.000      -0.203      -0.144\n",
      "C(group_id)[T.B42D]                                              0.3993      0.012     33.172      0.000       0.376       0.423\n",
      "C(group_id)[T.B42F]                                             -0.5035      0.029    -17.546      0.000      -0.560      -0.447\n",
      "C(group_id)[T.B43K]                                             -0.2080      0.012    -17.116      0.000      -0.232      -0.184\n",
      "C(group_id)[T.B43L]                                             -0.4367      0.023    -19.057      0.000      -0.482      -0.392\n",
      "C(group_id)[T.B44B]                                             -0.6804      0.032    -21.454      0.000      -0.743      -0.618\n",
      "C(group_id)[T.B44C]                                             -0.4774      0.028    -17.228      0.000      -0.532      -0.423\n",
      "C(group_id)[T.B44D]                                             -0.7760      0.040    -19.615      0.000      -0.854      -0.698\n",
      "C(group_id)[T.B44F]                                             -0.6008      0.028    -21.747      0.000      -0.655      -0.547\n",
      "C(group_id)[T.B60B]                                             -0.5703      0.024    -23.977      0.000      -0.617      -0.524\n",
      "C(group_id)[T.B60C]                                             -0.2955      0.012    -24.063      0.000      -0.320      -0.271\n",
      "C(group_id)[T.B60D]                                             -0.6599      0.034    -19.218      0.000      -0.727      -0.593\n",
      "C(group_id)[T.B60H]                                             -0.3924      0.021    -18.302      0.000      -0.434      -0.350\n",
      "C(group_id)[T.B60J]                                             -0.5416      0.023    -23.227      0.000      -0.587      -0.496\n",
      "C(group_id)[T.B60K]                                              0.7316      0.011     67.322      0.000       0.710       0.753\n",
      "C(group_id)[T.B60L]                                              1.0826      0.010    107.320      0.000       1.063       1.102\n",
      "C(group_id)[T.B60M]                                             -0.5913      0.035    -16.794      0.000      -0.660      -0.522\n",
      "C(group_id)[T.B60N]                                             -0.3800      0.016    -23.759      0.000      -0.411      -0.349\n",
      "C(group_id)[T.B60P]                                             -0.6380      0.024    -26.927      0.000      -0.684      -0.592\n",
      "C(group_id)[T.B60Q]                                             -0.0780      0.017     -4.532      0.000      -0.112      -0.044\n",
      "C(group_id)[T.B60R]                                              1.1563      0.011    104.094      0.000       1.134       1.178\n",
      "C(group_id)[T.B60S]                                             -0.6276      0.023    -27.278      0.000      -0.673      -0.583\n",
      "C(group_id)[T.B60T]                                             -0.1845      0.015    -12.678      0.000      -0.213      -0.156\n",
      "C(group_id)[T.B60W]                                              0.8576      0.007    116.426      0.000       0.843       0.872\n",
      "C(group_id)[T.B61B]                                             -0.4086      0.037    -10.922      0.000      -0.482      -0.335\n",
      "C(group_id)[T.B61C]                                             -0.2852      0.026    -10.925      0.000      -0.336      -0.234\n",
      "C(group_id)[T.B61H]                                             -0.6104      0.034    -17.867      0.000      -0.677      -0.543\n",
      "C(group_id)[T.B61K]                                             -0.3060      0.017    -18.165      0.000      -0.339      -0.273\n",
      "C(group_id)[T.B61L]                                              0.0960      0.009     10.125      0.000       0.077       0.115\n",
      "C(group_id)[T.B62B]                                             -0.1701      0.020     -8.484      0.000      -0.209      -0.131\n",
      "C(group_id)[T.B62D]                                             -0.1181      0.016     -7.591      0.000      -0.149      -0.088\n",
      "C(group_id)[T.B62H]                                             -0.3751      0.032    -11.697      0.000      -0.438      -0.312\n",
      "C(group_id)[T.B62J]                                             -0.6105      0.026    -23.106      0.000      -0.662      -0.559\n",
      "C(group_id)[T.B62K]                                             -0.4036      0.024    -16.738      0.000      -0.451      -0.356\n",
      "C(group_id)[T.B62M]                                             -0.6894      0.028    -24.831      0.000      -0.744      -0.635\n",
      "C(group_id)[T.B63B]                                              0.1587      0.012     13.439      0.000       0.136       0.182\n",
      "C(group_id)[T.B63C]                                             -0.7760      0.040    -19.615      0.000      -0.854      -0.698\n",
      "C(group_id)[T.B63J]                                             -0.2382      0.047     -5.016      0.000      -0.331      -0.145\n",
      "C(group_id)[T.B64B]                                             -0.6452      0.034    -18.914      0.000      -0.712      -0.578\n",
      "C(group_id)[T.B64C]                                              0.0606      0.009      6.955      0.000       0.044       0.078\n",
      "C(group_id)[T.B64D]                                              0.5510      0.009     59.436      0.000       0.533       0.569\n",
      "C(group_id)[T.B64F]                                             -0.4615      0.017    -26.926      0.000      -0.495      -0.428\n",
      "C(group_id)[T.B64G]                                             -0.0488      0.020     -2.435      0.015      -0.088      -0.010\n",
      "C(group_id)[T.B65B]                                              0.5250      0.010     52.005      0.000       0.505       0.545\n",
      "C(group_id)[T.B65C]                                              0.1047      0.012      8.702      0.000       0.081       0.128\n",
      "C(group_id)[T.B65D]                                              0.7231      0.008     86.802      0.000       0.707       0.739\n",
      "C(group_id)[T.B65F]                                             -0.3124      0.015    -21.175      0.000      -0.341      -0.284\n",
      "C(group_id)[T.B65G]                                              0.9291      0.008    119.293      0.000       0.914       0.944\n",
      "C(group_id)[T.B65H]                                              0.2846      0.010     29.659      0.000       0.266       0.303\n",
      "C(group_id)[T.B66B]                                              0.0589      0.014      4.280      0.000       0.032       0.086\n",
      "C(group_id)[T.B66C]                                             -0.0228      0.016     -1.429      0.153      -0.054       0.008\n",
      "C(group_id)[T.B66D]                                             -0.5746      0.026    -21.852      0.000      -0.626      -0.523\n",
      "C(group_id)[T.B66F]                                             -0.6309      0.031    -20.075      0.000      -0.693      -0.569\n",
      "C(group_id)[T.B67D]                                              0.6500      0.009     76.281      0.000       0.633       0.667\n",
      "C(group_id)[T.B81B]                                             -0.6458      0.030    -21.203      0.000      -0.705      -0.586\n",
      "C(group_id)[T.B81C]                                             -0.2931      0.018    -16.419      0.000      -0.328      -0.258\n",
      "C(group_id)[T.C01B]                                             -0.3770      0.015    -25.024      0.000      -0.406      -0.347\n",
      "C(group_id)[T.C02F]                                              0.0030      0.018      0.163      0.871      -0.033       0.039\n",
      "C(group_id)[T.C03B]                                             -0.6286      0.023    -27.609      0.000      -0.673      -0.584\n",
      "C(group_id)[T.C03C]                                             -0.1107      0.023     -4.754      0.000      -0.156      -0.065\n",
      "C(group_id)[T.C04B]                                              0.0315      0.023      1.396      0.163      -0.013       0.076\n",
      "C(group_id)[T.C05F]                                              0.5454      0.055      9.947      0.000       0.438       0.653\n",
      "C(group_id)[T.C07C]                                              0.0329      0.024      1.399      0.162      -0.013       0.079\n",
      "C(group_id)[T.C07D]                                              0.1841      0.026      7.039      0.000       0.133       0.235\n",
      "C(group_id)[T.C07H]                                              0.9278      0.058     16.055      0.000       0.815       1.041\n",
      "C(group_id)[T.C07K]                                              0.5978      0.049     12.306      0.000       0.503       0.693\n",
      "C(group_id)[T.C08F]                                              0.3087      0.030     10.245      0.000       0.250       0.368\n",
      "C(group_id)[T.C08G]                                              0.0497      0.029      1.724      0.085      -0.007       0.106\n",
      "C(group_id)[T.C08J]                                             -0.2275      0.012    -19.163      0.000      -0.251      -0.204\n",
      "C(group_id)[T.C08K]                                              0.5265      0.054      9.689      0.000       0.420       0.633\n",
      "C(group_id)[T.C08L]                                             -0.6253      0.028    -22.723      0.000      -0.679      -0.571\n",
      "C(group_id)[T.C09B]                                              0.8260      0.077     10.732      0.000       0.675       0.977\n",
      "C(group_id)[T.C09D]                                              0.1603      0.018      8.816      0.000       0.125       0.196\n",
      "C(group_id)[T.C09J]                                             -0.5182      0.019    -26.989      0.000      -0.556      -0.481\n",
      "C(group_id)[T.C09K]                                             -0.0958      0.010     -9.927      0.000      -0.115      -0.077\n",
      "C(group_id)[T.C10G]                                              0.0384      0.012      3.216      0.001       0.015       0.062\n",
      "C(group_id)[T.C10L]                                              0.3801      0.039      9.746      0.000       0.304       0.457\n",
      "C(group_id)[T.C10M]                                              0.8260      0.077     10.732      0.000       0.675       0.977\n",
      "C(group_id)[T.C11D]                                             -0.5518      0.030    -18.520      0.000      -0.610      -0.493\n",
      "C(group_id)[T.C12M]                                             -0.4148      0.030    -13.631      0.000      -0.474      -0.355\n",
      "C(group_id)[T.C12N]                                              0.3645      0.037      9.775      0.000       0.291       0.438\n",
      "C(group_id)[T.C12P]                                              0.5656      0.059      9.649      0.000       0.451       0.680\n",
      "C(group_id)[T.C12Q]                                              0.1912      0.018     10.902      0.000       0.157       0.226\n",
      "C(group_id)[T.C14B]                                              0.0873      0.030      2.946      0.003       0.029       0.145\n",
      "C(group_id)[T.C22C]                                             -0.1601      0.017     -9.587      0.000      -0.193      -0.127\n",
      "C(group_id)[T.C23C]                                             -0.2827      0.019    -15.268      0.000      -0.319      -0.246\n",
      "C(group_id)[T.C25D]                                             -0.1811      0.017    -10.952      0.000      -0.214      -0.149\n",
      "C(group_id)[T.C30B]                                             -0.1813      0.020     -9.124      0.000      -0.220      -0.142\n",
      "C(group_id)[T.D03D]                                             -0.3751      0.032    -11.697      0.000      -0.438      -0.312\n",
      "C(group_id)[T.D04B]                                              0.0963      0.033      2.948      0.003       0.032       0.160\n",
      "C(group_id)[T.D04H]                                             -0.7362      0.039    -19.100      0.000      -0.812      -0.661\n",
      "C(group_id)[T.D05B]                                             -0.0862      0.027     -3.249      0.001      -0.138      -0.034\n",
      "C(group_id)[T.D06B]                                             -0.3508      0.041     -8.638      0.000      -0.430      -0.271\n",
      "C(group_id)[T.D06F]                                             -0.3413      0.020    -16.895      0.000      -0.381      -0.302\n",
      "C(group_id)[T.D06H]                                             -0.7362      0.039    -19.100      0.000      -0.812      -0.661\n",
      "C(group_id)[T.D21G]                                             -0.4935      0.030    -16.714      0.000      -0.551      -0.436\n",
      "C(group_id)[T.D21H]                                             -0.1743      0.017    -10.277      0.000      -0.208      -0.141\n",
      "C(group_id)[T.E01C]                                             -0.4577      0.016    -29.248      0.000      -0.488      -0.427\n",
      "C(group_id)[T.E01H]                                             -0.7362      0.039    -19.100      0.000      -0.812      -0.661\n",
      "C(group_id)[T.E02D]                                             -0.0911      0.017     -5.428      0.000      -0.124      -0.058\n",
      "C(group_id)[T.E02F]                                             -0.0621      0.013     -4.832      0.000      -0.087      -0.037\n",
      "C(group_id)[T.E03B]                                             -0.3067      0.018    -16.845      0.000      -0.342      -0.271\n",
      "C(group_id)[T.E03D]                                             -0.7109      0.035    -20.313      0.000      -0.780      -0.642\n",
      "C(group_id)[T.E04B]                                             -0.4008      0.020    -19.758      0.000      -0.441      -0.361\n",
      "C(group_id)[T.E04C]                                             -0.3217      0.029    -10.961      0.000      -0.379      -0.264\n",
      "C(group_id)[T.E04F]                                             -0.4711      0.029    -16.451      0.000      -0.527      -0.415\n",
      "C(group_id)[T.E04H]                                             -0.1060      0.008    -12.864      0.000      -0.122      -0.090\n",
      "C(group_id)[T.E05B]                                              0.3800      0.019     20.421      0.000       0.343       0.416\n",
      "C(group_id)[T.E05C]                                             -0.1229      0.019     -6.529      0.000      -0.160      -0.086\n",
      "C(group_id)[T.E05D]                                              0.2140      0.016     13.628      0.000       0.183       0.245\n",
      "C(group_id)[T.E05F]                                             -0.2877      0.016    -17.681      0.000      -0.320      -0.256\n",
      "C(group_id)[T.E05G]                                             -0.5619      0.022    -26.068      0.000      -0.604      -0.520\n",
      "C(group_id)[T.E06B]                                             -0.2925      0.019    -15.773      0.000      -0.329      -0.256\n",
      "C(group_id)[T.E21B]                                              0.8959      0.019     48.262      0.000       0.860       0.932\n",
      "C(group_id)[T.E21C]                                             -0.6278      0.027    -23.479      0.000      -0.680      -0.575\n",
      "C(group_id)[T.E21F]                                             -0.7207      0.040    -18.027      0.000      -0.799      -0.642\n",
      "C(group_id)[T.F01D]                                             -0.3688      0.016    -22.886      0.000      -0.400      -0.337\n",
      "C(group_id)[T.F01K]                                             -0.1617      0.025     -6.601      0.000      -0.210      -0.114\n",
      "C(group_id)[T.F01M]                                              0.6560      0.058     11.376      0.000       0.543       0.769\n",
      "C(group_id)[T.F01N]                                             -0.2737      0.017    -16.568      0.000      -0.306      -0.241\n",
      "C(group_id)[T.F02B]                                             -0.7760      0.040    -19.615      0.000      -0.854      -0.698\n",
      "C(group_id)[T.F02C]                                             -0.2618      0.024    -10.723      0.000      -0.310      -0.214\n",
      "C(group_id)[T.F02D]                                             -0.0050      0.013     -0.378      0.706      -0.031       0.021\n",
      "C(group_id)[T.F02G]                                             -0.0829      0.040     -2.095      0.036      -0.160      -0.005\n",
      "C(group_id)[T.F02K]                                             -0.5309      0.026    -20.632      0.000      -0.581      -0.480\n",
      "C(group_id)[T.F02M]                                             -0.3508      0.041     -8.638      0.000      -0.430      -0.271\n",
      "C(group_id)[T.F03B]                                             -0.6401      0.039    -16.516      0.000      -0.716      -0.564\n",
      "C(group_id)[T.F03D]                                             -0.3786      0.011    -34.333      0.000      -0.400      -0.357\n",
      "C(group_id)[T.F04B]                                             -0.0196      0.020     -0.962      0.336      -0.059       0.020\n",
      "C(group_id)[T.F04C]                                             -0.6683      0.029    -22.770      0.000      -0.726      -0.611\n",
      "C(group_id)[T.F04D]                                              0.3252      0.011     29.812      0.000       0.304       0.347\n",
      "C(group_id)[T.F15C]                                             -0.3296      0.032    -10.217      0.000      -0.393      -0.266\n",
      "C(group_id)[T.F15D]                                             -0.7688      0.041    -18.892      0.000      -0.849      -0.689\n",
      "C(group_id)[T.F16B]                                              0.1315      0.014      9.636      0.000       0.105       0.158\n",
      "C(group_id)[T.F16C]                                             -0.4580      0.021    -21.391      0.000      -0.500      -0.416\n",
      "C(group_id)[T.F16D]                                             -0.0635      0.021     -3.067      0.002      -0.104      -0.023\n",
      "C(group_id)[T.F16F]                                             -0.2391      0.011    -21.934      0.000      -0.260      -0.218\n",
      "C(group_id)[T.F16G]                                             -0.2382      0.047     -5.016      0.000      -0.331      -0.145\n",
      "C(group_id)[T.F16H]                                              0.0453      0.013      3.604      0.000       0.021       0.070\n",
      "C(group_id)[T.F16J]                                             -0.5071      0.028    -18.167      0.000      -0.562      -0.452\n",
      "C(group_id)[T.F16K]                                             -0.4840      0.030    -16.358      0.000      -0.542      -0.426\n",
      "C(group_id)[T.F16L]                                             -0.3002      0.021    -14.258      0.000      -0.341      -0.259\n",
      "C(group_id)[T.F16M]                                              0.9291      0.013     71.465      0.000       0.904       0.955\n",
      "C(group_id)[T.F16P]                                             -0.4102      0.025    -16.562      0.000      -0.459      -0.362\n",
      "C(group_id)[T.F16T]                                             -0.5646      0.024    -24.023      0.000      -0.611      -0.518\n",
      "C(group_id)[T.F17C]                                             -0.0276      0.022     -1.236      0.216      -0.071       0.016\n",
      "C(group_id)[T.F17D]                                              0.2240      0.039      5.737      0.000       0.147       0.301\n",
      "C(group_id)[T.F21K]                                             -0.4544      0.027    -16.894      0.000      -0.507      -0.402\n",
      "C(group_id)[T.F21L]                                             -0.2635      0.040     -6.538      0.000      -0.343      -0.185\n",
      "C(group_id)[T.F21S]                                              0.2363      0.012     19.298      0.000       0.212       0.260\n",
      "C(group_id)[T.F21V]                                              0.6100      0.016     37.192      0.000       0.578       0.642\n",
      "C(group_id)[T.F23G]                                             -0.0366      0.037     -0.986      0.324      -0.109       0.036\n",
      "C(group_id)[T.F23J]                                              0.8007      0.072     11.167      0.000       0.660       0.941\n",
      "C(group_id)[T.F23N]                                              0.1665      0.032      5.248      0.000       0.104       0.229\n",
      "C(group_id)[T.F24C]                                             -0.4749      0.026    -18.368      0.000      -0.526      -0.424\n",
      "C(group_id)[T.F24D]                                             -0.1313      0.014     -9.507      0.000      -0.158      -0.104\n",
      "C(group_id)[T.F24F]                                              0.6928      0.010     69.086      0.000       0.673       0.712\n",
      "C(group_id)[T.F24H]                                             -0.6780      0.027    -25.063      0.000      -0.731      -0.625\n",
      "C(group_id)[T.F24S]                                             -0.6971      0.029    -24.416      0.000      -0.753      -0.641\n",
      "C(group_id)[T.F24T]                                             -0.7362      0.039    -19.100      0.000      -0.812      -0.661\n",
      "C(group_id)[T.F25B]                                             -0.1928      0.013    -15.051      0.000      -0.218      -0.168\n",
      "C(group_id)[T.F25C]                                             -0.5706      0.022    -25.364      0.000      -0.615      -0.526\n",
      "C(group_id)[T.F25D]                                             -0.0140      0.022     -0.639      0.523      -0.057       0.029\n",
      "C(group_id)[T.F28D]                                              0.0442      0.011      3.964      0.000       0.022       0.066\n",
      "C(group_id)[T.F28F]                                             -0.0737      0.010     -7.466      0.000      -0.093      -0.054\n",
      "C(group_id)[T.F41A]                                             -0.4777      0.018    -26.331      0.000      -0.513      -0.442\n",
      "C(group_id)[T.F41B]                                              0.1894      0.023      8.247      0.000       0.144       0.234\n",
      "C(group_id)[T.F41G]                                             -0.3513      0.012    -28.396      0.000      -0.376      -0.327\n",
      "C(group_id)[T.F41H]                                             -0.2952      0.025    -11.868      0.000      -0.344      -0.246\n",
      "C(group_id)[T.F41J]                                             -0.5330      0.027    -19.668      0.000      -0.586      -0.480\n",
      "C(group_id)[T.F42B]                                             -0.4527      0.025    -17.927      0.000      -0.502      -0.403\n",
      "C(group_id)[T.G01B]                                              1.0011      0.008    130.465      0.000       0.986       1.016\n",
      "C(group_id)[T.G01C]                                              2.8134      0.019    151.548      0.000       2.777       2.850\n",
      "C(group_id)[T.G01D]                                              1.1294      0.011    104.094      0.000       1.108       1.151\n",
      "C(group_id)[T.G01F]                                             -0.0172      0.010     -1.671      0.095      -0.037       0.003\n",
      "C(group_id)[T.G01G]                                              0.2362      0.008     30.656      0.000       0.221       0.251\n",
      "C(group_id)[T.G01H]                                             -0.2581      0.023    -11.402      0.000      -0.303      -0.214\n",
      "C(group_id)[T.G01J]                                              0.6621      0.008     85.121      0.000       0.647       0.677\n",
      "C(group_id)[T.G01K]                                              0.3961      0.016     24.264      0.000       0.364       0.428\n",
      "C(group_id)[T.G01L]                                              0.5103      0.008     67.058      0.000       0.495       0.525\n",
      "C(group_id)[T.G01M]                                              0.3017      0.010     30.674      0.000       0.282       0.321\n",
      "C(group_id)[T.G01N]                                              1.4754      0.017     84.905      0.000       1.441       1.509\n",
      "C(group_id)[T.G01P]                                              0.3214      0.008     38.874      0.000       0.305       0.338\n",
      "C(group_id)[T.G01Q]                                             -0.6913      0.040    -17.242      0.000      -0.770      -0.613\n",
      "C(group_id)[T.G01R]                                              2.5148      0.019    135.464      0.000       2.478       2.551\n",
      "C(group_id)[T.G01S]                                              1.8864      0.018    104.649      0.000       1.851       1.922\n",
      "C(group_id)[T.G01T]                                             -0.0932      0.016     -5.942      0.000      -0.124      -0.062\n",
      "C(group_id)[T.G01V]                                              0.9017      0.019     46.361      0.000       0.864       0.940\n",
      "C(group_id)[T.G01W]                                             -0.0945      0.010     -9.098      0.000      -0.115      -0.074\n",
      "C(group_id)[T.G02B]                                              1.7856      0.009    198.808      0.000       1.768       1.803\n",
      "C(group_id)[T.G02C]                                              0.1818      0.010     18.626      0.000       0.163       0.201\n",
      "C(group_id)[T.G02F]                                              1.7793      0.008    220.156      0.000       1.763       1.795\n",
      "C(group_id)[T.G03B]                                              0.9543      0.016     59.985      0.000       0.923       0.986\n",
      "C(group_id)[T.G03C]                                             -0.6126      0.024    -25.982      0.000      -0.659      -0.566\n",
      "C(group_id)[T.G03F]                                              1.1281      0.018     63.395      0.000       1.093       1.163\n",
      "C(group_id)[T.G03G]                                              0.8552      0.012     69.117      0.000       0.831       0.879\n",
      "C(group_id)[T.G03H]                                             -0.2821      0.021    -13.469      0.000      -0.323      -0.241\n",
      "C(group_id)[T.G04B]                                             -0.4544      0.027    -16.894      0.000      -0.507      -0.402\n",
      "C(group_id)[T.G04C]                                             -0.6733      0.031    -21.540      0.000      -0.735      -0.612\n",
      "C(group_id)[T.G04F]                                             -0.0054      0.016     -0.337      0.736      -0.037       0.026\n",
      "C(group_id)[T.G04G]                                              0.2138      0.010     20.931      0.000       0.194       0.234\n",
      "C(group_id)[T.G04R]                                             -0.5701      0.028    -20.199      0.000      -0.625      -0.515\n",
      "C(group_id)[T.G05B]                                              2.6332      0.019    141.844      0.000       2.597       2.670\n",
      "C(group_id)[T.G05D]                                              1.3175      0.012    105.628      0.000       1.293       1.342\n",
      "C(group_id)[T.G05F]                                              1.5278      0.008    198.848      0.000       1.513       1.543\n",
      "C(group_id)[T.G05G]                                             -0.1412      0.015     -9.635      0.000      -0.170      -0.113\n",
      "C(group_id)[T.G06F]                                              7.9431      0.019    427.874      0.000       7.907       7.980\n",
      "C(group_id)[T.G06G]                                              0.1853      0.012     15.794      0.000       0.162       0.208\n",
      "C(group_id)[T.G06J]                                             -0.4084      0.034    -12.156      0.000      -0.474      -0.343\n",
      "C(group_id)[T.G06K]                                              2.9197      0.019    157.278      0.000       2.883       2.956\n",
      "C(group_id)[T.G06M]                                             -0.7362      0.039    -19.100      0.000      -0.812      -0.661\n",
      "C(group_id)[T.G06N]                                              3.4384      0.019    185.218      0.000       3.402       3.475\n",
      "C(group_id)[T.G06Q]                                              6.4609      0.019    348.029      0.000       6.424       6.497\n",
      "C(group_id)[T.G06T]                                              3.8569      0.019    207.760      0.000       3.821       3.893\n",
      "C(group_id)[T.G06V]                                              3.6642      0.019    197.382      0.000       3.628       3.701\n",
      "C(group_id)[T.G07B]                                              0.7906      0.009     88.619      0.000       0.773       0.808\n",
      "C(group_id)[T.G07C]                                              1.9868      0.018    112.489      0.000       1.952       2.021\n",
      "C(group_id)[T.G07D]                                              1.3513      0.009    146.655      0.000       1.333       1.369\n",
      "C(group_id)[T.G07F]                                              4.8011      0.019    258.621      0.000       4.765       4.837\n",
      "C(group_id)[T.G07G]                                              1.0294      0.010    100.737      0.000       1.009       1.049\n",
      "C(group_id)[T.G08B]                                              2.1870      0.016    135.999      0.000       2.155       2.219\n",
      "C(group_id)[T.G08C]                                              1.5820      0.010    162.688      0.000       1.563       1.601\n",
      "C(group_id)[T.G08G]                                              1.7665      0.017    104.568      0.000       1.733       1.800\n",
      "C(group_id)[T.G09B]                                              2.1739      0.018    120.595      0.000       2.139       2.209\n",
      "C(group_id)[T.G09C]                                              0.4515      0.010     43.763      0.000       0.431       0.472\n",
      "C(group_id)[T.G09F]                                              0.7628      0.010     79.521      0.000       0.744       0.782\n",
      "C(group_id)[T.G09G]                                              2.4429      0.016    148.689      0.000       2.411       2.475\n",
      "C(group_id)[T.G10C]                                             -0.2382      0.047     -5.016      0.000      -0.331      -0.145\n",
      "C(group_id)[T.G10G]                                             -0.6139      0.026    -23.448      0.000      -0.665      -0.563\n",
      "C(group_id)[T.G10H]                                              0.7654      0.015     51.463      0.000       0.736       0.795\n",
      "C(group_id)[T.G10K]                                             -0.0856      0.015     -5.619      0.000      -0.115      -0.056\n",
      "C(group_id)[T.G10L]                                              2.8394      0.019    152.949      0.000       2.803       2.876\n",
      "C(group_id)[T.G11B]                                              2.9492      0.019    158.868      0.000       2.913       2.986\n",
      "C(group_id)[T.G11C]                                              3.4742      0.019    187.146      0.000       3.438       3.511\n",
      "C(group_id)[T.G16B]                                              0.6627      0.017     40.056      0.000       0.630       0.695\n",
      "C(group_id)[T.G16C]                                              0.5082      0.046     10.992      0.000       0.418       0.599\n",
      "C(group_id)[T.G16H]                                              2.8970      0.019    156.052      0.000       2.861       2.933\n",
      "C(group_id)[T.G16Z]                                              0.1962      0.013     14.965      0.000       0.171       0.222\n",
      "C(group_id)[T.G21C]                                              0.1080      0.035      3.126      0.002       0.040       0.176\n",
      "C(group_id)[T.G21D]                                             -0.5887      0.029    -20.107      0.000      -0.646      -0.531\n",
      "C(group_id)[T.G21K]                                             -0.1135      0.023     -4.889      0.000      -0.159      -0.068\n",
      "C(group_id)[T.H01B]                                              0.1532      0.011     14.502      0.000       0.132       0.174\n",
      "C(group_id)[T.H01C]                                             -0.4415      0.023    -18.829      0.000      -0.487      -0.396\n",
      "C(group_id)[T.H01F]                                              0.3207      0.019     17.182      0.000       0.284       0.357\n",
      "C(group_id)[T.H01G]                                             -0.3407      0.015    -22.157      0.000      -0.371      -0.311\n",
      "C(group_id)[T.H01H]                                              1.1882      0.008    152.810      0.000       1.173       1.203\n",
      "C(group_id)[T.H01J]                                              0.0689      0.012      5.640      0.000       0.045       0.093\n",
      "C(group_id)[T.H01K]                                             -0.6401      0.039    -16.516      0.000      -0.716      -0.564\n",
      "C(group_id)[T.H01L]                                              2.4270      0.018    138.627      0.000       2.393       2.461\n",
      "C(group_id)[T.H01M]                                              0.1506      0.011     13.643      0.000       0.129       0.172\n",
      "C(group_id)[T.H01P]                                             -0.0814      0.012     -6.606      0.000      -0.106      -0.057\n",
      "C(group_id)[T.H01Q]                                              0.7861      0.009     86.463      0.000       0.768       0.804\n",
      "C(group_id)[T.H01R]                                              1.3612      0.015     92.458      0.000       1.332       1.390\n",
      "C(group_id)[T.H01S]                                             -0.4737      0.024    -19.480      0.000      -0.521      -0.426\n",
      "C(group_id)[T.H01T]                                             -0.4921      0.028    -17.598      0.000      -0.547      -0.437\n",
      "C(group_id)[T.H02B]                                             -0.5372      0.027    -20.042      0.000      -0.590      -0.485\n",
      "C(group_id)[T.H02G]                                             -0.1568      0.017     -9.069      0.000      -0.191      -0.123\n",
      "C(group_id)[T.H02H]                                              0.5839      0.021     28.221      0.000       0.543       0.624\n",
      "C(group_id)[T.H02J]                                              2.0649      0.015    135.582      0.000       2.035       2.095\n",
      "C(group_id)[T.H02K]                                             -0.0215      0.013     -1.639      0.101      -0.047       0.004\n",
      "C(group_id)[T.H02M]                                              0.7771      0.013     58.177      0.000       0.751       0.803\n",
      "C(group_id)[T.H02N]                                             -0.4766      0.019    -24.571      0.000      -0.515      -0.439\n",
      "C(group_id)[T.H02P]                                             -0.2844      0.016    -17.883      0.000      -0.316      -0.253\n",
      "C(group_id)[T.H02S]                                             -0.6408      0.027    -23.707      0.000      -0.694      -0.588\n",
      "C(group_id)[T.H03B]                                              0.0182      0.016      1.129      0.259      -0.013       0.050\n",
      "C(group_id)[T.H03C]                                             -0.0358      0.010     -3.520      0.000      -0.056      -0.016\n",
      "C(group_id)[T.H03D]                                              0.2782      0.008     33.324      0.000       0.262       0.295\n",
      "C(group_id)[T.H03F]                                              1.2218      0.007    166.399      0.000       1.207       1.236\n",
      "C(group_id)[T.H03G]                                              0.5156      0.009     60.052      0.000       0.499       0.532\n",
      "C(group_id)[T.H03H]                                              0.8338      0.016     52.229      0.000       0.803       0.865\n",
      "C(group_id)[T.H03J]                                              0.2731      0.012     22.814      0.000       0.250       0.297\n",
      "C(group_id)[T.H03K]                                              2.4339      0.018    138.543      0.000       2.399       2.468\n",
      "C(group_id)[T.H03L]                                              1.6881      0.017    101.347      0.000       1.655       1.721\n",
      "C(group_id)[T.H03M]                                              3.5244      0.019    189.847      0.000       3.488       3.561\n",
      "C(group_id)[T.H04B]                                              4.4246      0.019    238.339      0.000       4.388       4.461\n",
      "C(group_id)[T.H04H]                                              1.6459      0.014    115.079      0.000       1.618       1.674\n",
      "C(group_id)[T.H04J]                                              2.8696      0.019    154.577      0.000       2.833       2.906\n",
      "C(group_id)[T.H04K]                                              0.4784      0.009     52.052      0.000       0.460       0.496\n",
      "C(group_id)[T.H04L]                                              7.2299      0.019    389.455      0.000       7.194       7.266\n",
      "C(group_id)[T.H04M]                                              4.2205      0.019    227.344      0.000       4.184       4.257\n",
      "C(group_id)[T.H04N]                                              4.7105      0.019    253.743      0.000       4.674       4.747\n",
      "C(group_id)[T.H04Q]                                              1.9610      0.014    136.575      0.000       1.933       1.989\n",
      "C(group_id)[T.H04R]                                              1.2139      0.010    117.893      0.000       1.194       1.234\n",
      "C(group_id)[T.H04S]                                              0.4509      0.009     52.518      0.000       0.434       0.468\n",
      "C(group_id)[T.H04W]                                              5.4607      0.019    294.151      0.000       5.424       5.497\n",
      "C(group_id)[T.H05B]                                              0.7669      0.016     48.305      0.000       0.736       0.798\n",
      "C(group_id)[T.H05F]                                             -0.6017      0.026    -22.742      0.000      -0.654      -0.550\n",
      "C(group_id)[T.H05G]                                             -0.7399      0.033    -22.302      0.000      -0.805      -0.675\n",
      "C(group_id)[T.H05H]                                             -0.6370      0.028    -22.422      0.000      -0.693      -0.581\n",
      "C(group_id)[T.H05K]                                              2.6031      0.018    146.681      0.000       2.568       2.638\n",
      "C(group_id)[T.H10B]                                              0.1074      0.015      7.077      0.000       0.078       0.137\n",
      "C(group_id)[T.H10K]                                              0.4459      0.016     28.080      0.000       0.415       0.477\n",
      "C(group_id)[T.H10N]                                              0.3521      0.011     30.776      0.000       0.330       0.375\n",
      "C(quarter_issue_date_dt)[T.Timestamp('2012-06-30 00:00:00')]     0.0253      0.047      0.537      0.592      -0.067       0.118\n",
      "C(quarter_issue_date_dt)[T.Timestamp('2012-09-30 00:00:00')]     0.1036      0.051      2.036      0.042       0.004       0.203\n",
      "C(quarter_issue_date_dt)[T.Timestamp('2012-12-31 00:00:00')]     0.1126      0.050      2.235      0.025       0.014       0.211\n",
      "C(quarter_issue_date_dt)[T.Timestamp('2013-03-31 00:00:00')]     0.1331      0.045      2.935      0.003       0.044       0.222\n",
      "C(quarter_issue_date_dt)[T.Timestamp('2013-06-30 00:00:00')]     0.0966      0.053      1.815      0.069      -0.008       0.201\n",
      "C(quarter_issue_date_dt)[T.Timestamp('2013-09-30 00:00:00')]     0.1702      0.055      3.121      0.002       0.063       0.277\n",
      "C(quarter_issue_date_dt)[T.Timestamp('2013-12-31 00:00:00')]     0.1703      0.051      3.358      0.001       0.071       0.270\n",
      "C(quarter_issue_date_dt)[T.Timestamp('2014-03-31 00:00:00')]     0.2311      0.054      4.266      0.000       0.125       0.337\n",
      "C(quarter_issue_date_dt)[T.Timestamp('2014-06-30 00:00:00')]   4.38e-05      0.032      0.001      0.999      -0.062       0.062\n",
      "C(quarter_issue_date_dt)[T.Timestamp('2014-09-30 00:00:00')]    -0.0487      0.031     -1.580      0.114      -0.109       0.012\n",
      "C(quarter_issue_date_dt)[T.Timestamp('2014-12-31 00:00:00')]     0.0052      0.031      0.164      0.869      -0.056       0.067\n",
      "C(quarter_issue_date_dt)[T.Timestamp('2015-03-31 00:00:00')]    -0.0891      0.032     -2.763      0.006      -0.152      -0.026\n",
      "C(quarter_issue_date_dt)[T.Timestamp('2015-06-30 00:00:00')]    -0.0296      0.025     -1.183      0.237      -0.079       0.019\n",
      "C(quarter_issue_date_dt)[T.Timestamp('2015-09-30 00:00:00')]     0.0962      0.029      3.284      0.001       0.039       0.154\n",
      "C(quarter_issue_date_dt)[T.Timestamp('2015-12-31 00:00:00')]     0.0709      0.026      2.751      0.006       0.020       0.121\n",
      "C(quarter_issue_date_dt)[T.Timestamp('2016-03-31 00:00:00')]     0.0513      0.030      1.711      0.087      -0.007       0.110\n",
      "C(quarter_issue_date_dt)[T.Timestamp('2016-06-30 00:00:00')]     0.0807      0.030      2.729      0.006       0.023       0.139\n",
      "C(quarter_issue_date_dt)[T.Timestamp('2016-09-30 00:00:00')]     0.1360      0.029      4.648      0.000       0.079       0.193\n",
      "C(quarter_issue_date_dt)[T.Timestamp('2016-12-31 00:00:00')]     0.1288      0.030      4.336      0.000       0.071       0.187\n",
      "Treated                                                         -1.0642      0.073    -14.535      0.000      -1.208      -0.921\n",
      "Post                                                             0.4018      0.050      8.050      0.000       0.304       0.500\n",
      "Treated:Post                                                    -0.1426      0.046     -3.115      0.002      -0.232      -0.053\n",
      "==============================================================================\n",
      "Omnibus:                       30.587   Durbin-Watson:                   2.381\n",
      "Prob(Omnibus):                  0.000   Jarque-Bera (JB):               30.982\n",
      "Skew:                          -0.191   Prob(JB):                     1.87e-07\n",
      "Kurtosis:                       3.049   Cond. No.                     2.23e+15\n",
      "==============================================================================\n",
      "\n",
      "Notes:\n",
      "[1] Standard Errors are robust to cluster correlation (cluster)\n",
      "[2] The smallest eigenvalue is 1.67e-27. This might indicate that there are\n",
      "strong multicollinearity problems or that the design matrix is singular.\n"
     ]
    }
   ],
   "source": [
    "#Save regression output\n",
    "    \n",
    "# Replicate the Panel OLS with statsmodel to make saving as regression\n",
    "# output easier\n",
    "reg_fe_ols = sm.ols(\n",
    "    formula='log_Count ~ Treated * Post + C(group_id) + C(quarter_issue_date_dt)',\n",
    "    data=agg_counts).fit(\n",
    "        cov_type='cluster',\n",
    "        cov_kwds={'groups': agg_counts['group_id']})\n",
    "print(reg_fe_ols.summary())    # -> same coefficient estimates as with Panel model.\n",
    "\n",
    "\n",
    "from statsmodels.iolib.summary2 import summary_col\n",
    "reg_table = summary_col(\n",
    "    [reg_did, reg_fe_ols, reg_poisson, reg_negbin], \n",
    "            stars=True, \n",
    "            float_format=\"%.3f\",\n",
    "            info_dict={\n",
    "                'N': lambda x: \"%#6d\" % x.nobs,\n",
    "                'R-squared:': lambda x: \"%#8.3f\" % x.rsquared,\n",
    "                'Adj. R-squared:': lambda x: \"%#8.3f\" % x.rsquared_adj,\n",
    "                'Pseudo R-squared:': lambda x: \"%#8.3f\" % x.prsquared},\n",
    "            regressor_order=['Intercept', 'alpha', 'Post', 'Treated', 'Treated:Post'])\n",
    "# Note, this table contains all the coefficients for the fixed effects form \n",
    "# the statsmodel version of the Panel model.  Remove those by hand from \n",
    "# the table when transfering into LaTex.\n",
    "\n",
    "with open(result_directory + '/regression_models_DiD.tex', 'w') as f:\n",
    "    f.write(reg_table.as_latex())\n",
    "    f.close()"
   ]
  },
  {
   "cell_type": "code",
   "execution_count": 22,
   "id": "8b63bbf0",
   "metadata": {},
   "outputs": [],
   "source": [
    "# Save sample data -  change to result folder\n",
    "agg_counts.to_csv(result_directory + '/example_data_for_analysis.csv', index=False)\n",
    "df.to_csv(result_directory + '/example_data_classified_patents.csv', index=False)\n",
    "\n",
    "# Load Alice patent classification\n",
    "patent_classification_df = pd.read_csv(\n",
    "    'patent_classification' \n",
    "    + '/FullText__patents_cpcAffected__predicted__TFIDF_poly2_issued_patents_control.csv', \n",
    "    usecols=['patent_id', 'claim_sequence', '0', '1', 'predicted_label'],\n",
    "    low_memory=False)\n",
    "\n",
    "\n",
    "patent_classification_df.to_csv(result_directory + '/example_data_claim_classification.csv', index=False)"
   ]
  },
  {
   "cell_type": "code",
   "execution_count": null,
   "id": "f16bf527",
   "metadata": {},
   "outputs": [],
   "source": []
  }
 ],
 "metadata": {
  "kernelspec": {
   "display_name": "Python 3 (ipykernel)",
   "language": "python",
   "name": "python3"
  },
  "language_info": {
   "codemirror_mode": {
    "name": "ipython",
    "version": 3
   },
   "file_extension": ".py",
   "mimetype": "text/x-python",
   "name": "python",
   "nbconvert_exporter": "python",
   "pygments_lexer": "ipython3",
   "version": "3.9.12"
  }
 },
 "nbformat": 4,
 "nbformat_minor": 5
}
