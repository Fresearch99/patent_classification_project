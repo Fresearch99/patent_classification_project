{
 "cells": [
  {
   "cell_type": "markdown",
   "id": "cb38e16c",
   "metadata": {},
   "source": [
    "# Project execution example"
   ]
  },
  {
   "cell_type": "markdown",
   "id": "5457afdd",
   "metadata": {},
   "source": [
    "**This version of the walkthrough file is adjusted for running in a replication capsule.**\n",
    "The only differences to the main walkthrough file are the use of edited raw data and parallel executions of the classification method.\n",
    "\n",
    "The raw PatentsView and USPTO files are edited by removing rows that fall outside of the filing date/issue date ranges of 2010 to 2016, the columns and structure of the files remains unchanged otherwise.\n",
    "\n",
    "The parallel version of the classification methods are used here to save computing time on servers.\n",
    "\n",
    "**---**"
   ]
  },
  {
   "cell_type": "markdown",
   "id": "fe0d8800",
   "metadata": {},
   "source": [
    "The 2014 *Alice Corp. v. CLS Bank International* Supreme Court decision [573 U.S. 208 (2014)] (*Alice* decision) weakened the enforceability of existing software patents and limited the patentability of new software-related innovations.  I introduce a novel approach that directly uses the patent claim language of patent applications that were rejected due to the *Alice* decision to train a binary natural language processing (NLP) classification algorithm and identify claim language that is not eligible after *Alice* anymore.  The advantage of this method is that I can predict for a large set of patents whether they are invalid and identify treated firms by measuring the share of invalid patents in patent portfolios before the *Alice* shock.  "
   ]
  },
  {
   "cell_type": "markdown",
   "id": "5e9a54a8",
   "metadata": {},
   "source": [
    "This notebook is a walkthrough of the Alice patent classification project from the definition of the training data and fitting of the NLP models to the classification of patent claims of exisiting patents.  The methods for each step are in the patent_classification_project package.  The different modules of the package are also executable files and contain beside a main method also other useful comments and code variations. "
   ]
  },
  {
   "cell_type": "markdown",
   "id": "1b4994d6",
   "metadata": {},
   "source": [
    "The models and steps in this file below build up on each other.  The sequence of the execution is as follows:\n",
    "1) **claim_text_extractions_for_training.py**: load patent application texts from USPTO websites that are related to rejected applications due to Alice and control texts from patents in same class and cohort.\n",
    "2) **training_data_build.py**: uses the downloaded application and patent texts to prepare training data for the NLP model fitting.\n",
    "3) **NLP_model_building.py**: build, fit, and evaluate the NLP classification model to estimate whether a patent claim text is invalid after *Alice*.\n",
    "4) **patent_claim_classification.py**: classify claim texts of issued patent in PatentsViews whether they are invalid after *Alice*.\n",
    "\n",
    "The package also contains the method **application_pregrant_pub_claim_classification.py** which uses the trained NLP model to classify claim texts of application pre-grant publications in PatentsView.\n",
    "\n",
    "The module **classification_testing.py** is an optional program file that I run as the last step in this file to test that the classification method indeed performs better than using just CPC groups to identify patents that are likely invalid after *Alice*.  The module loads the classification outcomes and defines a patent as treated if the first claim is classified as invalid.  The first claim of a patent is ususally the broadest in the patent and thus deterimnes the overall scope of the patent.  I then plot the patent issuances for treated and untreated patents over time and run several difference-in-differences regression models that show how patents classified as invalid are indeed less likely to be issued after *Alice*."
   ]
  },
  {
   "cell_type": "markdown",
   "id": "0aab735b",
   "metadata": {},
   "source": [
    "The methods that load claim texts from USPTO sites and classify the text can be run parallel since PatentsView has separate files for respective pre-grant publication and issue years.  In the current modules of the package, I commented out the parallel version since I will run the files on my local desktop machine.  The parallel methods are most useful on servers when classifying many more patents than in this example.  "
   ]
  },
  {
   "cell_type": "markdown",
   "id": "48c0c60f",
   "metadata": {},
   "source": [
    "The package also contains the working directory for the project.  In the working directory, relevant downloaded patent data, as well as the classification outputs and the analysis outputs such as wordclouds and performance reports for NLP models are saved.  The storage space required can become quite big (for example, my local working directoy take up almost 40 GB).  Especially the 'PatentsView_raw_data' folder can take up a lot of space since large data files with patent information are downloaded from PatentsView (https://patentsview.org/download/data-download-tables) and stored here.  \n",
    "\n",
    "If storage limitation are a concern, limit the executions to only the variants of the patent classification that are truly needed.  You can also adjust the code to store only relevant information such as CPC-based classications instead of both USPC and CPC-based.  Finally, to really save storage space, pre-download the relevant patent information from PatentsView, edit the data file to only include the needed columns, and adjust the code to load only the pre-edited PatentsView data.   "
   ]
  },
  {
   "cell_type": "markdown",
   "id": "9b4e6ab5",
   "metadata": {},
   "source": [
    "For this project, all data are sourced from the United States Patent and Trademark Office (USPTO), www.uspto.gov, and PatentsView, https://patentsview.org/download/data-download-tables.  Especially the research datasets release by the Office of the Chief Economist of the USPTO, www.uspto.gov/ip-policy/economic-research/research-datasets, are valuable sourced for this project.  The Patent Examination Research Dataset (PatEx), www.uspto.gov/ip-policy/economic-research/research-datasets/patent-examination-research-dataset-public-pair, is the source for application data.  The Office Action Research Dataset for Patents, www.uspto.gov/ip-policy/economic-research/research-datasets/office-action-research-dataset-patents, is the source for office actions and rejection data.  The Office Action Research Dataset is based on the research in Lu, Qiang and Myers, Amanda F. and Beliveau, Scott, USPTO Patent Prosecution Research Data: Unlocking Office Action Traits (November 20, 2017). USPTO Economic Working Paper No. 2017-10.\n",
    "\n",
    "Research data from the USPTO website are in the public domain, and PatentsView data are licensed under a Creative Commons Attribution 4.0 License."
   ]
  },
  {
   "cell_type": "markdown",
   "id": "5b85e817",
   "metadata": {},
   "source": [
    "## 0) Setup"
   ]
  },
  {
   "cell_type": "markdown",
   "id": "7606e861",
   "metadata": {},
   "source": [
    "Before the actual execution of the project, we load some useful packages and define the home directory.  As noted above, the project is quite storage intensive and can use up more than 30GB.\n",
    "\n",
    "In the rest of the script, I removed for readability code segments that load PatentsView data and USPTO data from the website.  I assume those are already downloaded and in the right folders.  The relevant request and unzipping methods are in the underlying code modules. \n",
    "\n",
    "In case of an error, check the method files.  The URLs and the structure of the data on the USPTO websites sometimes changes which can cause issues."
   ]
  },
  {
   "cell_type": "code",
   "execution_count": 1,
   "id": "442a58c8",
   "metadata": {},
   "outputs": [],
   "source": [
    "%load_ext autoreload\n",
    "%autoreload 2"
   ]
  },
  {
   "cell_type": "code",
   "execution_count": 2,
   "id": "b4235bc9",
   "metadata": {},
   "outputs": [],
   "source": [
    "import pandas as pd\n",
    "import numpy as np\n",
    "import re\n",
    "import os\n",
    "\n",
    "import zipfile\n",
    "import csv\n",
    "\n",
    "import pickle\n",
    "import joblib\n",
    "import json\n",
    "\n",
    "import seaborn as sns\n",
    "import matplotlib.pyplot as plt\n",
    "\n",
    "import multiprocessing as mp #-> for parallel execution on the capsule\n",
    "\n",
    "from IPython import display\n",
    "\n",
    "import statsmodels.formula.api as sm\n",
    "from statsmodels.formula.api import poisson\n",
    "from statsmodels.formula.api import negativebinomial\n",
    "from linearmodels import PanelOLS    \n",
    "\n",
    "# For readability, disable also warnings\n",
    "import warnings\n",
    "warnings.filterwarnings('ignore') \n",
    "\n",
    "# Expand field limit to iterate through all claims\n",
    "import ctypes\n",
    "csv.field_size_limit(int(ctypes.c_ulong(-1).value // 2))\n",
    "csv.field_size_limit()\n",
    "\n",
    "# Define the home directory.  For this walkthrough, relevant subfolders are already created\n",
    "#home_directory = os.getcwd()\n",
    "#home_directory = 'working directory' #-> change this to the working directory you want to work in\n",
    "home_directory = '/Users/dominikjurek/Library/CloudStorage/Dropbox/University/PhD Berkeley/Research/Alice Project/NLP Patent Classification/Alice NLP Python Code/Testing Github files'\n",
    "os.chdir(home_directory)\n",
    "\n",
    "# Define name of the directoy which stores raw data from PatentsView\n",
    "#PatentsView_directory = 'PatentsView_raw_data'\n",
    "# For the capsule, use edited files that remove rows outside of the range between 2010 and 2017.\n",
    "PatentsView_directory = 'edited_PatentsView_raw_data'\n",
    "\n",
    "# Define the directory for all USPTO data that are not from PatentsView\n",
    "# USPTO_data_directory = 'USPTO_raw_data'\n",
    "# Note: to save time, both of these subfolders were already created and populated with the relevant data\n",
    "USPTO_data_directory = 'edited_USPTO_raw_data'\n",
    "\n",
    "# Set seed\n",
    "RANDOM_SEED = 42"
   ]
  },
  {
   "cell_type": "markdown",
   "id": "e0e6fdaf",
   "metadata": {},
   "source": [
    "The 'home_directory' is the path where the data and model outputs are stored.  In this example, I set it to 'working directory', if the files are run individually, the default is the current working directory.  Note again that the size of the folder can become very large.\n",
    "\n",
    "As mentioned earlier, I assume the two folder with raw data, 'PatentsView_directory' and 'USPTO_data_directory', exist already as subfolders of the 'home_directory'.  I recommend downloading the relevant data from PatentsView and the USPTO research datasets before and unpacking them into these two folder before running the program.  The list of relevant data files is below:"
   ]
  },
  {
   "cell_type": "markdown",
   "id": "d820533e",
   "metadata": {},
   "source": [
    "- *USPTO_raw_data* - Folder with all relevant [USPTO research datasets](https://www.uspto.gov/ip-policy/economic-research/research-datasets):\n",
    "  - *application_data_2017.csv* - [2017 vintage PatEx application research data](https://bulkdata.uspto.gov/data/patent/pair/economics/2017/application_data.csv.zip).\n",
    "  - *application_data_2020.csv* - [2020 vintage PatEx application research data](https://bulkdata.uspto.gov/data/patent/pair/economics/2020/application_data.csv.zip), this dataset should be downloaded manually!\n",
    "  - *office_actions_uspto_research_2017.csv* - [office action research dataset](https://bulkdata.uspto.gov/data/patent/office/actions/bigdata/2017/office_actions.csv.zip).\n",
    "  - *rejections_uspto_research_2017.csv* - [rejections in office action research dataset](https://bulkdata.uspto.gov/data/patent/office/actions/bigdata/2017/rejections.csv.zip).\n",
    "- *PatentsView_raw_data* - Folder with relevant [data table from PatentsView](https://patentsview.org/download/data-download-tables).\n",
    "  - *application_pregrant_publication.tsv* - [published application data](https://s3.amazonaws.com/data.patentsview.org/pregrant_publications/pg_published_application.tsv.zip).\n",
    "  - *cpc_current_PatentsView.tsv* - [current CPC classifications of granted patents](https://s3.amazonaws.com/data.patentsview.org/download/g_cpc_current.tsv.zip).\n",
    "  - *cpc_current_pregrant_publication.tsv* - [current CPC classification data for all applications](https://s3.amazonaws.com/data.patentsview.org/pregrant_publications/pg_cpc_at_issue.tsv.zip).\n",
    "  - *patent.tsv* - [data on granted patents](https://s3.amazonaws.com/data.patentsview.org/download/g_patent.tsv.zip), this file is optional and only used for the classification testing.\n",
    "  - *uspc_current_PatentsView.tsv* - [current USPC classification for granted patents](https://s3.amazonaws.com/data.patentsview.org/download/uspc_current.tsv.zip), this is a legacy file and probably will not be available forever, replace it with [uspc_at_issue](https://s3.amazonaws.com/data.patentsview.org/download/g_uspc_at_issue.tsv.zip) if needed.\n",
    "  - *uspc_pregrant_publication.tsv* - [current USPC classification published applications](https://s3.amazonaws.com/data.patentsview.org/pregrant_publications/pg_uspc_at_issue.tsv.zip), similar as above this is a legacy file and my need to be replace by [uspc_at_issue](https://s3.amazonaws.com/data.patentsview.org/pregrant_publications/pg_uspc_at_issue.tsv.zip)."
   ]
  },
  {
   "cell_type": "markdown",
   "id": "47ad7f4e",
   "metadata": {},
   "source": [
    "Note that in the rest of the script the text loading and classification methods are executed linearly.  In the underlying modules, the methods have parallel versions in comments.  I recommend only executing these methods parallel on a Linux servers with fewer resource restriction in terms of memory and storage.  For debugging, linear version are useful, as well as for executions on desktop computers with more resource constraints. "
   ]
  },
  {
   "cell_type": "markdown",
   "id": "b723be37",
   "metadata": {},
   "source": [
    "## 1) Load claim texts for model training"
   ]
  },
  {
   "cell_type": "markdown",
   "id": "7eaef13a",
   "metadata": {},
   "source": [
    "The first step of the project load claim texts of applications that were rejected due to *Alice* and control text of issued patents from the same USPC and filing years as reject application.  "
   ]
  },
  {
   "cell_type": "code",
   "execution_count": 3,
   "id": "dd1a49c9",
   "metadata": {},
   "outputs": [],
   "source": [
    "from PyPatentAlice import claim_text_extractions_for_training\n",
    "\n",
    "# Set module shared parameters in local namespace\n",
    "claim_text_extractions_for_training.home_directory = home_directory\n",
    "claim_text_extractions_for_training.PatentsView_directory = PatentsView_directory\n",
    "claim_text_extractions_for_training.USPTO_data_directory = USPTO_data_directory\n",
    "claim_text_extractions_for_training.RANDOM_SEED = RANDOM_SEED"
   ]
  },
  {
   "cell_type": "markdown",
   "id": "9e250a07",
   "metadata": {},
   "source": [
    "I limit in this example to applications publications in the years 2013 and 2014, thus in the year of the *Alice* decision and the year prior.  This means that application texts, which are usually published within 18 months of the filing date, are very recent and not adjusted for by the application following the decision."
   ]
  },
  {
   "cell_type": "code",
   "execution_count": 4,
   "id": "a6d7a2aa",
   "metadata": {},
   "outputs": [],
   "source": [
    "min_year_training_data = 2013\n",
    "max_year_training_data = 2014\n",
    "\n",
    "# Define output path\n",
    "output_path = 'claim_extraction'\n",
    "\n",
    "if not os.path.exists(output_path):\n",
    "    os.makedirs(output_path)"
   ]
  },
  {
   "cell_type": "markdown",
   "id": "beabd047",
   "metadata": {},
   "source": [
    "I use Office Action Research Dataset for Patents data from the USPTO, based on Lu et al. (2017) to find applications that mention the *Alice* decision as reason for rejection.  This provides a list of pre-grant publication IDs of reject applications that are the basis for the the treated sample of texts.\n",
    "\n",
    "There are several other court decision prior to *Alice* that also changed the patentability of certain inventions.  The research dataset also identifies rejectsion related to the *Bilski*, *Mayo*, and *Myriad* decision.  My project can be used to also classify patents for each or all of these events, but I restrict here to rejections due to *Alice*."
   ]
  },
  {
   "cell_type": "code",
   "execution_count": 5,
   "id": "ebcea661",
   "metadata": {},
   "outputs": [],
   "source": [
    "# Use office action research dataset from Chief Economist of USPTO to indentify treated applications\n",
    "# source: https://www.uspto.gov/learning-and-resources/electronic-data-products/office-action-research-dataset-patents\n",
    "rejections = pd.read_csv(USPTO_data_directory \n",
    "                         + '/rejections_uspto_research_2017.csv', low_memory=False)\n",
    "\n",
    "#----------------------------------------\n",
    "# Data on application in Patent View\n",
    "application = pd.read_csv(\n",
    "    PatentsView_directory + '/application_pregrant_publication.tsv', \n",
    "    delimiter=\"\\t\", quoting=csv.QUOTE_NONNUMERIC, low_memory=False)\n",
    "\n",
    "application['document_number'] = application.pgpub_id\n",
    "application['app_id'] = pd.to_numeric(application.application_id,\n",
    "                                        downcast = 'integer', errors = 'coerce')\n",
    "application['filing_date_dt'] = pd.to_datetime(application['filing_date'], \n",
    "                                               errors='coerce')\n",
    "application['filing_year'] = application.filing_date_dt.dt.year\n",
    "\n",
    "#===================================\n",
    "# Define rejections due to Alice\n",
    "alice_condition = (rejections.alice_in == 1)\n",
    "alice_rejections = rejections[alice_condition].copy()"
   ]
  },
  {
   "cell_type": "markdown",
   "id": "e8d2c23b",
   "metadata": {},
   "source": [
    "Control texts are from published patents in PatentsView from the same filing years and USPC classes as the rejected applications.  The method also downloads pre-grant publications of applications from the same filing-USPC class cohort wihtout office actions that were eventually granted.  These pre-grant publications are arguably even more comparable to the treated pre-grant claims and we can vary the classification method to use those text instead of the text of the issued control patents.  "
   ]
  },
  {
   "cell_type": "code",
   "execution_count": 6,
   "id": "be2bdce6",
   "metadata": {
    "scrolled": true
   },
   "outputs": [
    {
     "name": "stdout",
     "output_type": "stream",
     "text": [
      "Start control Claim Full Text extraction for Alice only\n",
      "\t Load relevant data\n",
      "\t Control patent contruction\n",
      "\tUSPC main classes in rejections:\n",
      "705    30295\n",
      "463     3630\n",
      "702     2450\n",
      "709     2200\n",
      "707     1226\n",
      "701     1184\n",
      "726     1118\n",
      "435      922\n",
      "434      857\n",
      "704      834\n",
      "Name: uspc_class_str, dtype: int64\n",
      "\t Number of extractable control applications from PatentsView Pre-grant applications: 182574\n",
      "\t Start control claim extraction from PatentsView Pre-grant application for Alice and year 2013\n",
      "\n",
      "\t Search application claims for year 2013\n",
      "\t Lenght of output DF of independent application claims for type PatentsView_PregrantApp_ControlPatents_Alice, year 2013: 43715\n",
      "\t Start control claim extraction from PatentsView Pre-grant application for Alice and year 2014\n",
      "\n",
      "\t Search application claims for year 2014\n",
      "\t Lenght of output DF of independent application claims for type PatentsView_PregrantApp_ControlPatents_Alice, year 2014: 49069\n",
      "\t Number of extractable control patent from PatentsView: 429048\n",
      "\t\t Number of Cores: 8\n",
      "\t Start control claim extraction from PatentsView for Alice and year 2014\n",
      "\n",
      "\t Search patent claims for type PatentsView_ControlPatents_Alice, year 2014\n",
      "\t Lenght of output DF of independent claims for type PatentsView_ControlPatents_Alice, year 2014: 139711\n",
      "\t Start control claim extraction from PatentsView for Alice and year 2015\n",
      "\n",
      "\t Search patent claims for type PatentsView_ControlPatents_Alice, year 2015\n",
      "\t Lenght of output DF of independent claims for type PatentsView_ControlPatents_Alice, year 2015: 264737\n",
      "\t Start control claim extraction from PatentsView for Alice and year 2016\n",
      "\n",
      "\t Search patent claims for type PatentsView_ControlPatents_Alice, year 2016\n",
      "\t Lenght of output DF of independent claims for type PatentsView_ControlPatents_Alice, year 2016: 278586\n",
      "\t Start control claim extraction from PatentsView for Alice and year 2017\n",
      "\n",
      "\t Search patent claims for type PatentsView_ControlPatents_Alice, year 2017\n",
      "\t Lenght of output DF of independent claims for type PatentsView_ControlPatents_Alice, year 2017: 294710\n",
      "\t Start control claim extraction from PatentsView for Alice and year 2018\n",
      "\n",
      "\t Search patent claims for type PatentsView_ControlPatents_Alice, year 2018\n",
      "\t Lenght of output DF of independent claims for type PatentsView_ControlPatents_Alice, year 2018: 155974\n"
     ]
    }
   ],
   "source": [
    "print('Start control Claim Full Text extraction for Alice only')\n",
    "\n",
    "claim_text_extractions_for_training.control_patent_claim_fulltext_extraction(\n",
    "    rejections_data=alice_rejections,\n",
    "    application=application,\n",
    "    nclasses=50,\n",
    "    output_path=output_path,\n",
    "    min_year=min_year_training_data,\n",
    "    max_year=max_year_training_data,\n",
    "    output_name='Alice')"
   ]
  },
  {
   "cell_type": "code",
   "execution_count": 7,
   "id": "2d61346f",
   "metadata": {},
   "outputs": [
    {
     "name": "stdout",
     "output_type": "stream",
     "text": [
      "Start rejected Claim Full Text extraction for Alice only\n",
      "\t Number of extractable application with rejections by Alice only: 32361\n",
      "\t Start rejected claim extraction for Alice only for year 2013\n",
      "\n",
      "\t Search application claims for year 2013\n",
      "\t Lenght of output DF of independent application claims for type Alice, year 2013: 21354\n",
      "\t Start rejected claim extraction for Alice only for year 2014\n",
      "\n",
      "\t Search application claims for year 2014\n",
      "\t Lenght of output DF of independent application claims for type Alice, year 2014: 33919\n"
     ]
    }
   ],
   "source": [
    "print('Start rejected Claim Full Text extraction for Alice only')\n",
    "\n",
    "# Coerce to app_id to integer => all relevant app_ids are digits\n",
    "alice_rejections['app_id_int'] = pd.to_numeric(alice_rejections.app_id, \n",
    "                                               downcast = 'integer', errors = 'coerce')\n",
    "\n",
    "\n",
    "# Find document numbers from PatentsView Pre-grant application data\n",
    "alice_rejections_application_with_doc_num = application[\n",
    "    application.app_id.isin(list(alice_rejections.app_id_int))][\n",
    "        ['app_id', 'document_number', 'filing_date_dt', 'filing_year']].drop_duplicates()\n",
    "\n",
    "print('\\t Number of extractable application with rejections by Alice only: '\\\n",
    "      + str(len(alice_rejections_application_with_doc_num)), flush=True)\n",
    "\n",
    "#^^^^^^^^^^^^^^^^^^^^^^^^^^^^^^^^^^^^^^^^^^^^^\n",
    "# Linear Execution\n",
    "for year in range(min_year_training_data, max_year_training_data+1):\n",
    "    print('\\t Start rejected claim extraction for Alice only for year '\\\n",
    "          + str(year) + '\\n')\n",
    "    claim_text_extractions_for_training.application_claim_PatentView(\n",
    "        year=year,\n",
    "        app_df=alice_rejections_application_with_doc_num,\n",
    "        output_path=output_path,\n",
    "        output_name='Alice')                        "
   ]
  },
  {
   "cell_type": "markdown",
   "id": "99eb66ca",
   "metadata": {},
   "source": [
    "## 2) Build training data for model fitting"
   ]
  },
  {
   "cell_type": "markdown",
   "id": "cdf78284",
   "metadata": {},
   "source": [
    "Next, we structure the downloaded treated and control claim text data to a data frame that can be used for model fitting.  The method also provides the main USPC classes of treated applaction, that is the four primary USPC classes that are most frequent among applications rejected due to *Alice*."
   ]
  },
  {
   "cell_type": "code",
   "execution_count": 8,
   "id": "0318c4f2",
   "metadata": {},
   "outputs": [],
   "source": [
    "from PyPatentAlice import training_data_build\n",
    "\n",
    "# Set module shared parameters in local namespace\n",
    "training_data_build.home_directory = home_directory\n",
    "training_data_build.PatentsView_directory = PatentsView_directory\n",
    "training_data_build.USPTO_data_directory = USPTO_data_directory\n",
    "training_data_build.RANDOM_SEED = RANDOM_SEED"
   ]
  },
  {
   "cell_type": "markdown",
   "id": "12bab9c7",
   "metadata": {},
   "source": [
    "The method cleans the data by, for example, ensuring the treated applications are really rejections due to *Alice*, removing cancelled claims from the data, and that control claim texts are from patents published after the *Alice* decision.  The training data then are restricted to the top four USPC classes in rejection data.  These four USPC classes account for ca, 91% of all rejected applications due to *Alice*.  \n",
    "\n",
    "\n",
    "To balance the training data, control texts are drawn proportionally to the USPC class and filing year distribution as in the treated claim data.  If there are too few control claim texts in the data, which can happen when using pre-grant publications as control texts, the method can also resample the control claims with replacement."
   ]
  },
  {
   "cell_type": "code",
   "execution_count": 9,
   "id": "b1e4fce6",
   "metadata": {},
   "outputs": [
    {
     "name": "stdout",
     "output_type": "stream",
     "text": [
      "\t\t Number of Alice Rejections Raw 52277\n",
      "\t\t Number of Alice Rejections with no other injections 7134\n",
      "\t\t Number of unique application ids with Alice Rejections with no other injections 5147\n",
      "\t\t Number of Alice Treated independent claims 8302\n",
      "\t\t Number of unique application ids with Alice Treated independent claims 2395\n",
      "\t\t Number of treated claims from the right pre-grant publication document 8300\n",
      "\t\t Number of treated claims from abandoned application status 3322\n",
      "\t\t Number of treated claims purged for illogical dates 3320\n",
      "\t\t Number of uncancelled treated claims 3276\n",
      "\t Use for control claim construction the PatentsView claim texts\n",
      "\t\t Number of control claims from PatentsView 1133726\n",
      " \t Alice unique treated claims before class selections: \n",
      "2196\n",
      " \t Unique control claims before class selections: \n",
      "1132844\n",
      "\t\t Count of Alice classes\n",
      "705    1640\n",
      "463     235\n",
      "702     104\n",
      "434      45\n",
      "703      15\n",
      "704      15\n",
      "709      14\n",
      "707      13\n",
      "273      11\n",
      "708      11\n",
      "Name: uspc_class_str, dtype: int64\n",
      "\t\t Cumsum of Alice classes\n",
      "705    0.746812\n",
      "463    0.853825\n",
      "702    0.901184\n",
      "434    0.921676\n",
      "703    0.928506\n",
      "704    0.935337\n",
      "709    0.941712\n",
      "707    0.947632\n",
      "273    0.952641\n",
      "708    0.957650\n",
      "Name: uspc_class_str, dtype: float64\n",
      "\t USPC main classes for patent: \n",
      "['702', '463', '434', '705']\n",
      "\t\t Number of treated claims in main class 2024 and control claims 30133\n",
      "\t\t Number of control claims issued after the Alice decision 30133\n",
      " \t Control USPC Classes count: \n",
      "463    9896\n",
      "705    9089\n",
      "702    8882\n",
      "434    2266\n",
      "Name: uspc_class_str, dtype: int64\n",
      " \t Control Filing years count: \n",
      "2013    6341\n",
      "2014    5934\n",
      "2012    4793\n",
      "2015    4657\n",
      "2011    3559\n",
      "2016    2594\n",
      "2010    2255\n",
      "Name: filing_date_dt, dtype: int64\n",
      " \t Alice USPC Classes count: \n",
      "705    0.810277\n",
      "463    0.116107\n",
      "702    0.051383\n",
      "434    0.022233\n",
      "Name: uspc_class_str, dtype: float64\n",
      " \t Alice Filing years count: \n",
      "2013    0.434289\n",
      "2012    0.321146\n",
      "2014    0.148715\n",
      "2011    0.095850\n",
      "Name: filing_date_dt, dtype: float64\n",
      " \t Alice year and type counts: \n",
      "   uspc_class_str  filing_data_year  count\n",
      "0             434              2011      2\n",
      "1             434              2012     20\n",
      "2             434              2013     14\n",
      "3             434              2014      9\n",
      "4             463              2011     17\n",
      "5             463              2012     39\n",
      "6             463              2013    124\n",
      "7             463              2014     55\n",
      "8             702              2011     13\n",
      "9             702              2012     35\n",
      "10            702              2013     48\n",
      "11            702              2014      8\n",
      "12            705              2011    162\n",
      "13            705              2012    556\n",
      "14            705              2013    693\n",
      "15            705              2014    229\n",
      " \t Unique App_id + Claim Number repetitions in balanced controls: \n",
      "13831103.0_9.0     1\n",
      "14227146.0_1.0     1\n",
      "14163741.0_13.0    1\n",
      "13855481.0_21.0    1\n",
      "13413041.0_13.0    1\n",
      "13644465.0_31.0    1\n",
      "14084924.0_13.0    1\n",
      "13781431.0_16.0    1\n",
      "14580122.0_1.0     1\n",
      "14048012.0_1.0     1\n",
      "Name: unique_claim_id, dtype: int64\n",
      " \t Alice USPC Classes control group: \n",
      "uspc_class_str\n",
      "705               0.787055\n",
      "463               0.156621\n",
      "702               0.051383\n",
      "434               0.004941\n",
      "dtype: float64\n",
      " \t Alice USPC Classes treated group: \n",
      "uspc_class_str\n",
      "705               0.810277\n",
      "463               0.116107\n",
      "702               0.051383\n",
      "434               0.022233\n",
      "dtype: float64\n",
      " \t Alice Filing years control group: \n",
      "filing_data_year\n",
      "2013                0.494565\n",
      "2012                0.263340\n",
      "2014                0.174407\n",
      "2011                0.067688\n",
      "dtype: float64\n",
      " \t Alice Filing years treated group: \n",
      "filing_data_year\n",
      "2013                0.434289\n",
      "2012                0.321146\n",
      "2014                0.148715\n",
      "2011                0.095850\n",
      "dtype: float64\n",
      " \t Count Alice USPC Classes control group: \n",
      "uspc_class_str\n",
      "705               1593\n",
      "463                317\n",
      "702                104\n",
      "434                 10\n",
      "dtype: int64\n",
      " \t Count Alice USPC Classes treated group: \n",
      "uspc_class_str\n",
      "705               1640\n",
      "463                235\n",
      "702                104\n",
      "434                 45\n",
      "dtype: int64\n",
      " \t Count Alice Filing years control group: \n",
      "filing_data_year\n",
      "2013                1001\n",
      "2012                 533\n",
      "2014                 353\n",
      "2011                 137\n",
      "dtype: int64\n",
      " \t Count Alice Filing years treated group: \n",
      "filing_data_year\n",
      "2013                879\n",
      "2012                650\n",
      "2014                301\n",
      "2011                194\n",
      "dtype: int64\n",
      " \t Alice year and type counts for balanced control group: \n",
      "   uspc_class_str  filing_data_year  count\n",
      "0             434              2012      4\n",
      "1             434              2013      4\n",
      "2             434              2014      2\n",
      "3             463              2011     10\n",
      "4             463              2012     34\n",
      "5             463              2013    187\n",
      "6             463              2014     86\n",
      "7             702              2011     11\n",
      "8             702              2012     35\n",
      "9             702              2013     49\n",
      "10            702              2014      9\n",
      "11            705              2011    116\n",
      "12            705              2012    460\n",
      "13            705              2013    761\n",
      "14            705              2014    256\n",
      " \t Alice treated data length: 2024\n",
      " \t Unbalanced Control data length: 20627\n",
      " \t Training data length: 4048\n"
     ]
    }
   ],
   "source": [
    "model_data, uspc_main_category = training_data_build.training_data_import(\n",
    "    nclasses=4,\n",
    "    home_directory=os.getcwd(),\n",
    "    specified_uspc_class=['xxx'],\n",
    "    use_specified_uspc_class=False,\n",
    "    text_source='claim_extraction',\n",
    "    replacement=False,\n",
    "    Issued_patent_control=True)\n",
    "\n",
    "\n",
    "# Save the model data and the main categories as .pkl files\n",
    "model_data.to_pickle('model_data_issued_patents_control.pkl')\n",
    "\n",
    "with open('main_classes_issued_patents_control.pkl', 'wb') as fp:\n",
    "    pickle.dump(uspc_main_category, fp)"
   ]
  },
  {
   "cell_type": "markdown",
   "id": "85cd4bdb",
   "metadata": {},
   "source": [
    "As the statistics show, the most affected USPC class is '705'.  This is consistent with the literature and sometimes used as identification for *Alice* affected patents.  However, it is not the only affected class, and CPC groups do not translate easily into USPC classes.  Using this class alone thus would not be enough to identify longrun effects."
   ]
  },
  {
   "cell_type": "markdown",
   "id": "09d58a75",
   "metadata": {},
   "source": [
    "Note that file-paths include 'issue_patent_control' in the name from here on out to signal that issued patent claims from PatentsView are used as control claims."
   ]
  },
  {
   "cell_type": "code",
   "execution_count": 10,
   "id": "9fbf7bb9",
   "metadata": {},
   "outputs": [],
   "source": [
    "# Clean up some memory before continuing\n",
    "del application, alice_rejections_application_with_doc_num, alice_rejections, rejections"
   ]
  },
  {
   "cell_type": "markdown",
   "id": "10273836",
   "metadata": {},
   "source": [
    "## 3) NLP model build"
   ]
  },
  {
   "cell_type": "markdown",
   "id": "c6474207",
   "metadata": {},
   "source": [
    "We use the balanced training sample from above to build the NLP classification model.  The method also evaluate and compares the performance of the model.  "
   ]
  },
  {
   "cell_type": "code",
   "execution_count": 11,
   "id": "1c249f5e",
   "metadata": {},
   "outputs": [],
   "source": [
    "from PyPatentAlice import NLP_model_building\n",
    "\n",
    "# Set module shared parameters in local namespace\n",
    "NLP_model_building.home_directory = home_directory\n",
    "NLP_model_building.PatentsView_directory = PatentsView_directory\n",
    "NLP_model_building.USPTO_data_directory = USPTO_data_directory\n",
    "NLP_model_building.RANDOM_SEED = RANDOM_SEED"
   ]
  },
  {
   "cell_type": "markdown",
   "id": "d8f808d8",
   "metadata": {},
   "source": [
    "First, we can visualize for the most frequent words in the training and control texts using word clouds.  This method also created word clouds for the relative differences, that is how more frequent a certain word is in one group compared to the other."
   ]
  },
  {
   "cell_type": "code",
   "execution_count": 12,
   "id": "ab878bc4",
   "metadata": {},
   "outputs": [],
   "source": [
    "# If the model data and main classes are not already in memory from the training data building, relead them here\n",
    "# model_data = pd.read_pickle('model_data_issued_patents_control.pkl')\n",
    "\n",
    "# with open('main_classes_issued_patents_control.pkl', 'rb') as fp:\n",
    "#    main_classes = pickle.load(fp)"
   ]
  },
  {
   "cell_type": "code",
   "execution_count": 13,
   "id": "2fc2f679",
   "metadata": {},
   "outputs": [
    {
     "name": "stdout",
     "output_type": "stream",
     "text": [
      "Data visualiziation with word cloud\n"
     ]
    }
   ],
   "source": [
    "# Word cloud visualization of raw data\n",
    "print('Data visualiziation with word cloud', flush=True)\n",
    "\n",
    "# Output director for word cloud\n",
    "wc_output_directory = 'Wordcloud_issued_patents_control'\n",
    "\n",
    "# Create WC Output Path if not already exist\n",
    "if not os.path.exists(wc_output_directory):\n",
    "    os.makedirs(wc_output_directory)\n",
    "\n",
    "NLP_model_building.wordcloud_creation(model_data,\n",
    "                                      output_version='issued_patents_control',\n",
    "                                      output_directory=wc_output_directory)"
   ]
  },
  {
   "cell_type": "markdown",
   "id": "7b0d29a0",
   "metadata": {},
   "source": [
    "Next, we split the already balanced training data and keep 15% of the data for testing."
   ]
  },
  {
   "cell_type": "code",
   "execution_count": 14,
   "id": "5b916046",
   "metadata": {},
   "outputs": [],
   "source": [
    "# Split sample\n",
    "X_train, X_test, y_train, y_test = NLP_model_building.train_test_split(\n",
    "    model_data['claim_text'],\n",
    "    model_data['treated'],\n",
    "    test_size=0.15,\n",
    "    random_state=RANDOM_SEED,\n",
    "    stratify=model_data['treated'])"
   ]
  },
  {
   "cell_type": "markdown",
   "id": "d643d843",
   "metadata": {},
   "source": [
    "To decide which NLP model to use, we can compare the performance of different models using the same TF-IDF vector representation of the training data as basis.\n",
    "\n",
    "The performance measure outputs are saved directly to latex and csv files.  I turns out, support-vector classification (SVC) performs the best.  "
   ]
  },
  {
   "cell_type": "code",
   "execution_count": 15,
   "id": "21e58337",
   "metadata": {},
   "outputs": [],
   "source": [
    "%%capture\n",
    "# Model Validation with different types of models\n",
    "print('Train and Evaluate Different Types of Models with TF-IDF base', flush=True)\n",
    "\n",
    "#--------------------------------------------\n",
    "# Create Output Directory for various model tests\n",
    "output_different_models_directory = r'TFIDF_several_models_output_issued_patents_control'\n",
    "\n",
    "# Create Output Path if not already exist\n",
    "if not os.path.exists(output_different_models_directory):\n",
    "    os.makedirs(output_different_models_directory)\n",
    "\n",
    "#------------------------------------------\n",
    "# Create DF for score dictionaries\n",
    "performance_df = pd.DataFrame()\n",
    "\n",
    "#-------------------------------------------\n",
    "# Model build and execution\n",
    "print('\\tLogistic Regression', flush=True)\n",
    "_, score_dict = NLP_model_building.tfidf_various_build(\n",
    "    X_train, X_test, y_train, y_test,\n",
    "    output_version='issued_patents_control',\n",
    "    output_directory=output_different_models_directory,\n",
    "    classification_model=NLP_model_building.LogisticRegression(\n",
    "        random_state=RANDOM_SEED),\n",
    "    cls_name='logistic_regression')\n",
    "score_dict.update({'Model Name': 'Logistic Regression'})\n",
    "performance_df = performance_df.append(score_dict, ignore_index=True)\n",
    "\n",
    "#^^^^^^^^^^^^^^^^^^^^^^^^^^^^^^^^^^^^^^^^^^^^^^\n",
    "print('\\tNaive Bayesian', flush=True)\n",
    "_, score_dict = NLP_model_building.tfidf_various_build(\n",
    "    X_train, X_test, y_train, y_test,\n",
    "    output_version='issued_patents_control',\n",
    "    output_directory=output_different_models_directory,\n",
    "    classification_model=NLP_model_building.MultinomialNB(),\n",
    "    cls_name='multinomial_NB')\n",
    "score_dict.update({'Model Name': 'Naive Bayes'})\n",
    "performance_df = performance_df.append(score_dict, ignore_index=True)\n",
    "\n",
    "#^^^^^^^^^^^^^^^^^^^^^^^^^^^^^^^^^^^^^^^^^^^^^^\n",
    "print('\\tSVC', flush=True)\n",
    "_, score_dict = NLP_model_building.tfidf_various_build(\n",
    "    X_train, X_test, y_train, y_test,\n",
    "    output_version='issued_patents_control',\n",
    "    output_directory=output_different_models_directory,\n",
    "    classification_model=NLP_model_building.SVC(\n",
    "        random_state=RANDOM_SEED,\n",
    "        probability=True),\n",
    "    cls_name='svc_classifier')\n",
    "score_dict.update({'Model Name': 'Support Vector Machine'})\n",
    "performance_df = performance_df.append(score_dict, ignore_index=True)\n",
    "\n",
    "#^^^^^^^^^^^^^^^^^^^^^^^^^^^^^^^^^^^^^^^^^^^^^^\n",
    "print('\\tDecision Tree', flush=True)\n",
    "_, score_dict = NLP_model_building.tfidf_various_build(\n",
    "    X_train, X_test, y_train, y_test,\n",
    "    output_version='issued_patents_control',\n",
    "    output_directory=output_different_models_directory,\n",
    "    classification_model=NLP_model_building.DecisionTreeClassifier(\n",
    "        random_state=RANDOM_SEED),\n",
    "    cls_name='decision_tree_classifier')\n",
    "score_dict.update({'Model Name': 'Decision Tree'})\n",
    "performance_df = performance_df.append(score_dict, ignore_index=True)\n",
    "\n",
    "#^^^^^^^^^^^^^^^^^^^^^^^^^^^^^^^^^^^^^^^^^^^^^^\n",
    "print('\\tRandom Forest', flush=True)\n",
    "_, score_dict = NLP_model_building.tfidf_various_build(\n",
    "    X_train, X_test, y_train, y_test,\n",
    "    output_version='issued_patents_control',\n",
    "    output_directory=output_different_models_directory,\n",
    "    classification_model=NLP_model_building.RandomForestClassifier(\n",
    "        random_state=RANDOM_SEED),\n",
    "    cls_name='random_forest_classifier')\n",
    "score_dict.update({'Model Name': 'Random Forest'})\n",
    "performance_df = performance_df.append(score_dict, ignore_index=True)\n",
    "\n",
    "#^^^^^^^^^^^^^^^^^^^^^^^^^^^^^^^^^^^^^^^^^^^^^^\n",
    "print('\\tK Neighbors', flush=True)\n",
    "_, score_dict = NLP_model_building.tfidf_various_build(\n",
    "    X_train, X_test, y_train, y_test,\n",
    "    output_version='issued_patents_control',\n",
    "    output_directory=output_different_models_directory,\n",
    "    classification_model=NLP_model_building.KNeighborsClassifier(),\n",
    "    cls_name='k_neighbors')\n",
    "score_dict.update({'Model Name': 'K-nearest Neighbors'})\n",
    "performance_df = performance_df.append(score_dict, ignore_index=True)\n",
    "\n",
    "#^^^^^^^^^^^^^^^^^^^^^^^^^^^^^^^^^^^^^^^^^^^^^^\n",
    "print('\\tStochastic Gradient Descent', flush=True)\n",
    "# Note: no predict_proba, only with modified huber\n",
    "_, score_dict = NLP_model_building.tfidf_various_build(\n",
    "    X_train, X_test, y_train, y_test,\n",
    "    output_version='issued_patents_control',\n",
    "    output_directory=output_different_models_directory,\n",
    "    classification_model=NLP_model_building.SGDClassifier(\n",
    "        random_state=RANDOM_SEED),\n",
    "    cls_name='sgd')\n",
    "score_dict.update({'Model Name': 'Stochastic Gradient Descent'})\n",
    "performance_df = performance_df.append(score_dict, ignore_index=True)\n",
    "\n",
    "#^^^^^^^^^^^^^^^^^^^^^^^^^^^^^^^^^^^^^^^^^^^^^^\n",
    "print('\\tStochastic Gradient Descent with modified huber loss', flush=True)\n",
    "# Source: https://scikit-learn.org/stable/modules/generated/sklearn.linear_model.SGDClassifier.html\n",
    "_, score_dict = NLP_model_building.tfidf_various_build(\n",
    "    X_train, X_test, y_train, y_test,\n",
    "    output_version='issued_patents_control',\n",
    "    output_directory=output_different_models_directory,\n",
    "    classification_model=NLP_model_building.SGDClassifier(\n",
    "        random_state=RANDOM_SEED,\n",
    "        loss='modified_huber'),\n",
    "    cls_name='sgd_modHuber')\n",
    "score_dict.update({'Model Name': 'Stochastic Gradient Descent - Modified Huber'})\n",
    "performance_df = performance_df.append(score_dict, ignore_index=True)\n",
    "\n",
    "#^^^^^^^^^^^^^^^^^^^^^^^^^^^^^^^^^^^^^^^^^^^^^^\n",
    "print('\\tAdaBoost', flush=True)\n",
    "_, score_dict = NLP_model_building.tfidf_various_build(\n",
    "    X_train, X_test, y_train, y_test,\n",
    "    output_version='issued_patents_control',\n",
    "    output_directory=output_different_models_directory,\n",
    "    classification_model=NLP_model_building.AdaBoostClassifier(\n",
    "        random_state=RANDOM_SEED),\n",
    "    cls_name='adaboost')\n",
    "score_dict.update({'Model Name': 'AdaBoost'})\n",
    "performance_df = performance_df.append(score_dict, ignore_index=True)\n",
    "\n",
    "#^^^^^^^^^^^^^^^^^^^^^^^^^^^^^^^^^^^^^^^^^^^^^^\n",
    "print('\\tGradient Boosting', flush=True)\n",
    "_, score_dict = NLP_model_building.tfidf_various_build(\n",
    "    X_train, X_test, y_train, y_test,\n",
    "    output_version='issued_patents_control',\n",
    "    output_directory=output_different_models_directory,\n",
    "    classification_model=NLP_model_building.GradientBoostingClassifier(\n",
    "        random_state=RANDOM_SEED),\n",
    "    cls_name='gradientboosting')\n",
    "score_dict.update({'Model Name': 'Gradient Boosting'})\n",
    "performance_df = performance_df.append(score_dict, ignore_index=True)\n",
    "\n",
    "#-----------------------------------------\n",
    "# Save performance results\n",
    "performance_df = performance_df[['Model Name', 'Precision Score', \n",
    "                                 'Recall Score', 'F1 Score', \n",
    "                                 'Accuracy Score', 'MCC']]\n",
    "performance_df.to_csv(output_different_models_directory\n",
    "                      + '//performance_summary_various_models_issued_patents_control.csv',\n",
    "                      float_format='%.3f', encoding='utf-8', index=True)\n",
    "performance_df.to_latex(output_different_models_directory\n",
    "                      + '//performance_summary_various_models_issued_patents_control.tex',\n",
    "                        float_format='%.3f', encoding='utf-8', index=False)"
   ]
  },
  {
   "cell_type": "markdown",
   "id": "a4dd4419",
   "metadata": {},
   "source": [
    "Comparing the model performance, we see that the SVC model performs best."
   ]
  },
  {
   "cell_type": "code",
   "execution_count": 16,
   "id": "99b7d499",
   "metadata": {},
   "outputs": [
    {
     "name": "stdout",
     "output_type": "stream",
     "text": [
      "                                     Model Name  Precision Score  \\\n",
      "2                        Support Vector Machine            0.868   \n",
      "4                                 Random Forest            0.862   \n",
      "7  Stochastic Gradient Descent - Modified Huber            0.850   \n",
      "6                   Stochastic Gradient Descent            0.849   \n",
      "1                                   Naive Bayes            0.804   \n",
      "0                           Logistic Regression            0.799   \n",
      "9                             Gradient Boosting            0.768   \n",
      "3                                 Decision Tree            0.745   \n",
      "8                                      AdaBoost            0.737   \n",
      "5                           K-nearest Neighbors            0.725   \n",
      "\n",
      "   Recall Score  F1 Score  Accuracy Score    MCC  \n",
      "2         0.868     0.868           0.868  0.737  \n",
      "4         0.862     0.862           0.862  0.724  \n",
      "7         0.850     0.850           0.850  0.701  \n",
      "6         0.849     0.849           0.849  0.697  \n",
      "1         0.804     0.804           0.804  0.610  \n",
      "0         0.799     0.799           0.799  0.599  \n",
      "9         0.768     0.768           0.768  0.537  \n",
      "3         0.745     0.745           0.745  0.491  \n",
      "8         0.737     0.737           0.737  0.475  \n",
      "5         0.725     0.725           0.725  0.451  \n"
     ]
    }
   ],
   "source": [
    "print(performance_df.round(3).sort_values('F1 Score', ascending=False))"
   ]
  },
  {
   "cell_type": "markdown",
   "id": "91554b10",
   "metadata": {},
   "source": [
    "We can now train the classification model using different variations of the SVC model.  The methods below build pipelines with SVC classifiers and also create performance reports for each model variation (linear, polynomial, or rbf kernel).  The methods also have internal Random Search optimization methods for hyperparameter tuning, which slows down the estimation quite substantially, though.\n",
    "\n",
    "The only difference between the two methods below is the vector representation of the claim test: either using a TF-IDF vector matrix for uni- and bigrams, or a Doc2Vec vector model estimated on the training data."
   ]
  },
  {
   "cell_type": "code",
   "execution_count": 17,
   "id": "da741c56",
   "metadata": {},
   "outputs": [],
   "source": [
    "%%capture\n",
    "# SVC Model Training\n",
    "print('\\tTrain TF-IDF SVC Model', flush=True)\n",
    "NLP_model_building.tfidf_svc_build(\n",
    "    X_train, X_test, y_train, y_test, \n",
    "    output_version='issued_patents_control', \n",
    "    optimize=False)\n",
    "\n",
    "print('\\tTrain Doc2Vec SVC Model', flush=True)\n",
    "NLP_model_building.doc2vec_svc_build(\n",
    "    X_train, X_test, y_train, y_test, \n",
    "    output_version='issued_patents_control', \n",
    "    optimize=False)"
   ]
  },
  {
   "cell_type": "markdown",
   "id": "d9b57e7a",
   "metadata": {},
   "source": [
    "Comparing the different variants, we see that the TF-IDF based model with polynomial kernel performs best.  When we look at the performance, this version of the model performs quite well."
   ]
  },
  {
   "cell_type": "code",
   "execution_count": 18,
   "id": "b8b17dba",
   "metadata": {},
   "outputs": [
    {
     "name": "stdout",
     "output_type": "stream",
     "text": [
      "             valid  invalid\n",
      "precision    0.887    0.879\n",
      "recall       0.878    0.888\n",
      "f1-score     0.883    0.884\n",
      "support    304.000  304.000\n",
      "\n",
      "Overall model performance:\n",
      "Precision: 0.883\n",
      "Recall: 0.883\n",
      "F1 Score: 0.883\n",
      "Accuracy: 0.883\n"
     ]
    }
   ],
   "source": [
    "# Load the performance output for the chosen model\n",
    "with open(home_directory+'/TFIDF_SVC_issued_patents_control'\n",
    "          +'/tfidf_svc_poly2_performance_report_issued_patents_control.json', 'r') as fp:\n",
    "        report = json.load(fp)\n",
    "\n",
    "print(pd.DataFrame().from_dict(report).iloc[:,:2].round(3).rename(columns={'0':'valid', '1':'invalid'}))\n",
    "\n",
    "print('\\nOverall model performance:')\n",
    "print('Precision: {0:.3f}\\nRecall: {1:.3f}'.format(report['Precision Score'], report['Recall Score']))\n",
    "print('F1 Score: {0:.3f}\\nAccuracy: {1:.3f}'.format(report['F1 Score'], report['Accuracy Score']))"
   ]
  },
  {
   "cell_type": "code",
   "execution_count": 19,
   "id": "944007a7",
   "metadata": {},
   "outputs": [
    {
     "data": {
      "image/jpeg": "[encoded data removed]",
      "text/plain": [
       "<IPython.core.display.Image object>"
      ]
     },
     "execution_count": 19,
     "metadata": {},
     "output_type": "execute_result"
    }
   ],
   "source": [
    "display.Image(home_directory+'/TFIDF_SVC_issued_patents_control'\n",
    "              +'/tfidf_svc_poly2_confusion_matrix_issued_patents_control.jpg')"
   ]
  },
  {
   "cell_type": "code",
   "execution_count": 20,
   "id": "3368f000",
   "metadata": {},
   "outputs": [
    {
     "data": {
      "image/jpeg": "[encoded data removed]",
      "text/plain": [
       "<IPython.core.display.Image object>"
      ]
     },
     "execution_count": 20,
     "metadata": {},
     "output_type": "execute_result"
    }
   ],
   "source": [
    "display.Image(home_directory+'/TFIDF_SVC_issued_patents_control'\n",
    "              +'/tfidf_svc_poly2_precision_recall_curve_issued_patents_control.jpg')"
   ]
  },
  {
   "cell_type": "code",
   "execution_count": 21,
   "id": "6c0519e4",
   "metadata": {},
   "outputs": [
    {
     "data": {
      "image/jpeg": "[encoded data removed]",
      "text/plain": [
       "<IPython.core.display.Image object>"
      ]
     },
     "execution_count": 21,
     "metadata": {},
     "output_type": "execute_result"
    }
   ],
   "source": [
    "display.Image(home_directory+'/TFIDF_SVC_issued_patents_control'\n",
    "              +'/tfidf_svc_poly2_ROC_curve_issued_patents_control.jpg')"
   ]
  },
  {
   "cell_type": "markdown",
   "id": "1b272dcf",
   "metadata": {},
   "source": [
    "Also the graphical analysis is very favorable of the model."
   ]
  },
  {
   "cell_type": "markdown",
   "id": "88285fb0",
   "metadata": {},
   "source": [
    "## 4) Classify patent claim texts of affected CPC groups"
   ]
  },
  {
   "cell_type": "markdown",
   "id": "aeed825e",
   "metadata": {},
   "source": [
    "With the classification model now estimated, we can predict for exisiting patents whether they are affected based on their claim texts.  We can do this also for pre-grant application publications, which is implemented in a similar way in the module **application_pregrant_pub_claim_classification.py**."
   ]
  },
  {
   "cell_type": "code",
   "execution_count": 22,
   "id": "055783ca",
   "metadata": {},
   "outputs": [],
   "source": [
    "from PyPatentAlice import patent_claim_classification\n",
    "\n",
    "# Set module shared parameters in local namespace\n",
    "patent_claim_classification.home_directory = home_directory\n",
    "patent_claim_classification.PatentsView_directory = PatentsView_directory\n",
    "patent_claim_classification.USPTO_data_directory = USPTO_data_directory\n",
    "patent_claim_classification.RANDOM_SEED = RANDOM_SEED"
   ]
  },
  {
   "cell_type": "markdown",
   "id": "26c6eb1c",
   "metadata": {},
   "source": [
    "I create a separete folder for the classification outcomes.  \n",
    "\n",
    "For this example, I restrict to the classification of patents issued between two years before and two years after *Alice*."
   ]
  },
  {
   "cell_type": "code",
   "execution_count": 23,
   "id": "df505b63",
   "metadata": {},
   "outputs": [],
   "source": [
    "# Define execution environment\n",
    "output_directory = r'patent_classification'\n",
    "\n",
    "# Create Output Path if not already exist\n",
    "if not os.path.exists(output_directory):\n",
    "    os.makedirs(output_directory)\n",
    "    \n",
    "# Output director for LIME data frames and word clouds\n",
    "lime_output_directory = 'LIME_issued_patents_control'\n",
    "\n",
    "# Create WC Output Path if not already exist\n",
    "if not os.path.exists(lime_output_directory):\n",
    "    os.makedirs(lime_output_directory)\n",
    "    \n",
    "    \n",
    "# Load model\n",
    "text_poly2_svc = joblib.load('TFIDF_SVC_issued_patents_control' \n",
    "                             + '//tfidf_svc_poly2_issued_patents_control.joblib')\n",
    "\n",
    "# Patent issue year for which to classify patent texts\n",
    "min_year_classification = 2012\n",
    "max_year_classification = 2016"
   ]
  },
  {
   "cell_type": "markdown",
   "id": "429287a2",
   "metadata": {},
   "source": [
    "Since the training data already identify the most affected USPC classes, we can use application data from the USPTO to find the patent IDs of successful applications from these classes.  Specifically, we use the current USPC class data from PatentsView to identify affected patent IDs in the treated classes.  Since the USPTO stopped issuing USPC classes in 2013 but still used them for application, we can further expand the list of affected patents by loading a relatively recent vintage of Patent Examination Research Dataset (PatEx) application data that contains both USPC classes and patent IDs of succesful applications."
   ]
  },
  {
   "cell_type": "code",
   "execution_count": 24,
   "id": "3339e622",
   "metadata": {},
   "outputs": [
    {
     "name": "stdout",
     "output_type": "stream",
     "text": [
      "Find patents that fit the desired classes\n",
      "\t USPC Main Classes for classification: ['702', '463', '434', '705']\n",
      "\t Number of identified patents to be classified from USPC classes: 60072\n",
      "\t Expand with patent ids from application data\n",
      "\t Number of identified patents to be classified from USPC classes including application ids: 182809\n"
     ]
    }
   ],
   "source": [
    "print('Find patents that fit the desired classes', flush=True)\n",
    "\n",
    "#-------------------------------\n",
    "# uspc_current classifications\n",
    "#-------------------------------\n",
    "uspc_current = pd.read_csv(PatentsView_directory + '/uspc_current_PatentsView.tsv', \n",
    "                           delimiter=\"\\t\", quoting=csv.QUOTE_NONNUMERIC, low_memory=False)\n",
    "\n",
    "print('\\t USPC Main Classes for classification: ' + str(uspc_main_category), flush=True)\n",
    "\n",
    "#==============================================\n",
    "# Find patents to investigate in affected USPC classes\n",
    "\n",
    "# => Note that the loaded categories are in int\n",
    "uspc_main_category_str = [str(c) for c in uspc_main_category]\n",
    "\n",
    "uspc_current['mainclass_id'] = uspc_current['mainclass_id'].astype(str).\\\n",
    "    apply(lambda s: re.sub(r'^0*', '', str(s).split('.')[0]))\n",
    "\n",
    "uspc_affected_patent = uspc_current[uspc_current.mainclass_id.isin(uspc_main_category_str)]\n",
    "uspc_affected_patent = uspc_affected_patent[['patent_id', 'mainclass_id']].drop_duplicates()\n",
    "uspc_affected_patent['patent_id'] = pd.to_numeric(uspc_affected_patent.patent_id,\n",
    "                                                  downcast='integer', errors='coerce')\n",
    "\n",
    "uspc_affected_patent_list = list(set(uspc_affected_patent.patent_id))\n",
    "\n",
    "print('\\t Number of identified patents to be classified from USPC classes: '\n",
    "      + str(len(uspc_affected_patent_list)), flush=True)\n",
    "\n",
    "#---------------------------------------------------------\n",
    "print('\\t Expand with patent ids from application data', flush=True)\n",
    "# Append here the application data which contain a lot of uspc class information \n",
    "# to identify relevant applications for classifcation\n",
    "#----------------------------------\n",
    "# Application Data\n",
    "#----------------------------------\n",
    "application_data = pd.read_csv(USPTO_data_directory\n",
    "                               + '/application_data_2020.csv', low_memory=False)\n",
    "\n",
    "# Select the application with the fitting patent classes\n",
    "application_data['uspc_class'] = application_data['uspc_class'].astype(str).\\\n",
    "    apply(lambda s: re.sub(r'^0*', '', str(s).split('.')[0]))\n",
    "\n",
    "affected_applications = application_data[application_data.uspc_class.isin(uspc_main_category_str)]\n",
    "\n",
    "# Coerce to integer, since focusing on utility patents\n",
    "affected_applications['patent_id'] = pd.to_numeric(affected_applications.patent_number,\n",
    "                                                   downcast='integer', errors='coerce')\n",
    "uspc_affected_application_publication_list = list(set(affected_applications.patent_id))\n",
    "\n",
    "# Expand patent list by patent ids from application data\n",
    "uspc_affected_patent_list.extend(uspc_affected_application_publication_list)\n",
    "\n",
    "print('\\t Number of identified patents to be classified from USPC classes including application ids: '\n",
    "      + str(len(uspc_affected_patent_list)), flush=True)"
   ]
  },
  {
   "cell_type": "markdown",
   "id": "65a1e4a8",
   "metadata": {},
   "source": [
    "Since most patents have now a CPC classification and there is not concordance table to translate USPC classification into CPC, we can use CPC data from PatentsView and the affected patents identified with the USPC classes to find the five most frequent CPC groups of affected patents.  These affected CPC groups cover around 50% of the affected patents based on USPC classes, but also are much broader and are available for more years.  Thus, there are around nine times as many patents in the affected CPC groups than in the USPC classes. "
   ]
  },
  {
   "cell_type": "code",
   "execution_count": 25,
   "id": "aea9bbf2",
   "metadata": {},
   "outputs": [
    {
     "name": "stdout",
     "output_type": "stream",
     "text": [
      "\t Most frequent CPC classes\n",
      "G06Q    0.297209\n",
      "G06F    0.392829\n",
      "G07F    0.473161\n",
      "H04L    0.524684\n",
      "A63F    0.572249\n",
      "G16H    0.605497\n",
      "G01N    0.627120\n",
      "G01R    0.647865\n",
      "G09B    0.668387\n",
      "H04N    0.686690\n",
      "Name: group_id, dtype: float64\n",
      "\t Selected main CPC classes\n",
      "['G06F', 'G07F', 'H04L', 'A63F', 'G06Q']\n",
      "\t Number of affected cpc based patents: 491341\n"
     ]
    }
   ],
   "source": [
    "# Note: most patents are now classified via CPC, as in Dugan (2018)\n",
    "# Translate affected patents into CPC classes\n",
    "# See: https://www.uspto.gov/patents-application-process/patent-search/classification-standards-and-development\n",
    "#-------------------------------\n",
    "# cpc classifications\n",
    "#-------------------------------\n",
    "cpc_current = pd.read_csv(PatentsView_directory + '/cpc_current_PatentsView.tsv', \n",
    "                            delimiter=\"\\t\", quoting=csv.QUOTE_NONNUMERIC, low_memory=False)\n",
    "#-------------------------------------\n",
    "# Focus on primary categories\n",
    "cpc_current = cpc_current[cpc_current.cpc_type=='inventional']\n",
    "\n",
    "# Drop unneeded columns and make cpc groups unique\n",
    "cpc_current = cpc_current.drop(['cpc_section',\n",
    "                                'cpc_type',\n",
    "                                'cpc_class', \n",
    "                                'cpc_group',\n",
    "                                'cpc_sequence'], axis=1).drop_duplicates().\\\n",
    "    rename(columns={'cpc_subclass':'group_id'})\n",
    "\n",
    "# Cast id to int\n",
    "cpc_current['patent_id'] = pd.to_numeric(cpc_current.patent_id,\n",
    "                                         downcast='integer', errors='coerce')\n",
    "\n",
    "#-------------------------------------\n",
    "# Find patent_ids in the CPC data for the affected USPC classes\n",
    "cpc_uspc_patents = cpc_current[cpc_current.patent_id.isin(\n",
    "    [s for s in uspc_affected_patent_list if not(np.isnan(s))])]\n",
    "\n",
    "# select the five most common cpc classes\n",
    "main_cpc_classes = list(set(cpc_uspc_patents.group_id.value_counts(). \\\n",
    "                            nlargest(5).reset_index()['index']))\n",
    "\n",
    "print('\\t Most frequent CPC classes\\n' \n",
    "      + str(cpc_uspc_patents.group_id.value_counts(normalize=True).head(10).cumsum()), flush=True)\n",
    "\n",
    "print('\\t Selected main CPC classes\\n' + str(main_cpc_classes), flush=True)\n",
    "\n",
    "# Define as patent ids those patents within the respective main CPC classes\n",
    "cpc_affected_patent_list = list(cpc_current[cpc_current.group_id.isin(main_cpc_classes)]['patent_id'])\n",
    "print('\\t Number of affected cpc based patents: ' + str(len(cpc_affected_patent_list)), flush=True)\n",
    "\n",
    "del cpc_current, uspc_current"
   ]
  },
  {
   "cell_type": "markdown",
   "id": "700fec21",
   "metadata": {},
   "source": [
    "Using the lost of patents in affected USPC classes, we can now iterate through the claim text by publication year in PatentsView and use the trained model to predict for each independent claim text whether it is affected or not. The classification method could also be run parallel for larger samples.  Either way, the annual results are aggregated to one dataframe with claim-level treatment predictions.  \n",
    "\n",
    "Here, the SVC classification based on the TF-IDF text vector representation with polynomial kernel of degree two performs best.  The model also give a predicted probability for treatment.  "
   ]
  },
  {
   "cell_type": "code",
   "execution_count": 28,
   "id": "e383fc1b",
   "metadata": {},
   "outputs": [
    {
     "name": "stdout",
     "output_type": "stream",
     "text": [
      "Classification for patents that are in relevant USPC classes\n",
      "\t\t Number of Cores: 8\n",
      "\t\tAffected patents in uspc classes for issue year: 2012\n",
      "\n",
      "\t\tAffected patents in uspc classes for issue year: 2013\n",
      "\n",
      "\t\tAffected patents in uspc classes for issue year: 2014\n",
      "\n",
      "\t\tAffected patents in uspc classes for issue year: 2015\n",
      "\n",
      "\t\tAffected patents in uspc classes for issue year: 2016\n",
      "\n",
      "\t Search treated patent claims for year 2014\n",
      "\t Search treated patent claims for year 2013\n",
      "\t Search treated patent claims for year 2016\n",
      "\t Search treated patent claims for year 2012\n",
      "\t Search treated patent claims for year 2015\n"
     ]
    },
    {
     "name": "stderr",
     "output_type": "stream",
     "text": [
      "/Users/dominikjurek/Library/CloudStorage/Dropbox/University/PhD Berkeley/Research/Alice Project/NLP Patent Classification/Alice NLP Python Code/Github code/patent_classification_project/PyPatentAlice/patent_claim_classification.py:105: SettingWithCopyWarning: \n",
      "A value is trying to be set on a copy of a slice from a DataFrame.\n",
      "Try using .loc[row_indexer,col_indexer] = value instead\n",
      "\n",
      "See the caveats in the documentation: https://pandas.pydata.org/pandas-docs/stable/user_guide/indexing.html#returning-a-view-versus-a-copy\n",
      "  indep_patent_claims.loc[:, 'claim_text'] = indep_patent_claims.claim_text.astype(str).apply(\n",
      "/Users/dominikjurek/Library/CloudStorage/Dropbox/University/PhD Berkeley/Research/Alice Project/NLP Patent Classification/Alice NLP Python Code/Github code/patent_classification_project/PyPatentAlice/patent_claim_classification.py:111: SettingWithCopyWarning: \n",
      "A value is trying to be set on a copy of a slice from a DataFrame.\n",
      "Try using .loc[row_indexer,col_indexer] = value instead\n",
      "\n",
      "See the caveats in the documentation: https://pandas.pydata.org/pandas-docs/stable/user_guide/indexing.html#returning-a-view-versus-a-copy\n",
      "  indep_patent_claims.loc[:, 'dep_reference'] = indep_patent_claims.claim_text.apply(\n",
      "/Users/dominikjurek/Library/CloudStorage/Dropbox/University/PhD Berkeley/Research/Alice Project/NLP Patent Classification/Alice NLP Python Code/Github code/patent_classification_project/PyPatentAlice/patent_claim_classification.py:105: SettingWithCopyWarning: \n",
      "A value is trying to be set on a copy of a slice from a DataFrame.\n",
      "Try using .loc[row_indexer,col_indexer] = value instead\n",
      "\n",
      "See the caveats in the documentation: https://pandas.pydata.org/pandas-docs/stable/user_guide/indexing.html#returning-a-view-versus-a-copy\n",
      "  indep_patent_claims.loc[:, 'claim_text'] = indep_patent_claims.claim_text.astype(str).apply(\n",
      "/Users/dominikjurek/Library/CloudStorage/Dropbox/University/PhD Berkeley/Research/Alice Project/NLP Patent Classification/Alice NLP Python Code/Github code/patent_classification_project/PyPatentAlice/patent_claim_classification.py:111: SettingWithCopyWarning: \n",
      "A value is trying to be set on a copy of a slice from a DataFrame.\n",
      "Try using .loc[row_indexer,col_indexer] = value instead\n",
      "\n",
      "See the caveats in the documentation: https://pandas.pydata.org/pandas-docs/stable/user_guide/indexing.html#returning-a-view-versus-a-copy\n",
      "  indep_patent_claims.loc[:, 'dep_reference'] = indep_patent_claims.claim_text.apply(\n",
      "/Users/dominikjurek/Library/CloudStorage/Dropbox/University/PhD Berkeley/Research/Alice Project/NLP Patent Classification/Alice NLP Python Code/Github code/patent_classification_project/PyPatentAlice/patent_claim_classification.py:105: SettingWithCopyWarning: \n",
      "A value is trying to be set on a copy of a slice from a DataFrame.\n",
      "Try using .loc[row_indexer,col_indexer] = value instead\n",
      "\n",
      "See the caveats in the documentation: https://pandas.pydata.org/pandas-docs/stable/user_guide/indexing.html#returning-a-view-versus-a-copy\n",
      "  indep_patent_claims.loc[:, 'claim_text'] = indep_patent_claims.claim_text.astype(str).apply(\n",
      "/Users/dominikjurek/Library/CloudStorage/Dropbox/University/PhD Berkeley/Research/Alice Project/NLP Patent Classification/Alice NLP Python Code/Github code/patent_classification_project/PyPatentAlice/patent_claim_classification.py:111: SettingWithCopyWarning: \n",
      "A value is trying to be set on a copy of a slice from a DataFrame.\n",
      "Try using .loc[row_indexer,col_indexer] = value instead\n",
      "\n",
      "See the caveats in the documentation: https://pandas.pydata.org/pandas-docs/stable/user_guide/indexing.html#returning-a-view-versus-a-copy\n",
      "  indep_patent_claims.loc[:, 'dep_reference'] = indep_patent_claims.claim_text.apply(\n"
     ]
    },
    {
     "name": "stdout",
     "output_type": "stream",
     "text": [
      "\t Lenght of output DF of classified independent claims for year 2013: 39443\n"
     ]
    },
    {
     "name": "stderr",
     "output_type": "stream",
     "text": [
      "/Users/dominikjurek/Library/CloudStorage/Dropbox/University/PhD Berkeley/Research/Alice Project/NLP Patent Classification/Alice NLP Python Code/Github code/patent_classification_project/PyPatentAlice/patent_claim_classification.py:105: SettingWithCopyWarning: \n",
      "A value is trying to be set on a copy of a slice from a DataFrame.\n",
      "Try using .loc[row_indexer,col_indexer] = value instead\n",
      "\n",
      "See the caveats in the documentation: https://pandas.pydata.org/pandas-docs/stable/user_guide/indexing.html#returning-a-view-versus-a-copy\n",
      "  indep_patent_claims.loc[:, 'claim_text'] = indep_patent_claims.claim_text.astype(str).apply(\n",
      "/Users/dominikjurek/Library/CloudStorage/Dropbox/University/PhD Berkeley/Research/Alice Project/NLP Patent Classification/Alice NLP Python Code/Github code/patent_classification_project/PyPatentAlice/patent_claim_classification.py:111: SettingWithCopyWarning: \n",
      "A value is trying to be set on a copy of a slice from a DataFrame.\n",
      "Try using .loc[row_indexer,col_indexer] = value instead\n",
      "\n",
      "See the caveats in the documentation: https://pandas.pydata.org/pandas-docs/stable/user_guide/indexing.html#returning-a-view-versus-a-copy\n",
      "  indep_patent_claims.loc[:, 'dep_reference'] = indep_patent_claims.claim_text.apply(\n",
      "/Users/dominikjurek/Library/CloudStorage/Dropbox/University/PhD Berkeley/Research/Alice Project/NLP Patent Classification/Alice NLP Python Code/Github code/patent_classification_project/PyPatentAlice/patent_claim_classification.py:105: SettingWithCopyWarning: \n",
      "A value is trying to be set on a copy of a slice from a DataFrame.\n",
      "Try using .loc[row_indexer,col_indexer] = value instead\n",
      "\n",
      "See the caveats in the documentation: https://pandas.pydata.org/pandas-docs/stable/user_guide/indexing.html#returning-a-view-versus-a-copy\n",
      "  indep_patent_claims.loc[:, 'claim_text'] = indep_patent_claims.claim_text.astype(str).apply(\n",
      "/Users/dominikjurek/Library/CloudStorage/Dropbox/University/PhD Berkeley/Research/Alice Project/NLP Patent Classification/Alice NLP Python Code/Github code/patent_classification_project/PyPatentAlice/patent_claim_classification.py:111: SettingWithCopyWarning: \n",
      "A value is trying to be set on a copy of a slice from a DataFrame.\n",
      "Try using .loc[row_indexer,col_indexer] = value instead\n",
      "\n",
      "See the caveats in the documentation: https://pandas.pydata.org/pandas-docs/stable/user_guide/indexing.html#returning-a-view-versus-a-copy\n",
      "  indep_patent_claims.loc[:, 'dep_reference'] = indep_patent_claims.claim_text.apply(\n"
     ]
    },
    {
     "name": "stdout",
     "output_type": "stream",
     "text": [
      "\t Lenght of output DF of classified independent claims for year 2014: 37094\n",
      "\t Lenght of output DF of classified independent claims for year 2015: 16823\n",
      "\t Lenght of output DF of classified independent claims for year 2016: 12489\n",
      "\t Lenght of output DF of classified independent claims for year 2012: 35619\n"
     ]
    }
   ],
   "source": [
    "print('Classification for patents that are in relevant USPC classes', flush=True)\n",
    "\n",
    "# Define result storage df\n",
    "text_poly2_svc_classification_uspc = pd.DataFrame()\n",
    "\n",
    "#-----------------------------------\n",
    "# Create sub-director for extracted texts to be classified\n",
    "suboutput_dir = output_directory+'//uspcAffected__TFIDF_poly2_issued_patents_control'\n",
    "if not os.path.exists(suboutput_dir):\n",
    "    os.makedirs(suboutput_dir)\n",
    "\n",
    "r'''\n",
    "#^^^^^^^^^^^^^^^^^^^^^^^^^^^^^^^^^^^^^^\n",
    "# Linear Execution\n",
    "for year in range(min_year_classification, max_year_classification+1):\n",
    "    print('\\tAffected patents in uspc classes for issue year: ' + str(year) + '\\n')\n",
    "    patent_claim_classification.patent_claim_classification_PatentView(\n",
    "        year=year,\n",
    "        affected_patent_list=uspc_affected_patent_list,\n",
    "        nlp_model=text_poly2_svc,\n",
    "        output_path=suboutput_dir)\n",
    "r'''\n",
    "\n",
    "#^^^^^^^^^^^^^^^^^^^^^^^^^^^^^^^^^^^^\n",
    "# Parallel Execution -> capsules are powerful enough to run parallel\n",
    "cores = mp.cpu_count()\n",
    "print('\\t\\t Number of Cores: ' + str(cores), flush=True)\n",
    "\n",
    "pool = mp.Pool(cores)\n",
    "# Run the scraping method for the contents required\n",
    "for year in range(min_year_classification, max_year_classification+1):\n",
    "    print('\\t\\tAffected patents in uspc classes for issue year: ' + str(year) + '\\n')\n",
    "    pool.apply_async(\n",
    "                    patent_claim_classification.patent_claim_classification_PatentView,\n",
    "                    args=(\n",
    "                          year,\n",
    "                          uspc_affected_patent_list,\n",
    "                          text_poly2_svc,\n",
    "                          suboutput_dir\n",
    "                          )\n",
    "                    )\n",
    "pool.close()\n",
    "pool.join()   "
   ]
  },
  {
   "cell_type": "code",
   "execution_count": 29,
   "id": "08c8c86e",
   "metadata": {},
   "outputs": [],
   "source": [
    "# Load from Target\n",
    "patent_classification_files = os.listdir(suboutput_dir)\n",
    "patent_classification_path = [suboutput_dir+'//'+f for f in patent_classification_files if \\\n",
    "                              bool(re.search('.csv', f)) & bool(re.search('FullText', f)) & \\\n",
    "                                  bool(re.search('patentClaim', f))  & \\\n",
    "                                      bool(re.search(r'\\d{4,4}', f))]\n",
    "\n",
    "for load_file in patent_classification_path:\n",
    "    append_df = pd.read_csv(load_file, encoding='utf-8', low_memory=False)\n",
    "    append_df['year'] = re.search(r'\\d{4,4}', load_file).group(0)\n",
    "\n",
    "    text_poly2_svc_classification_uspc = pd.concat(\n",
    "        [text_poly2_svc_classification_uspc,\n",
    "         append_df],\n",
    "        axis=0)"
   ]
  },
  {
   "cell_type": "code",
   "execution_count": 30,
   "id": "bf81a605",
   "metadata": {},
   "outputs": [
    {
     "name": "stdout",
     "output_type": "stream",
     "text": [
      "\t\t Total length of classified patent claims - affected USPC based; TFIDF + SVC Poly 2: 141468\n",
      "\t\t Unique classified patents - affeced USPC based; SVC Poly 2: 48658\n"
     ]
    }
   ],
   "source": [
    "# Save Fulltext output\n",
    "text_poly2_svc_classification_uspc.to_csv(\n",
    "    path_or_buf = output_directory +\n",
    "    '/FullText_patents_uspcAffected__predicted__TFIDF_poly2_issued_patents_control.csv', \n",
    "    index=False, encoding = 'utf-8')\n",
    "\n",
    "print('\\t\\t Total length of classified patent claims - affected USPC based; TFIDF + SVC Poly 2: ' +\n",
    "      str(len(text_poly2_svc_classification_uspc)), flush=True)\n",
    "print('\\t\\t Unique classified patents - affeced USPC based; SVC Poly 2: ' +\n",
    "      str(len(text_poly2_svc_classification_uspc.patent_id.unique())), flush=True)"
   ]
  },
  {
   "cell_type": "markdown",
   "id": "d3c26f97",
   "metadata": {},
   "source": [
    "Similarly to above, we can classify claim texts of patents in affected CPC groups.  "
   ]
  },
  {
   "cell_type": "code",
   "execution_count": 31,
   "id": "658041db",
   "metadata": {},
   "outputs": [
    {
     "name": "stdout",
     "output_type": "stream",
     "text": [
      "Classification for patents that are in relevant CPC groups\n",
      "\t\t Number of Cores: 8\n",
      "\t\tAffected patents in cpc group for issue year: 2012\n",
      "\n",
      "\t\tAffected patents in cpc group for issue year: 2013\n",
      "\n",
      "\t\tAffected patents in cpc group for issue year: 2014\n",
      "\n",
      "\t\tAffected patents in cpc group for issue year: 2015\n",
      "\n",
      "\t\tAffected patents in cpc group for issue year: 2016\n",
      "\n",
      "\t Search treated patent claims for year 2016\n",
      "\t Search treated patent claims for year 2015\n",
      "\t Search treated patent claims for year 2013\n",
      "\t Search treated patent claims for year 2014\n",
      "\t Search treated patent claims for year 2012\n"
     ]
    },
    {
     "name": "stderr",
     "output_type": "stream",
     "text": [
      "/Users/dominikjurek/Library/CloudStorage/Dropbox/University/PhD Berkeley/Research/Alice Project/NLP Patent Classification/Alice NLP Python Code/Github code/patent_classification_project/PyPatentAlice/patent_claim_classification.py:105: SettingWithCopyWarning: \n",
      "A value is trying to be set on a copy of a slice from a DataFrame.\n",
      "Try using .loc[row_indexer,col_indexer] = value instead\n",
      "\n",
      "See the caveats in the documentation: https://pandas.pydata.org/pandas-docs/stable/user_guide/indexing.html#returning-a-view-versus-a-copy\n",
      "  indep_patent_claims.loc[:, 'claim_text'] = indep_patent_claims.claim_text.astype(str).apply(\n",
      "/Users/dominikjurek/Library/CloudStorage/Dropbox/University/PhD Berkeley/Research/Alice Project/NLP Patent Classification/Alice NLP Python Code/Github code/patent_classification_project/PyPatentAlice/patent_claim_classification.py:111: SettingWithCopyWarning: \n",
      "A value is trying to be set on a copy of a slice from a DataFrame.\n",
      "Try using .loc[row_indexer,col_indexer] = value instead\n",
      "\n",
      "See the caveats in the documentation: https://pandas.pydata.org/pandas-docs/stable/user_guide/indexing.html#returning-a-view-versus-a-copy\n",
      "  indep_patent_claims.loc[:, 'dep_reference'] = indep_patent_claims.claim_text.apply(\n",
      "/Users/dominikjurek/Library/CloudStorage/Dropbox/University/PhD Berkeley/Research/Alice Project/NLP Patent Classification/Alice NLP Python Code/Github code/patent_classification_project/PyPatentAlice/patent_claim_classification.py:105: SettingWithCopyWarning: \n",
      "A value is trying to be set on a copy of a slice from a DataFrame.\n",
      "Try using .loc[row_indexer,col_indexer] = value instead\n",
      "\n",
      "See the caveats in the documentation: https://pandas.pydata.org/pandas-docs/stable/user_guide/indexing.html#returning-a-view-versus-a-copy\n",
      "  indep_patent_claims.loc[:, 'claim_text'] = indep_patent_claims.claim_text.astype(str).apply(\n",
      "/Users/dominikjurek/Library/CloudStorage/Dropbox/University/PhD Berkeley/Research/Alice Project/NLP Patent Classification/Alice NLP Python Code/Github code/patent_classification_project/PyPatentAlice/patent_claim_classification.py:111: SettingWithCopyWarning: \n",
      "A value is trying to be set on a copy of a slice from a DataFrame.\n",
      "Try using .loc[row_indexer,col_indexer] = value instead\n",
      "\n",
      "See the caveats in the documentation: https://pandas.pydata.org/pandas-docs/stable/user_guide/indexing.html#returning-a-view-versus-a-copy\n",
      "  indep_patent_claims.loc[:, 'dep_reference'] = indep_patent_claims.claim_text.apply(\n",
      "/Users/dominikjurek/Library/CloudStorage/Dropbox/University/PhD Berkeley/Research/Alice Project/NLP Patent Classification/Alice NLP Python Code/Github code/patent_classification_project/PyPatentAlice/patent_claim_classification.py:105: SettingWithCopyWarning: \n",
      "A value is trying to be set on a copy of a slice from a DataFrame.\n",
      "Try using .loc[row_indexer,col_indexer] = value instead\n",
      "\n",
      "See the caveats in the documentation: https://pandas.pydata.org/pandas-docs/stable/user_guide/indexing.html#returning-a-view-versus-a-copy\n",
      "  indep_patent_claims.loc[:, 'claim_text'] = indep_patent_claims.claim_text.astype(str).apply(\n",
      "/Users/dominikjurek/Library/CloudStorage/Dropbox/University/PhD Berkeley/Research/Alice Project/NLP Patent Classification/Alice NLP Python Code/Github code/patent_classification_project/PyPatentAlice/patent_claim_classification.py:111: SettingWithCopyWarning: \n",
      "A value is trying to be set on a copy of a slice from a DataFrame.\n",
      "Try using .loc[row_indexer,col_indexer] = value instead\n",
      "\n",
      "See the caveats in the documentation: https://pandas.pydata.org/pandas-docs/stable/user_guide/indexing.html#returning-a-view-versus-a-copy\n",
      "  indep_patent_claims.loc[:, 'dep_reference'] = indep_patent_claims.claim_text.apply(\n",
      "/Users/dominikjurek/Library/CloudStorage/Dropbox/University/PhD Berkeley/Research/Alice Project/NLP Patent Classification/Alice NLP Python Code/Github code/patent_classification_project/PyPatentAlice/patent_claim_classification.py:105: SettingWithCopyWarning: \n",
      "A value is trying to be set on a copy of a slice from a DataFrame.\n",
      "Try using .loc[row_indexer,col_indexer] = value instead\n",
      "\n",
      "See the caveats in the documentation: https://pandas.pydata.org/pandas-docs/stable/user_guide/indexing.html#returning-a-view-versus-a-copy\n",
      "  indep_patent_claims.loc[:, 'claim_text'] = indep_patent_claims.claim_text.astype(str).apply(\n",
      "/Users/dominikjurek/Library/CloudStorage/Dropbox/University/PhD Berkeley/Research/Alice Project/NLP Patent Classification/Alice NLP Python Code/Github code/patent_classification_project/PyPatentAlice/patent_claim_classification.py:105: SettingWithCopyWarning: \n",
      "A value is trying to be set on a copy of a slice from a DataFrame.\n",
      "Try using .loc[row_indexer,col_indexer] = value instead\n",
      "\n",
      "See the caveats in the documentation: https://pandas.pydata.org/pandas-docs/stable/user_guide/indexing.html#returning-a-view-versus-a-copy\n",
      "  indep_patent_claims.loc[:, 'claim_text'] = indep_patent_claims.claim_text.astype(str).apply(\n",
      "/Users/dominikjurek/Library/CloudStorage/Dropbox/University/PhD Berkeley/Research/Alice Project/NLP Patent Classification/Alice NLP Python Code/Github code/patent_classification_project/PyPatentAlice/patent_claim_classification.py:111: SettingWithCopyWarning: \n",
      "A value is trying to be set on a copy of a slice from a DataFrame.\n",
      "Try using .loc[row_indexer,col_indexer] = value instead\n",
      "\n",
      "See the caveats in the documentation: https://pandas.pydata.org/pandas-docs/stable/user_guide/indexing.html#returning-a-view-versus-a-copy\n",
      "  indep_patent_claims.loc[:, 'dep_reference'] = indep_patent_claims.claim_text.apply(\n",
      "/Users/dominikjurek/Library/CloudStorage/Dropbox/University/PhD Berkeley/Research/Alice Project/NLP Patent Classification/Alice NLP Python Code/Github code/patent_classification_project/PyPatentAlice/patent_claim_classification.py:111: SettingWithCopyWarning: \n",
      "A value is trying to be set on a copy of a slice from a DataFrame.\n",
      "Try using .loc[row_indexer,col_indexer] = value instead\n",
      "\n",
      "See the caveats in the documentation: https://pandas.pydata.org/pandas-docs/stable/user_guide/indexing.html#returning-a-view-versus-a-copy\n",
      "  indep_patent_claims.loc[:, 'dep_reference'] = indep_patent_claims.claim_text.apply(\n"
     ]
    },
    {
     "name": "stdout",
     "output_type": "stream",
     "text": [
      "\t Lenght of output DF of classified independent claims for year 2012: 172503\n",
      "\t Lenght of output DF of classified independent claims for year 2013: 193996\n",
      "\t Lenght of output DF of classified independent claims for year 2016: 210895\n",
      "\t Lenght of output DF of classified independent claims for year 2015: 207249\n",
      "\t Lenght of output DF of classified independent claims for year 2014: 216500\n"
     ]
    }
   ],
   "source": [
    "# Repeat process for patent identified using CPC groups\n",
    "print('Classification for patents that are in relevant CPC groups', flush=True)\n",
    "\n",
    "# Define result storage df\n",
    "text_poly2_svc_classification_cpc = pd.DataFrame()\n",
    "\n",
    "#-----------------------------------\n",
    "# Create sub-director for extracted texts to be classified\n",
    "suboutput_dir = output_directory+'//cpcAffected__TFIDF_poly2_issued_patents_control'\n",
    "if not os.path.exists(suboutput_dir):\n",
    "    os.makedirs(suboutput_dir)\n",
    "\n",
    "r'''\n",
    "#^^^^^^^^^^^^^^^^^^^^^^^^^^^^^^^^^^^^^^\n",
    "# Linear Execution\n",
    "for year in range(min_year_classification, max_year_classification+1):\n",
    "    print('\\tAffected patents in cpc group for issue year: ' + str(year) + '\\n')\n",
    "    patent_claim_classification.patent_claim_classification_PatentView(\n",
    "        year,\n",
    "        cpc_affected_patent_list,\n",
    "        text_poly2_svc,\n",
    "        suboutput_dir)\n",
    "r'''    \n",
    "    \n",
    "#^^^^^^^^^^^^^^^^^^^^^^^^^^^^^^^^^^^^^^\n",
    "# Parallel Execution -> not recommended for desktop \n",
    "cores = mp.cpu_count()\n",
    "print('\\t\\t Number of Cores: ' + str(cores), flush=True)\n",
    "\n",
    "pool = mp.Pool(cores)\n",
    "# Run the scraping method for the contents required\n",
    "for year in range(min_year_classification, max_year_classification+1):\n",
    "    print('\\t\\tAffected patents in cpc group for issue year: ' + str(year) + '\\n')\n",
    "    pool.apply_async(\n",
    "                    patent_claim_classification.patent_claim_classification_PatentView,\n",
    "                    args=(\n",
    "                          year,\n",
    "                          cpc_affected_patent_list,\n",
    "                          text_poly2_svc,\n",
    "                          suboutput_dir\n",
    "                          )\n",
    "                    )\n",
    "pool.close()\n",
    "pool.join()"
   ]
  },
  {
   "cell_type": "code",
   "execution_count": 32,
   "id": "fe81efbf",
   "metadata": {},
   "outputs": [],
   "source": [
    "# Load from Target\n",
    "patent_classification_files = os.listdir(suboutput_dir)\n",
    "patent_classification_path = [suboutput_dir+'//'+f for f in patent_classification_files if \\\n",
    "                              bool(re.search('.csv', f)) & bool(re.search('FullText', f)) & \\\n",
    "                                bool(re.search('patentClaim', f)) & \\\n",
    "                                      bool(re.search(r'\\d{4,4}', f))]\n",
    "\n",
    "for load_file in patent_classification_path:\n",
    "    append_df = pd.read_csv(load_file, encoding='utf-8', low_memory=False)\n",
    "    append_df['year'] = re.search(r'\\d{4,4}', load_file).group(0)\n",
    "\n",
    "    text_poly2_svc_classification_cpc = pd.concat(\n",
    "        [text_poly2_svc_classification_cpc,\n",
    "         append_df],\n",
    "        axis=0)"
   ]
  },
  {
   "cell_type": "code",
   "execution_count": 33,
   "id": "5186da89",
   "metadata": {},
   "outputs": [
    {
     "name": "stdout",
     "output_type": "stream",
     "text": [
      "\t\t Total length of classified patent claims - affected CPC based; TFIDF + SVC Poly 2: 1001143\n",
      "\t\t Unique classified patents - affected CPC based; SVC Poly 2: 327230\n"
     ]
    }
   ],
   "source": [
    "# Save Fulltext output\n",
    "text_poly2_svc_classification_cpc.to_csv(\n",
    "    path_or_buf = output_directory +\n",
    "    '/FullText__patents_cpcAffected__predicted__TFIDF_poly2_issued_patents_control.csv', \n",
    "    index=False, encoding = 'utf-8')\n",
    "\n",
    "print('\\t\\t Total length of classified patent claims - affected CPC based; TFIDF + SVC Poly 2: ' +\n",
    "      str(len(text_poly2_svc_classification_cpc)), flush=True)\n",
    "print('\\t\\t Unique classified patents - affected CPC based; SVC Poly 2: ' +\n",
    "      str(len(text_poly2_svc_classification_cpc.patent_id.unique())), flush=True)"
   ]
  },
  {
   "cell_type": "markdown",
   "id": "6ad72195",
   "metadata": {},
   "source": [
    "For the classified patents, we can now create also word clouds comparing predicted treated and predicted valid claim texts.  Since we have so many patent in affected CPC groups, we can just restrict to a sample of one million claims."
   ]
  },
  {
   "cell_type": "code",
   "execution_count": 34,
   "id": "1c0d1c9f",
   "metadata": {},
   "outputs": [
    {
     "name": "stdout",
     "output_type": "stream",
     "text": [
      "Create Word Clouds for predicted patent classes\n"
     ]
    }
   ],
   "source": [
    "print('Create Word Clouds for predicted patent classes', flush=True)\n",
    "\n",
    "model_data_text_poly2_svc_uspc = text_poly2_svc_classification_uspc[\n",
    "    ['claim_text', '1', 'predicted_label']\n",
    "    ].drop_duplicates()\n",
    "\n",
    "# Create model text for word cloud and predict classification\n",
    "model_data_text_poly2_svc_uspc = model_data_text_poly2_svc_uspc.rename(\n",
    "    columns={'1':'pred_treated'})\n",
    "\n",
    "model_data_text_poly2_svc_uspc['treated'] = (model_data_text_poly2_svc_uspc.\\\n",
    "                                             predicted_label == 1).astype(int)\n",
    "\n",
    "patent_claim_classification.wordcloud_creation(\n",
    "    model_data=model_data_text_poly2_svc_uspc,\n",
    "    output_directory=output_directory,\n",
    "    version_string='patents_uspcAffected__TFIDF_poly2_issued_patents_control')\n",
    "\n",
    "#^^^^^^^^^^^^^^^^^^^^^^^^^^^^^^^^^^^^^^^^^^^^^^^^\n",
    "model_data_text_poly2_svc_cpc = text_poly2_svc_classification_cpc[\n",
    "    ['claim_text', '1', 'predicted_label']\n",
    "    ].drop_duplicates()\n",
    "\n",
    "# Create model text for word cloud and predict classification\n",
    "model_data_text_poly2_svc_cpc = model_data_text_poly2_svc_cpc.rename(columns={'1':'pred_treated'})\n",
    "\n",
    "model_data_text_poly2_svc_cpc['treated'] = (model_data_text_poly2_svc_cpc.predicted_label == 1).\\\n",
    "    astype(int)\n",
    "\n",
    "# There are vastly more cpc classifications than uspc classification => randomly draw! if size over 1M\n",
    "if len(model_data_text_poly2_svc_cpc) > 1000000:\n",
    "    model_data_text_poly2_svc_cpc = model_data_text_poly2_svc_cpc.sample(\n",
    "        n=1000000,\n",
    "        random_state = RANDOM_SEED,\n",
    "        replace=False)\n",
    "\n",
    "patent_claim_classification.wordcloud_creation(\n",
    "    model_data=model_data_text_poly2_svc_cpc,\n",
    "    output_directory=output_directory,\n",
    "    version_string='patents_cpcAffected__TFIDF_poly2_issued_patents_control')"
   ]
  },
  {
   "cell_type": "markdown",
   "id": "d618c031",
   "metadata": {},
   "source": [
    "Comparing the terms that are relatively more frequent in treated versus valid claims, we see that valid claims contain more diverse words including specifications of physical implementations while invalid claims feature abstract descriptions about business processes such as computer-based methods.  This is in line with the Supreme Court ruling that abstract claims are not patent eligible."
   ]
  },
  {
   "cell_type": "code",
   "execution_count": 35,
   "id": "2438ba6a",
   "metadata": {},
   "outputs": [
    {
     "name": "stdout",
     "output_type": "stream",
     "text": [
      "More frequent terms in invalid claims after Alice\n"
     ]
    },
    {
     "data": {
      "image/jpeg": "[encoded data removed]",
      "text/plain": [
       "<IPython.core.display.Image object>"
      ]
     },
     "execution_count": 35,
     "metadata": {},
     "output_type": "execute_result"
    }
   ],
   "source": [
    "print('More frequent terms in invalid claims after Alice')\n",
    "display.Image(home_directory+'/Wordcloud_issued_patents_control'\n",
    "              +'/wc_differential_frequency_weighting_treated_trainingData_issued_patents_control.jpg')"
   ]
  },
  {
   "cell_type": "code",
   "execution_count": 36,
   "id": "411d9890",
   "metadata": {},
   "outputs": [
    {
     "name": "stdout",
     "output_type": "stream",
     "text": [
      "More frequent terms in valid claims\n"
     ]
    },
    {
     "data": {
      "image/jpeg": "[encoded data removed]",
      "text/plain": [
       "<IPython.core.display.Image object>"
      ]
     },
     "execution_count": 36,
     "metadata": {},
     "output_type": "execute_result"
    }
   ],
   "source": [
    "print('More frequent terms in valid claims')\n",
    "display.Image(home_directory+'/Wordcloud_issued_patents_control'\n",
    "              +'/wc_differential_frequency_weighting_untreated_trainingData_issued_patents_control.jpg')"
   ]
  },
  {
   "cell_type": "markdown",
   "id": "be6501c2",
   "metadata": {},
   "source": [
    "To better understand what words more most relevant for the classification as valid or invalid, we can apply the local interpretable model-agnostic explanations (LIME) method to the trained model and the two classification outcomes for USPC classes and CPC groups.  Also here, the methods will create word clouds that visualize the most relevant word for the classification as treated or valid."
   ]
  },
  {
   "cell_type": "code",
   "execution_count": 37,
   "id": "12310f3d",
   "metadata": {},
   "outputs": [
    {
     "name": "stdout",
     "output_type": "stream",
     "text": [
      "Lime classification sample analysis\n"
     ]
    }
   ],
   "source": [
    "print('Lime classification sample analysis', flush=True)\n",
    "\n",
    "_, top_label_df_grouped_poly2_svc_uspc =  patent_claim_classification.lime_text_explainer(\n",
    "    patent_classification=text_poly2_svc_classification_uspc[\n",
    "        ['claim_text', '1', 'predicted_label']\n",
    "        ].drop_duplicates(),\n",
    "    model=text_poly2_svc,\n",
    "    output_path=lime_output_directory,\n",
    "    version_string='patents_uspcAffected__TFIDF_poly2_issued_patents_control',\n",
    "    size=100)\n",
    "\n",
    "patent_claim_classification.wordcloud_top_label_df(\n",
    "    top_label_df_grouped=top_label_df_grouped_poly2_svc_uspc,\n",
    "    output_directory=lime_output_directory,\n",
    "    version_string='patents_uspcAffected__TFIDF_poly2_issued_patents_control')"
   ]
  },
  {
   "cell_type": "code",
   "execution_count": 38,
   "id": "6fd7f866",
   "metadata": {},
   "outputs": [],
   "source": [
    "_, top_label_df_grouped_poly2_svc_cpc =  patent_claim_classification.lime_text_explainer(\n",
    "    patent_classification=text_poly2_svc_classification_cpc[\n",
    "        ['claim_text', '1', 'predicted_label']\n",
    "        ].drop_duplicates(),\n",
    "    model=text_poly2_svc,\n",
    "    output_path=lime_output_directory,\n",
    "    version_string='patents_cpcAffected__TFIDF_poly2_issued_patents_control',\n",
    "    size=100)\n",
    "\n",
    "patent_claim_classification.wordcloud_top_label_df(\n",
    "    top_label_df_grouped=top_label_df_grouped_poly2_svc_cpc,\n",
    "    output_directory=lime_output_directory,\n",
    "    version_string='patents_cpcAffected__TFIDF_poly2_issued_patents_control')"
   ]
  },
  {
   "cell_type": "markdown",
   "id": "40427ff2",
   "metadata": {},
   "source": [
    "When we visualzie the results of the LIME method, we can confirm that the model is more likely to predict that a claim is invalid if it contains more abstract and general terms like 'method', while claims that include more concrete language on the implementation of software innovations, like 'device' or 'control', are more likely to be classified as valid."
   ]
  },
  {
   "cell_type": "code",
   "execution_count": 39,
   "id": "a7b76266",
   "metadata": {},
   "outputs": [
    {
     "name": "stdout",
     "output_type": "stream",
     "text": [
      "Terms most relevant for classifying claim as invalid\n"
     ]
    },
    {
     "data": {
      "image/jpeg": "[encoded data removed]",
      "text/plain": [
       "<IPython.core.display.Image object>"
      ]
     },
     "execution_count": 39,
     "metadata": {},
     "output_type": "execute_result"
    }
   ],
   "source": [
    "print('Terms most relevant for classifying claim as invalid')\n",
    "display.Image(home_directory\n",
    "              + '//LIME_issued_patents_control'\n",
    "              + '//wc_lime_top_words_treated_claims_patents_cpcAffected__TFIDF_poly2_issued_patents_control.jpg')"
   ]
  },
  {
   "cell_type": "code",
   "execution_count": 40,
   "id": "e4fa7010",
   "metadata": {},
   "outputs": [
    {
     "name": "stdout",
     "output_type": "stream",
     "text": [
      "Terms most relevant for classifying claim as valid\n"
     ]
    },
    {
     "data": {
      "image/jpeg": "[encoded data removed]",
      "text/plain": [
       "<IPython.core.display.Image object>"
      ]
     },
     "execution_count": 40,
     "metadata": {},
     "output_type": "execute_result"
    }
   ],
   "source": [
    "print('Terms most relevant for classifying claim as valid')\n",
    "display.Image(home_directory\n",
    "              + '//LIME_issued_patents_control'\n",
    "              + '//wc_lime_top_words_untreated_claims_patents_cpcAffected__TFIDF_poly2_issued_patents_control.jpg')"
   ]
  },
  {
   "cell_type": "code",
   "execution_count": 41,
   "id": "4a806942",
   "metadata": {},
   "outputs": [],
   "source": [
    "# Clean up some memory before executing next step\n",
    "del text_poly2_svc_classification_cpc, text_poly2_svc_classification_uspc"
   ]
  },
  {
   "cell_type": "markdown",
   "id": "e437ff26",
   "metadata": {},
   "source": [
    "## 5) Test of the classification outcome"
   ]
  },
  {
   "cell_type": "markdown",
   "id": "57e94c1a",
   "metadata": {},
   "source": [
    "By now, we finally have claim-level predictions for whether a text is valid or invalid under *Alice*.  To verify that this classification is meaningful, I compare the counts of patents that are predicted to valid or invalid on quarterly basis for each affected CPC group.  If my model performs better than using CPC groups alone, I would expect to see a significantly larger decline in issued patents that are predicted to be invalid compared to patents that are predicted to be valid."
   ]
  },
  {
   "cell_type": "code",
   "execution_count": 42,
   "id": "4bdd5551",
   "metadata": {},
   "outputs": [],
   "source": [
    "from PyPatentAlice import classification_testing\n",
    "\n",
    "# Set module shared parameters in local namespace\n",
    "classification_testing.home_directory = home_directory\n",
    "classification_testing.PatentsView_directory = PatentsView_directory\n",
    "classification_testing.USPTO_data_directory = USPTO_data_directory\n",
    "classification_testing.RANDOM_SEED = RANDOM_SEED"
   ]
  },
  {
   "cell_type": "markdown",
   "id": "0634ae4a",
   "metadata": {},
   "source": [
    "The method in build a basic data frame that load issue dates and CPC groups from PatentsView and defines a patent as treated if it's first claim is classified as invalid.  The first claim of a patent is usually the most important and broadest claim of a patent and thus defines the scope of the patent.\n",
    "\n",
    "I then count the number of predicted valid and invalid patents by CPC group and issue quarter.  The post period after the intervention start after the *Alice* decision.\n",
    "\n",
    "Since we have somewhat large differences in the number of quarterly patent issuances, I normalize each quarterly count by the its first value in Q1 2012.  Thus, every count starts at one and we can more easily compare how the relative number of issuance change over time."
   ]
  },
  {
   "cell_type": "code",
   "execution_count": 43,
   "id": "cbd7bdce",
   "metadata": {},
   "outputs": [
    {
     "name": "stdout",
     "output_type": "stream",
     "text": [
      "Load PatentsView patent and current CPC data\n",
      "Load Alice classification outcomes and define treated patents\n",
      "Merge and output patent and classification data\n"
     ]
    }
   ],
   "source": [
    "# Load patent-level classification outcomes\n",
    "df = classification_testing.analysis_df_build()\n",
    "\n",
    "# Aggregate to CPC group - quarter - treatment counts\n",
    "agg_counts = df.groupby(\n",
    "    ['group_id', 'quarter_issue_date_dt', 'Treated'])['patent_id'].\\\n",
    "    count().reset_index().rename(columns={'patent_id':'Count'})\n",
    "\n",
    "alice_decision_date = np.datetime64('2014-06-19')\n",
    "agg_counts['Post'] = (agg_counts['quarter_issue_date_dt'] > alice_decision_date).astype(int)\n",
    "\n",
    "\n",
    "# Normalize the count 1 at the beginning of 2012\n",
    "norm_counts = agg_counts[\n",
    "    ['group_id', 'quarter_issue_date_dt', 'Treated', 'Count']].\\\n",
    "    sort_values('quarter_issue_date_dt')\n",
    "\n",
    "first = (norm_counts.drop('quarter_issue_date_dt', axis=1).\\\n",
    "         groupby(['group_id', 'Treated']).transform('first'))\n",
    "norm_counts['normalized_Count'] = norm_counts['Count'] / first['Count']"
   ]
  },
  {
   "cell_type": "markdown",
   "id": "30ce8faa",
   "metadata": {},
   "source": [
    "Plotting the two time series for the quartlery issuances by CPC group, we can clearly see that after the *Alice* decision treated patent issuances fell much more than issuances of patents that are predicted to be valid.  Indeed, even within CPC groups, my model can identify valid from invalid patents under *Alice*."
   ]
  },
  {
   "cell_type": "code",
   "execution_count": 44,
   "id": "dd12ea93",
   "metadata": {},
   "outputs": [
    {
     "data": {
      "image/png": "[encoded data removed]",
      "text/plain": [
       "<Figure size 800x500 with 1 Axes>"
      ]
     },
     "metadata": {},
     "output_type": "display_data"
    }
   ],
   "source": [
    "sns.set_style(\"whitegrid\")\n",
    "sns.set_palette(\"dark\")\n",
    "\n",
    "plt.figure(figsize=(8, 5))\n",
    "ax = sns.lineplot(data=norm_counts,\n",
    "                    y='normalized_Count',\n",
    "                    x='quarter_issue_date_dt',\n",
    "                    hue='Treated',\n",
    "                    markers=True,\n",
    "                    err_style='bars',\n",
    "                    errorbar='ci')\n",
    "\n",
    "ax.axvline(x = alice_decision_date.__hash__(),\n",
    "           color='r', linestyle='--') \n",
    "ax.set(xlabel='Issue Date', \n",
    "       ylabel='Normalized Count',\n",
    "       title='Count Issued Patents in Affected CPC Groups')\n",
    "\n",
    "plt.legend(title = 'Predicted Status', loc='upper left', labels=['Control', 'Treated'])\n",
    "plt.show()"
   ]
  },
  {
   "cell_type": "markdown",
   "id": "57e8e662",
   "metadata": {},
   "source": [
    "The graphic includes confidence interval around each point estimate.  Consistent with what we would expect, patent issuances of treated and control patents follow the same trend before *Alice*, with no significant pre-trend difference for treated patents.  After *Alice*, the number of issued treated patents significantly decreases relative to the control patents, which show broadly a continuation of the pre-*Alice* trend.  "
   ]
  },
  {
   "cell_type": "markdown",
   "id": "f2b83c83",
   "metadata": {},
   "source": [
    "Next, we can quanity the drop in invalid patent issuances compared to valid issuances by running variations of difference-in-differences modes with treatment defined by being classified as invalid and the post-period starting after the *Alice* decision.  \n",
    "\n",
    "For the first model, we can just run a simple OLS regression.  I take the log of the issuance counts so that the coefficients can be interpreted as percentage changes and to limit the effect of outliers with large quarterly patent issuances.  Standard error are clustered on the CPC group level."
   ]
  },
  {
   "cell_type": "code",
   "execution_count": 45,
   "id": "3b359d60",
   "metadata": {},
   "outputs": [
    {
     "name": "stdout",
     "output_type": "stream",
     "text": [
      "                            OLS Regression Results                            \n",
      "==============================================================================\n",
      "Dep. Variable:              log_Count   R-squared:                       0.007\n",
      "Model:                            OLS   Adj. R-squared:                  0.006\n",
      "Method:                 Least Squares   F-statistic:                     5.089\n",
      "Date:                Mon, 30 Oct 2023   Prob (F-statistic):            0.00181\n",
      "Time:                        16:59:48   Log-Likelihood:                -9743.5\n",
      "No. Observations:                5029   AIC:                         1.949e+04\n",
      "Df Residuals:                    5025   BIC:                         1.952e+04\n",
      "Df Model:                           3                                         \n",
      "Covariance Type:              cluster                                         \n",
      "================================================================================\n",
      "                   coef    std err          z      P>|z|      [0.025      0.975]\n",
      "--------------------------------------------------------------------------------\n",
      "Intercept        1.4040      0.123     11.399      0.000       1.163       1.645\n",
      "Treated         -0.2000      0.102     -1.967      0.049      -0.399      -0.001\n",
      "Post             0.1201      0.041      2.929      0.003       0.040       0.200\n",
      "Treated:Post    -0.1249      0.059     -2.109      0.035      -0.241      -0.009\n",
      "==============================================================================\n",
      "Omnibus:                     1447.607   Durbin-Watson:                   0.476\n",
      "Prob(Omnibus):                  0.000   Jarque-Bera (JB):             3599.784\n",
      "Skew:                           1.585   Prob(JB):                         0.00\n",
      "Kurtosis:                       5.670   Cond. No.                         6.96\n",
      "==============================================================================\n",
      "\n",
      "Notes:\n",
      "[1] Standard Errors are robust to cluster correlation (cluster)\n"
     ]
    }
   ],
   "source": [
    "# Regression models\n",
    "\n",
    "# Log is useful to estimate percentage changes\n",
    "agg_counts['log_Count'] = np.log(agg_counts['Count'])\n",
    "\n",
    "reg_did = sm.ols(formula='log_Count ~ Treated * Post',\n",
    "                 data=agg_counts).fit(\n",
    "                     cov_type='cluster',\n",
    "                     cov_kwds={'groups': agg_counts['group_id']})\n",
    "print(reg_did.summary())    "
   ]
  },
  {
   "cell_type": "markdown",
   "id": "5797c160",
   "metadata": {},
   "source": [
    "The coefficient of the difference-in-differences model shows that patent issuances for patents that are predicted to be invalid by the model decrease by ca. 12.5% after the *Alice* decision, even compared to patents in the same CPC group.  Thus, my classification model is significanly better at identifying invalid patents than the technology classification by the USPTO alone.\n",
    "\n",
    "\n",
    "While this appears like a rather small shock, it should be noted that this decrease happens across a very large set of patents (in this example alone we classified more than one million patents), thus a shortfall of 12.5% translates into thousands of innovations that are not patent eligible anymore.  "
   ]
  },
  {
   "cell_type": "markdown",
   "id": "88472c35",
   "metadata": {},
   "source": [
    "We can expand on the simple OLS setting and control for CPC group and quarter fixed effects in a panel model."
   ]
  },
  {
   "cell_type": "code",
   "execution_count": 46,
   "id": "ed1a9730",
   "metadata": {},
   "outputs": [
    {
     "name": "stdout",
     "output_type": "stream",
     "text": [
      "                          PanelOLS Estimation Summary                           \n",
      "================================================================================\n",
      "Dep. Variable:              log_Count   R-squared:                        0.4544\n",
      "Estimator:                   PanelOLS   R-squared (Between):             -0.4337\n",
      "No. Observations:                5029   R-squared (Within):               0.4223\n",
      "Date:                Mon, Oct 30 2023   R-squared (Overall):             -0.2687\n",
      "Time:                        16:59:49   Log-likelihood                   -3995.3\n",
      "Cov. Estimator:             Clustered                                           \n",
      "                                        F-statistic:                      1917.7\n",
      "Entities:                         403   P-value                           0.0000\n",
      "Avg Obs:                       12.479   Distribution:                  F(2,4605)\n",
      "Min Obs:                       1.0000                                           \n",
      "Max Obs:                       40.000   F-statistic (robust):             146.79\n",
      "                                        P-value                           0.0000\n",
      "Time periods:                      20   Distribution:                  F(2,4605)\n",
      "Avg Obs:                       251.45                                           \n",
      "Min Obs:                       216.00                                           \n",
      "Max Obs:                       307.00                                           \n",
      "                                                                                \n",
      "                              Parameter Estimates                               \n",
      "================================================================================\n",
      "              Parameter  Std. Err.     T-stat    P-value    Lower CI    Upper CI\n",
      "--------------------------------------------------------------------------------\n",
      "Treated         -1.0642     0.0731    -14.553     0.0000     -1.2076     -0.9209\n",
      "Treated:Post    -0.1426     0.0457    -3.1185     0.0018     -0.2323     -0.0530\n",
      "================================================================================\n",
      "\n",
      "F-test for Poolability: 96.737\n",
      "P-value: 0.0000\n",
      "Distribution: F(421,4605)\n",
      "\n",
      "Included effects: Entity, Time\n"
     ]
    }
   ],
   "source": [
    "panel_df = agg_counts.copy()\n",
    "panel_df = panel_df.set_index(['group_id', 'quarter_issue_date_dt'])\n",
    "reg_fe = PanelOLS.from_formula(\n",
    "    formula='log_Count ~ Treated * Post + EntityEffects + TimeEffects',\n",
    "    data=panel_df, drop_absorbed=True).fit(\n",
    "            cov_type='clustered', cluster_entity=True, cluster_time=False)\n",
    "print(reg_fe)    "
   ]
  },
  {
   "cell_type": "markdown",
   "id": "09b7e1b6",
   "metadata": {},
   "source": [
    "Including fixed effects improves the fit substantially and shows an even larger and more significant decline of 14.2% for patent issuances predicted to be invalid by my model."
   ]
  },
  {
   "cell_type": "markdown",
   "id": "fee980dd",
   "metadata": {},
   "source": [
    "Since patent counts are discrete (and log transformations are problematic for discrete variables), I also implement two count models for the difference-in-differences estimation: a Poisson regression and a Negative Binomial model."
   ]
  },
  {
   "cell_type": "code",
   "execution_count": 47,
   "id": "ea2c506c",
   "metadata": {},
   "outputs": [
    {
     "name": "stdout",
     "output_type": "stream",
     "text": [
      "Optimization terminated successfully.\n",
      "         Current function value: 193.853419\n",
      "         Iterations 5\n",
      "Optimization terminated successfully.\n",
      "         Current function value: 4.006342\n",
      "         Iterations: 4\n",
      "         Function evaluations: 22\n",
      "         Gradient evaluations: 19\n",
      "                          Poisson Regression Results                          \n",
      "==============================================================================\n",
      "Dep. Variable:                  Count   No. Observations:                 5029\n",
      "Model:                        Poisson   Df Residuals:                     5025\n",
      "Method:                           MLE   Df Model:                            3\n",
      "Date:                Mon, 30 Oct 2023   Pseudo R-squ.:                 0.01710\n",
      "Time:                        16:59:49   Log-Likelihood:            -9.7489e+05\n",
      "converged:                       True   LL-Null:                   -9.9185e+05\n",
      "Covariance Type:            nonrobust   LLR p-value:                     0.000\n",
      "================================================================================\n",
      "                   coef    std err          z      P>|z|      [0.025      0.975]\n",
      "--------------------------------------------------------------------------------\n",
      "Intercept        4.3055      0.003   1390.725      0.000       4.299       4.312\n",
      "Treated         -0.6146      0.007    -89.120      0.000      -0.628      -0.601\n",
      "Post             0.0915      0.004     23.152      0.000       0.084       0.099\n",
      "Treated:Post    -0.2740      0.009    -29.539      0.000      -0.292      -0.256\n",
      "================================================================================\n"
     ]
    }
   ],
   "source": [
    "reg_poisson = poisson(formula='Count ~ Treated * Post',\n",
    "                      data=agg_counts).fit()\n",
    "reg_negbin = negativebinomial(formula='Count ~ Treated * Post',\n",
    "                              data=agg_counts).fit()\n",
    "\n",
    "print(reg_poisson.summary())"
   ]
  },
  {
   "cell_type": "code",
   "execution_count": 48,
   "id": "37fb92b1",
   "metadata": {},
   "outputs": [
    {
     "name": "stdout",
     "output_type": "stream",
     "text": [
      "                     NegativeBinomial Regression Results                      \n",
      "==============================================================================\n",
      "Dep. Variable:                  Count   No. Observations:                 5029\n",
      "Model:               NegativeBinomial   Df Residuals:                     5025\n",
      "Method:                           MLE   Df Model:                            3\n",
      "Date:                Mon, 30 Oct 2023   Pseudo R-squ.:                0.003634\n",
      "Time:                        16:59:49   Log-Likelihood:                -20148.\n",
      "converged:                       True   LL-Null:                       -20221.\n",
      "Covariance Type:            nonrobust   LLR p-value:                 1.196e-31\n",
      "================================================================================\n",
      "                   coef    std err          z      P>|z|      [0.025      0.975]\n",
      "--------------------------------------------------------------------------------\n",
      "Intercept        4.3055      0.053     80.518      0.000       4.201       4.410\n",
      "Treated         -0.6146      0.095     -6.477      0.000      -0.801      -0.429\n",
      "Post             0.0915      0.070      1.316      0.188      -0.045       0.228\n",
      "Treated:Post    -0.2740      0.124     -2.211      0.027      -0.517      -0.031\n",
      "alpha            4.0123      0.064     62.984      0.000       3.887       4.137\n",
      "================================================================================\n"
     ]
    }
   ],
   "source": [
    "print(reg_negbin.summary())"
   ]
  },
  {
   "cell_type": "markdown",
   "id": "8e0d3ac5",
   "metadata": {},
   "source": [
    "Looking at the outcome for the count model, we see that the coefficient for the difference-in-differences interaction terms shows that count of invalid patents decreases by ca. 1-exp(-0.27)=23.7% after *Alice* relativ to valid patents.  Thus, the effect of *Alice* and the performance of the model are even more pronounced when taking into account the discrete distribution of the outcome variable.  "
   ]
  },
  {
   "cell_type": "markdown",
   "id": "64d445fe",
   "metadata": {},
   "source": [
    "Consistent across all estimations, we find that the count of treated patents decreased following the *Alice* decision relative to the count of patents that are predicted to be valid.  Even within CPC groups that are most affected by *Alice*, the classification method identifies invalid patents consistently."
   ]
  },
  {
   "cell_type": "code",
   "execution_count": 49,
   "id": "8b63bbf0",
   "metadata": {},
   "outputs": [],
   "source": [
    "# Save sample data\n",
    "agg_counts.to_csv('example_data_for_analysis.csv', index=False)\n",
    "df.to_csv('example_data_classified_patents.csv', index=False)\n",
    "\n",
    "# Load Alice patent classification\n",
    "patent_classification_df = pd.read_csv(\n",
    "    'patent_classification' \n",
    "    + '/FullText__patents_cpcAffected__predicted__TFIDF_poly2_issued_patents_control.csv', \n",
    "    usecols=['patent_id', 'claim_sequence', '0', '1', 'predicted_label'],\n",
    "    low_memory=False)\n",
    "\n",
    "\n",
    "patent_classification_df.to_csv('example_data_claim_classification.csv', index=False)"
   ]
  }
 ],
 "metadata": {
  "kernelspec": {
   "display_name": "Python 3 (ipykernel)",
   "language": "python",
   "name": "python3"
  },
  "language_info": {
   "codemirror_mode": {
    "name": "ipython",
    "version": 3
   },
   "file_extension": ".py",
   "mimetype": "text/x-python",
   "name": "python",
   "nbconvert_exporter": "python",
   "pygments_lexer": "ipython3",
   "version": "3.11.0"
  }
 },
 "nbformat": 4,
 "nbformat_minor": 5
}
